{
  "nbformat": 4,
  "nbformat_minor": 0,
  "metadata": {
    "colab": {
      "provenance": []
    },
    "kernelspec": {
      "name": "python3",
      "display_name": "Python 3"
    },
    "language_info": {
      "name": "python"
    }
  },
  "cells": [
    {
      "cell_type": "code",
      "execution_count": null,
      "metadata": {
        "colab": {
          "base_uri": "https://localhost:8080/"
        },
        "id": "1kMWDWSzbTON",
        "outputId": "639670dc-5039-472e-8109-fdd2359dee82"
      },
      "outputs": [
        {
          "output_type": "execute_result",
          "data": {
            "text/plain": [
              "array([1, 0, 2, 1])"
            ]
          },
          "metadata": {},
          "execution_count": 1
        }
      ],
      "source": [
        "import numpy as np\n",
        "\n",
        "predictions = np.array([[0.2, 0.3, 0.1, 0.1, 0.3],\n",
        "                        [0.8, 0.1, 0.05, 0.02, 0.03],\n",
        "                        [0.1, 0.2, 0.6, 0.05, 0.05],\n",
        "                        [0.2, 0.42, 0, 0, 0.38]]\n",
        "                       )\n",
        "\n",
        "predicted_classes = np.argmax(predictions, axis=1)\n",
        "predicted_classes"
      ]
    },
    {
      "cell_type": "code",
      "source": [
        "confidence_scores = np.max(predictions, axis=1)\n",
        "confidence_scores"
      ],
      "metadata": {
        "colab": {
          "base_uri": "https://localhost:8080/"
        },
        "id": "yn2Zb3S5cNEM",
        "outputId": "75654017-e67d-40a8-f756-4bd2f8b8f754"
      },
      "execution_count": null,
      "outputs": [
        {
          "output_type": "execute_result",
          "data": {
            "text/plain": [
              "array([0.3 , 0.8 , 0.6 , 0.42])"
            ]
          },
          "metadata": {},
          "execution_count": 2
        }
      ]
    },
    {
      "cell_type": "code",
      "source": [
        "true_labels = np.array([4,0,2,4])\n",
        "low_confidence_threshold = 0.4\n",
        "high_confidence_threshold = 0.8\n",
        "\n",
        "low_confidence_samples = confidence_scores < low_confidence_threshold\n",
        "high_confidence_samples = confidence_scores > high_confidence_threshold\n",
        "\n",
        "incorrectly_classified_samples = predicted_classes != true_labels"
      ],
      "metadata": {
        "id": "qUVO4o8RcNGp"
      },
      "execution_count": null,
      "outputs": []
    },
    {
      "cell_type": "code",
      "source": [
        "def get_low_confidence_samples(predictions,low_confidence_threshold = 0.4):\n",
        "    n = len(predictions)\n",
        "    low = []\n",
        "    for i in range(n):\n",
        "        p = sorted(predictions[i])\n",
        "        if p[-1]<low_confidence_threshold or p[-1]-p[-2]<0.05:\n",
        "            low.append(True)\n",
        "        else:\n",
        "            low.append(False)\n",
        "    return np.array(low)\n",
        "\n",
        "def low_high_incorrect(true_labels, predictions,low_confidence_threshold = 0.4,high_confidence_threshold = 0.7):\n",
        "    predicted_classes = np.argmax(predictions, axis=1)\n",
        "    confidence_scores = np.max(predictions, axis=1)\n",
        "    low_confidence_samples = get_low_confidence_samples(predictions)\n",
        "    high_confidence_samples = confidence_scores >= high_confidence_threshold\n",
        "    incorrectly_classified_samples = predicted_classes != true_labels\n",
        "    return(low_confidence_samples, high_confidence_samples, incorrectly_classified_samples)"
      ],
      "metadata": {
        "id": "2NeawLxSzWP4"
      },
      "execution_count": null,
      "outputs": []
    },
    {
      "cell_type": "code",
      "source": [
        "low_confidence_samples = get_low_confidence_samples(predictions)"
      ],
      "metadata": {
        "id": "OUFat_9N0vlK"
      },
      "execution_count": null,
      "outputs": []
    },
    {
      "cell_type": "code",
      "source": [
        "low_confidence_samples, high_confidence_samples, incorrectly_classified_samples"
      ],
      "metadata": {
        "colab": {
          "base_uri": "https://localhost:8080/"
        },
        "id": "dUi-0rhpcNI6",
        "outputId": "4b8530d3-bde8-408d-83b1-ca4f5d7b3b50"
      },
      "execution_count": null,
      "outputs": [
        {
          "output_type": "execute_result",
          "data": {
            "text/plain": [
              "(array([ True, False, False,  True]),\n",
              " array([False, False, False, False]),\n",
              " array([ True, False, False,  True]))"
            ]
          },
          "metadata": {},
          "execution_count": 12
        }
      ]
    },
    {
      "cell_type": "code",
      "source": [
        "print(low_high_incorrect(true_labels, predictions))"
      ],
      "metadata": {
        "id": "Dh8me8XpdyCJ",
        "colab": {
          "base_uri": "https://localhost:8080/"
        },
        "outputId": "1292fea8-490c-4472-8f39-0294423cb687"
      },
      "execution_count": null,
      "outputs": [
        {
          "output_type": "stream",
          "name": "stdout",
          "text": [
            "(array([ True, False, False,  True]), array([False,  True, False, False]), array([ True, False, False,  True]))\n"
          ]
        }
      ]
    },
    {
      "cell_type": "code",
      "source": [],
      "metadata": {
        "id": "DOdwQfOLeCt4"
      },
      "execution_count": null,
      "outputs": []
    }
  ]
}