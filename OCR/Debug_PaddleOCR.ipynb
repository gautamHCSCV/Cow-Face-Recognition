{
  "nbformat": 4,
  "nbformat_minor": 0,
  "metadata": {
    "colab": {
      "provenance": []
    },
    "kernelspec": {
      "name": "python3",
      "display_name": "Python 3"
    },
    "language_info": {
      "name": "python"
    }
  },
  "cells": [
    {
      "cell_type": "code",
      "execution_count": 1,
      "metadata": {
        "id": "J77STUMWVc8y"
      },
      "outputs": [],
      "source": [
        "import os\n",
        "import numpy as np\n",
        "import pandas as pd\n",
        "import cv2\n",
        "import PIL.Image as Image"
      ]
    },
    {
      "cell_type": "code",
      "source": [
        "!python -m pip install paddlepaddle-gpu==2.5.0.post118 -f https://www.paddlepaddle.org.cn/whl/linux/mkl/avx/stable.html"
      ],
      "metadata": {
        "id": "Y8wjifGzXw-4",
        "colab": {
          "base_uri": "https://localhost:8080/"
        },
        "outputId": "861c8f5a-c36d-4b32-8279-b8a6c7b91c76"
      },
      "execution_count": null,
      "outputs": [
        {
          "output_type": "stream",
          "name": "stdout",
          "text": [
            "Looking in links: https://www.paddlepaddle.org.cn/whl/linux/mkl/avx/stable.html\n",
            "Collecting paddlepaddle-gpu==2.5.0.post118\n",
            "  Downloading https://paddle-wheel.bj.bcebos.com/2.5.0/linux/linux-gpu-cuda11.8-cudnn8.6-mkl-gcc8.2-avx/paddlepaddle_gpu-2.5.0.post118-cp310-cp310-linux_x86_64.whl (542.1 MB)\n",
            "\u001b[2K     \u001b[91m━\u001b[0m\u001b[90m╺\u001b[0m\u001b[90m━━━━━━━━━━━━━━━━━━━━━━━━━━━━━━━━━━━━━━\u001b[0m \u001b[32m14.1/542.1 MB\u001b[0m \u001b[31m2.9 MB/s\u001b[0m eta \u001b[36m0:03:00\u001b[0m"
          ]
        }
      ]
    },
    {
      "cell_type": "code",
      "source": [
        "%cd '/content/drive/MyDrive/OCR-SKU/PaddleOCR'\n",
        "!ls"
      ],
      "metadata": {
        "id": "-FEVIGsmVrYN"
      },
      "execution_count": null,
      "outputs": []
    },
    {
      "cell_type": "code",
      "source": [
        "!python -m pip install paddle2onnx\n",
        "!python -m pip install onnxruntime"
      ],
      "metadata": {
        "id": "UC2CDGXs-YPH",
        "colab": {
          "base_uri": "https://localhost:8080/"
        },
        "outputId": "c224d6a1-7b90-482b-f50b-46b1f06d0321"
      },
      "execution_count": null,
      "outputs": [
        {
          "output_type": "stream",
          "name": "stdout",
          "text": [
            "Requirement already satisfied: paddle2onnx in /usr/local/lib/python3.10/dist-packages (1.0.9)\n",
            "Collecting onnxruntime\n",
            "  Downloading onnxruntime-1.15.1-cp310-cp310-manylinux_2_17_x86_64.manylinux2014_x86_64.whl (5.9 MB)\n",
            "\u001b[2K     \u001b[90m━━━━━━━━━━━━━━━━━━━━━━━━━━━━━━━━━━━━━━━━\u001b[0m \u001b[32m5.9/5.9 MB\u001b[0m \u001b[31m48.9 MB/s\u001b[0m eta \u001b[36m0:00:00\u001b[0m\n",
            "\u001b[?25hCollecting coloredlogs (from onnxruntime)\n",
            "  Downloading coloredlogs-15.0.1-py2.py3-none-any.whl (46 kB)\n",
            "\u001b[2K     \u001b[90m━━━━━━━━━━━━━━━━━━━━━━━━━━━━━━━━━━━━━━━━\u001b[0m \u001b[32m46.0/46.0 kB\u001b[0m \u001b[31m6.1 MB/s\u001b[0m eta \u001b[36m0:00:00\u001b[0m\n",
            "\u001b[?25hRequirement already satisfied: flatbuffers in /usr/local/lib/python3.10/dist-packages (from onnxruntime) (23.5.26)\n",
            "Requirement already satisfied: numpy>=1.21.6 in /usr/local/lib/python3.10/dist-packages (from onnxruntime) (1.23.5)\n",
            "Requirement already satisfied: packaging in /usr/local/lib/python3.10/dist-packages (from onnxruntime) (23.1)\n",
            "Requirement already satisfied: protobuf in /usr/local/lib/python3.10/dist-packages (from onnxruntime) (3.20.3)\n",
            "Requirement already satisfied: sympy in /usr/local/lib/python3.10/dist-packages (from onnxruntime) (1.12)\n",
            "Collecting humanfriendly>=9.1 (from coloredlogs->onnxruntime)\n",
            "  Downloading humanfriendly-10.0-py2.py3-none-any.whl (86 kB)\n",
            "\u001b[2K     \u001b[90m━━━━━━━━━━━━━━━━━━━━━━━━━━━━━━━━━━━━━━━━\u001b[0m \u001b[32m86.8/86.8 kB\u001b[0m \u001b[31m10.2 MB/s\u001b[0m eta \u001b[36m0:00:00\u001b[0m\n",
            "\u001b[?25hRequirement already satisfied: mpmath>=0.19 in /usr/local/lib/python3.10/dist-packages (from sympy->onnxruntime) (1.3.0)\n",
            "Installing collected packages: humanfriendly, coloredlogs, onnxruntime\n",
            "Successfully installed coloredlogs-15.0.1 humanfriendly-10.0 onnxruntime-1.15.1\n"
          ]
        }
      ]
    },
    {
      "cell_type": "code",
      "source": [
        "!paddle2onnx --model_dir ./inference/en_PP-OCRv3_rec_infer/new_model/ \\\n",
        "--model_filename inference.pdmodel \\\n",
        "--params_filename inference.pdiparams \\\n",
        "--save_file ./inference/rec_onnx/model1.onnx \\\n",
        "--opset_version 10 \\\n",
        "--input_shape_dict=\"{'x':[-1,3,-1,-1]}\" \\\n",
        "--enable_onnx_checker True"
      ],
      "metadata": {
        "id": "lnZqmcYfC7FF",
        "colab": {
          "base_uri": "https://localhost:8080/"
        },
        "outputId": "dc407d91-abdb-4b30-9353-fcdee8eaa2c3"
      },
      "execution_count": null,
      "outputs": [
        {
          "output_type": "stream",
          "name": "stdout",
          "text": [
            "\u001b[1;31;40m2023-08-22 12:11:46 [WARNING]\t[Deprecated] The flag `--input_shape_dict` is deprecated, if you need to modify the input shape of PaddlePaddle model, please refer to this tool https://github.com/jiangjiajun/PaddleUtils/tree/main/paddle \u001b[0m\n",
            "[Paddle2ONNX] Start to parse PaddlePaddle model...\n",
            "[Paddle2ONNX] Model file path: ./inference/en_PP-OCRv3_rec_infer/new_model/inference.pdmodel\n",
            "[Paddle2ONNX] Paramters file path: ./inference/en_PP-OCRv3_rec_infer/new_model/inference.pdiparams\n",
            "[Paddle2ONNX] Start to parsing Paddle model...\n",
            "[Paddle2ONNX] Use opset_version = 10 for ONNX export.\n",
            "[Paddle2ONNX] PaddlePaddle model is exported as ONNX format now.\n",
            "2023-08-22 12:11:46 [INFO]\t===============Make PaddlePaddle Better!================\n",
            "2023-08-22 12:11:46 [INFO]\tA little survey: https://iwenjuan.baidu.com/?code=r8hu2s\n"
          ]
        }
      ]
    },
    {
      "cell_type": "code",
      "source": [
        "!python tools/infer/predict_system.py --use_gpu=False --use_onnx=True \\\n",
        "--det_model_dir=./inference/det_onnx/model1.onnx  \\\n",
        "--rec_model_dir=./inference/rec_onnx/model1.onnx  \\\n",
        "--cls_model_dir=./inference/cls_onnx/model1.onnx  \\\n",
        "--image_dir '/content/IMG-20230708-WA0009.jpg' \\\n",
        "--rec_char_dict_path=ppocr/utils/en_dict.txt"
      ],
      "metadata": {
        "colab": {
          "base_uri": "https://localhost:8080/"
        },
        "id": "pC-DRwsh5wSk",
        "outputId": "6f0aa437-2adf-4cac-d02d-bc3bbbbb6895"
      },
      "execution_count": null,
      "outputs": [
        {
          "output_type": "stream",
          "name": "stdout",
          "text": [
            "p2o.DynamicDimension.1 p2o.DynamicDimension.2 ['p2o.DynamicDimension.1', 'p2o.DynamicDimension.2']\n",
            "Traceback (most recent call last):\n",
            "  File \"/content/drive/MyDrive/OCR-SKU/PaddleOCR/tools/infer/predict_system.py\", line 272, in <module>\n",
            "    main(args)\n",
            "  File \"/content/drive/MyDrive/OCR-SKU/PaddleOCR/tools/infer/predict_system.py\", line 150, in main\n",
            "    text_sys = TextSystem(args)\n",
            "  File \"/content/drive/MyDrive/OCR-SKU/PaddleOCR/tools/infer/predict_system.py\", line 46, in __init__\n",
            "    self.text_detector = predict_det.TextDetector(args)\n",
            "  File \"/content/drive/MyDrive/OCR-SKU/PaddleOCR/tools/infer/predict_det.py\", line 147, in __init__\n",
            "    if img_h is not None and img_w is not None and img_h > 0 and img_w > 0:\n",
            "TypeError: '>' not supported between instances of 'str' and 'int'\n"
          ]
        }
      ]
    },
    {
      "cell_type": "code",
      "source": [],
      "metadata": {
        "id": "gpXoNIoD8vAV"
      },
      "execution_count": null,
      "outputs": []
    },
    {
      "cell_type": "code",
      "source": [
        "!python paddle_infer_shape.py --model_dir 'inference//ch_ppocr_mobile_v2.0_cls_infer' \\\n",
        "                             --model_filename inference.pdmodel \\\n",
        "                             --params_filename inference.pdiparams \\\n",
        "                             --save_dir new_model \\\n",
        "                             --input_shape_dict=\"{'x':[-1,3,-1,-1]}\""
      ],
      "metadata": {
        "id": "NdMalzm6-ogV",
        "colab": {
          "base_uri": "https://localhost:8080/"
        },
        "outputId": "eff5a7a6-d6e8-4fe6-a2d8-5a5b3d432e88"
      },
      "execution_count": null,
      "outputs": [
        {
          "output_type": "stream",
          "name": "stdout",
          "text": [
            "Start to load paddle model...\n",
            "I0822 12:06:57.940328 17789 interpretercore.cc:237] New Executor is Running.\n"
          ]
        }
      ]
    },
    {
      "cell_type": "code",
      "source": [
        "!pip install -r requirements.txt"
      ],
      "metadata": {
        "id": "3BH04aySXFsI"
      },
      "execution_count": null,
      "outputs": []
    },
    {
      "cell_type": "code",
      "source": [
        "!ls tools/infer"
      ],
      "metadata": {
        "colab": {
          "base_uri": "https://localhost:8080/"
        },
        "id": "HdH_trSGVraT",
        "outputId": "965ae4c1-47f2-4be9-9fd0-583ab114a859"
      },
      "execution_count": null,
      "outputs": [
        {
          "output_type": "stream",
          "name": "stdout",
          "text": [
            "predict_cls.py\tpredict_e2e.py\tpredict_sr.py\t   utility.py\n",
            "predict_det.py\tpredict_rec.py\tpredict_system.py\n"
          ]
        }
      ]
    },
    {
      "cell_type": "code",
      "source": [
        "!python3 paddleocr.py -i '/content/IMG-20230708-WA0040.jpg' -lang 'en' -use_gpu 'False'"
      ],
      "metadata": {
        "colab": {
          "base_uri": "https://localhost:8080/"
        },
        "id": "3UKcxhHjVreJ",
        "outputId": "2dc61d51-22a5-4ad9-c15e-148dc037ae8f"
      },
      "execution_count": null,
      "outputs": [
        {
          "output_type": "stream",
          "name": "stdout",
          "text": [
            "/usr/local/lib/python3.10/dist-packages/paddle/fluid/framework.py:549: UserWarning: You are using GPU version Paddle, but your CUDA device is not set properly. CPU device will be used by default.\n",
            "  warnings.warn(\n"
          ]
        }
      ]
    },
    {
      "cell_type": "code",
      "source": [
        "#!tar -xvf \"ch_ppocr_mobile_v2.0_cls_infer.tar\""
      ],
      "metadata": {
        "colab": {
          "base_uri": "https://localhost:8080/"
        },
        "id": "EB5X4cxCfVIE",
        "outputId": "52f220a0-822c-42b7-e922-696662758640"
      },
      "execution_count": null,
      "outputs": [
        {
          "output_type": "stream",
          "name": "stdout",
          "text": [
            "ch_ppocr_mobile_v2.0_cls_infer/\n",
            "ch_ppocr_mobile_v2.0_cls_infer/inference.pdiparams.info\n",
            "ch_ppocr_mobile_v2.0_cls_infer/._inference.pdmodel\n",
            "tar: Ignoring unknown extended header keyword 'LIBARCHIVE.xattr.com.apple.lastuseddate#PS'\n",
            "ch_ppocr_mobile_v2.0_cls_infer/inference.pdmodel\n",
            "ch_ppocr_mobile_v2.0_cls_infer/inference.pdiparams\n"
          ]
        }
      ]
    },
    {
      "cell_type": "code",
      "source": [
        "!ls inference/"
      ],
      "metadata": {
        "colab": {
          "base_uri": "https://localhost:8080/"
        },
        "id": "8WpAN-_Vfb0w",
        "outputId": "88e55246-5ea6-4d70-f968-f35a849c2a6c"
      },
      "execution_count": null,
      "outputs": [
        {
          "output_type": "stream",
          "name": "stdout",
          "text": [
            "ch_ppocr_mobile_v2.0_cls_infer\t    en_PP-OCRv3_det_infer.tar\n",
            "ch_ppocr_mobile_v2.0_cls_infer.tar  en_PP-OCRv3_rec_infer\n",
            "en_PP-OCRv3_det_infer\t\t    en_PP-OCRv3_rec_infer.tar\n"
          ]
        }
      ]
    },
    {
      "cell_type": "code",
      "source": [
        "!python3 tools/infer/predict_system.py \\\n",
        "        --image_dir=\"/content/IMG-20230708-WA0040.jpg\" \\\n",
        "        --det_model_dir=\"./inference/en_PP-OCRv3_det_infer/\"  \\\n",
        "        --rec_model_dir=\"./inference/en_PP-OCRv3_rec_infer/\" \\\n",
        "        --cls_model_dir=\"./inference/ch_ppocr_mobile_v2.0_cls_infer/\" \\\n",
        "        --use_angle_cls=True \\\n",
        "        --use_gpu=False"
      ],
      "metadata": {
        "colab": {
          "base_uri": "https://localhost:8080/"
        },
        "id": "Qdd35HSacMkl",
        "outputId": "916dc505-7651-4d62-a528-a20d00b68b0d"
      },
      "execution_count": null,
      "outputs": [
        {
          "output_type": "stream",
          "name": "stdout",
          "text": [
            "/usr/local/lib/python3.10/dist-packages/paddle/fluid/framework.py:549: UserWarning: You are using GPU version Paddle, but your CUDA device is not set properly. CPU device will be used by default.\n",
            "  warnings.warn(\n",
            "[2023/08/04 12:33:25] ppocr INFO: In PP-OCRv3, rec_image_shape parameter defaults to '3, 48, 320', if you are using recognition model with PP-OCRv2 or an older version, please set --rec_image_shape='3,32,320\n",
            "[2023/08/04 12:33:25] ppocr DEBUG: dt_boxes num : 7, elapsed : 0.5487143993377686\n",
            "[2023/08/04 12:33:25] ppocr DEBUG: cls num  : 7, elapsed : 0.07156610488891602\n",
            "[2023/08/04 12:33:26] ppocr DEBUG: rec_res num  : 7, elapsed : 0.693181037902832\n",
            "[2023/08/04 12:33:26] ppocr DEBUG: 0  Predict time of /content/IMG-20230708-WA0040.jpg: 1.320s\n",
            "[2023/08/04 12:33:26] ppocr DEBUG: 骑20]]0>妇鲶其汴，-, 0.974\n",
            "[2023/08/04 12:33:26] ppocr DEBUG: 与:路房鲶>:, 0.959\n",
            "[2023/08/04 12:33:26] ppocr DEBUG: 其原妇1路汴刈房, 0.986\n",
            "[2023/08/04 12:33:26] ppocr DEBUG: 房傈]0，安鲶路汴刈房, 0.969\n",
            "[2023/08/04 12:33:26] ppocr DEBUG: 妇，:骑骑鲶昏房0妇2刈更疗疗1疗鲶-妇, 0.911\n",
            "[2023/08/04 12:33:26] ppocr DEBUG: 疗''傈疗''专, 0.980\n",
            "[2023/08/04 12:33:26] ppocr DEBUG: >房刈昏房0妇2刈, 0.991\n",
            "[2023/08/04 12:33:26] ppocr DEBUG: The visualized image saved in ./inference_results/IMG-20230708-WA0040.jpg\n",
            "[2023/08/04 12:33:26] ppocr INFO: The predict total time is 1.4978811740875244\n"
          ]
        }
      ]
    },
    {
      "cell_type": "code",
      "source": [
        "!paddleocr --image_dir '/content/IMG-20230708-WA0040.jpg' --use_angle_cls True --lang 'en' --use_gpu False\\\n",
        "--det_model_dir=\"./inference/en_PP-OCRv3_det_infer/\"  \\\n",
        "--rec_model_dir=\"./inference/en_PP-OCRv3_rec_infer/\" \\\n",
        "--cls_model_dir=\"./inference/ch_ppocr_mobile_v2.0_cls_infer/\""
      ],
      "metadata": {
        "colab": {
          "base_uri": "https://localhost:8080/"
        },
        "id": "-NikcfRBjKWh",
        "outputId": "063c4455-e066-4cc2-d800-093bf2b62aaa"
      },
      "execution_count": null,
      "outputs": [
        {
          "output_type": "stream",
          "name": "stdout",
          "text": [
            "/usr/local/lib/python3.10/dist-packages/paddle/fluid/framework.py:549: UserWarning: You are using GPU version Paddle, but your CUDA device is not set properly. CPU device will be used by default.\n",
            "  warnings.warn(\n",
            "[2023/08/04 12:46:59] ppocr DEBUG: Namespace(help='==SUPPRESS==', use_gpu=False, use_xpu=False, use_npu=False, use_mlu=False, ir_optim=True, use_tensorrt=False, min_subgraph_size=15, precision='fp32', gpu_mem=500, gpu_id=0, image_dir='/content/IMG-20230708-WA0040.jpg', page_num=0, det_algorithm='DB', det_model_dir='./inference/en_PP-OCRv3_det_infer/', det_limit_side_len=960, det_limit_type='max', det_box_type='quad', det_db_thresh=0.3, det_db_box_thresh=0.6, det_db_unclip_ratio=1.5, max_batch_size=10, use_dilation=False, det_db_score_mode='fast', det_east_score_thresh=0.8, det_east_cover_thresh=0.1, det_east_nms_thresh=0.2, det_sast_score_thresh=0.5, det_sast_nms_thresh=0.2, det_pse_thresh=0, det_pse_box_thresh=0.85, det_pse_min_area=16, det_pse_scale=1, scales=[8, 16, 32], alpha=1.0, beta=1.0, fourier_degree=5, rec_algorithm='SVTR_LCNet', rec_model_dir='./inference/en_PP-OCRv3_rec_infer/', rec_image_inverse=True, rec_image_shape='3, 48, 320', rec_batch_num=6, max_text_length=25, rec_char_dict_path='/usr/local/lib/python3.10/dist-packages/paddleocr/ppocr/utils/en_dict.txt', use_space_char=True, vis_font_path='./doc/fonts/simfang.ttf', drop_score=0.5, e2e_algorithm='PGNet', e2e_model_dir=None, e2e_limit_side_len=768, e2e_limit_type='max', e2e_pgnet_score_thresh=0.5, e2e_char_dict_path='./ppocr/utils/ic15_dict.txt', e2e_pgnet_valid_set='totaltext', e2e_pgnet_mode='fast', use_angle_cls=True, cls_model_dir='./inference/ch_ppocr_mobile_v2.0_cls_infer/', cls_image_shape='3, 48, 192', label_list=['0', '180'], cls_batch_num=6, cls_thresh=0.9, enable_mkldnn=False, cpu_threads=10, use_pdserving=False, warmup=False, sr_model_dir=None, sr_image_shape='3, 32, 128', sr_batch_num=1, draw_img_save_dir='./inference_results', save_crop_res=False, crop_res_save_dir='./output', use_mp=False, total_process_num=1, process_id=0, benchmark=False, save_log_path='./log_output/', show_log=True, use_onnx=False, output='./output', table_max_len=488, table_algorithm='TableAttn', table_model_dir=None, merge_no_span_structure=True, table_char_dict_path=None, layout_model_dir=None, layout_dict_path=None, layout_score_threshold=0.5, layout_nms_threshold=0.5, kie_algorithm='LayoutXLM', ser_model_dir=None, re_model_dir=None, use_visual_backbone=True, ser_dict_path='../train_data/XFUND/class_list_xfun.txt', ocr_order_method=None, mode='structure', image_orientation=False, layout=True, table=True, ocr=True, recovery=False, use_pdf2docx_api=False, invert=False, binarize=False, alphacolor=(255, 255, 255), lang='en', det=True, rec=True, type='ocr', ocr_version='PP-OCRv3', structure_version='PP-StructureV2')\n",
            "[2023/08/04 12:47:00] ppocr INFO: **********/content/IMG-20230708-WA0040.jpg**********\n",
            "[2023/08/04 12:47:01] ppocr DEBUG: dt_boxes num : 7, elapsed : 0.6668376922607422\n",
            "[2023/08/04 12:47:01] ppocr DEBUG: cls num  : 7, elapsed : 0.08036422729492188\n",
            "[2023/08/04 12:47:01] ppocr DEBUG: rec_res num  : 7, elapsed : 0.750119686126709\n",
            "[2023/08/04 12:47:01] ppocr INFO: [[[452.0, 76.0], [751.0, 65.0], [752.0, 105.0], [453.0, 116.0]], ('SHIPPING MARK', 0.9740670919418335)]\n",
            "[2023/08/04 12:47:01] ppocr INFO: [[[454.0, 137.0], [611.0, 131.0], [613.0, 172.0], [456.0, 178.0]], ('CODE NO', 0.9591479897499084)]\n",
            "[2023/08/04 12:47:01] ppocr INFO: [[[458.0, 197.0], [640.0, 190.0], [642.0, 231.0], [460.0, 238.0]], ('MFG.DATE', 0.9856464862823486)]\n",
            "[2023/08/04 12:47:01] ppocr INFO: [[[462.0, 258.0], [686.0, 246.0], [689.0, 286.0], [464.0, 298.0]], ('EXPIRY DATE', 0.9688172936439514)]\n",
            "[2023/08/04 12:47:01] ppocr INFO: [[[469.0, 318.0], [891.0, 295.0], [893.0, 331.0], [471.0, 354.0]], ('GROSS WEIGHT:11.1 KG', 0.910967230796814)]\n",
            "[2023/08/04 12:47:01] ppocr INFO: [[[745.0, 358.0], [959.0, 349.0], [961.0, 389.0], [747.0, 398.0]], ('100X100g', 0.9803212881088257)]\n",
            "[2023/08/04 12:47:01] ppocr INFO: [[[470.0, 376.0], [678.0, 363.0], [681.0, 400.0], [472.0, 413.0]], ('NETWEIGHT', 0.9905535578727722)]\n"
          ]
        }
      ]
    },
    {
      "cell_type": "code",
      "source": [
        "!pip install ."
      ],
      "metadata": {
        "colab": {
          "base_uri": "https://localhost:8080/"
        },
        "id": "GkABZfokjKYz",
        "outputId": "ae181256-3d70-42dc-ca21-3b7e0e06d1b6"
      },
      "execution_count": null,
      "outputs": [
        {
          "output_type": "stream",
          "name": "stdout",
          "text": [
            "Processing /content/drive/MyDrive/OCR-SKU/PaddleOCR\n",
            "  Preparing metadata (setup.py) ... \u001b[?25l\u001b[?25hdone\n",
            "Requirement already satisfied: shapely in /usr/local/lib/python3.10/dist-packages (from paddleocr==2.6.1.0) (2.0.1)\n",
            "Requirement already satisfied: scikit-image in /usr/local/lib/python3.10/dist-packages (from paddleocr==2.6.1.0) (0.19.3)\n",
            "Requirement already satisfied: imgaug in /usr/local/lib/python3.10/dist-packages (from paddleocr==2.6.1.0) (0.4.0)\n",
            "Requirement already satisfied: pyclipper in /usr/local/lib/python3.10/dist-packages (from paddleocr==2.6.1.0) (1.3.0.post4)\n",
            "Requirement already satisfied: lmdb in /usr/local/lib/python3.10/dist-packages (from paddleocr==2.6.1.0) (1.4.1)\n",
            "Requirement already satisfied: tqdm in /usr/local/lib/python3.10/dist-packages (from paddleocr==2.6.1.0) (4.65.0)\n",
            "Requirement already satisfied: numpy in /usr/local/lib/python3.10/dist-packages (from paddleocr==2.6.1.0) (1.22.4)\n",
            "Requirement already satisfied: visualdl in /usr/local/lib/python3.10/dist-packages (from paddleocr==2.6.1.0) (2.5.3)\n",
            "Requirement already satisfied: rapidfuzz in /usr/local/lib/python3.10/dist-packages (from paddleocr==2.6.1.0) (3.2.0)\n",
            "Requirement already satisfied: opencv-python==4.6.0.66 in /usr/local/lib/python3.10/dist-packages (from paddleocr==2.6.1.0) (4.6.0.66)\n",
            "Requirement already satisfied: opencv-contrib-python==4.6.0.66 in /usr/local/lib/python3.10/dist-packages (from paddleocr==2.6.1.0) (4.6.0.66)\n",
            "Requirement already satisfied: cython in /usr/local/lib/python3.10/dist-packages (from paddleocr==2.6.1.0) (0.29.36)\n",
            "Requirement already satisfied: lxml in /usr/local/lib/python3.10/dist-packages (from paddleocr==2.6.1.0) (4.9.3)\n",
            "Requirement already satisfied: premailer in /usr/local/lib/python3.10/dist-packages (from paddleocr==2.6.1.0) (3.10.0)\n",
            "Requirement already satisfied: openpyxl in /usr/local/lib/python3.10/dist-packages (from paddleocr==2.6.1.0) (3.0.10)\n",
            "Requirement already satisfied: attrdict in /usr/local/lib/python3.10/dist-packages (from paddleocr==2.6.1.0) (2.0.1)\n",
            "Requirement already satisfied: Polygon3 in /usr/local/lib/python3.10/dist-packages (from paddleocr==2.6.1.0) (3.0.9.1)\n",
            "Requirement already satisfied: lanms-neo==1.0.2 in /usr/local/lib/python3.10/dist-packages (from paddleocr==2.6.1.0) (1.0.2)\n",
            "Requirement already satisfied: PyMuPDF<1.21.0 in /usr/local/lib/python3.10/dist-packages (from paddleocr==2.6.1.0) (1.20.2)\n",
            "Collecting python-docx (from paddleocr==2.6.1.0)\n",
            "  Downloading python-docx-0.8.11.tar.gz (5.6 MB)\n",
            "\u001b[2K     \u001b[90m━━━━━━━━━━━━━━━━━━━━━━━━━━━━━━━━━━━━━━━━\u001b[0m \u001b[32m5.6/5.6 MB\u001b[0m \u001b[31m16.6 MB/s\u001b[0m eta \u001b[36m0:00:00\u001b[0m\n",
            "\u001b[?25h  Preparing metadata (setup.py) ... \u001b[?25l\u001b[?25hdone\n",
            "Requirement already satisfied: beautifulsoup4 in /usr/local/lib/python3.10/dist-packages (from paddleocr==2.6.1.0) (4.11.2)\n",
            "Requirement already satisfied: fonttools>=4.24.0 in /usr/local/lib/python3.10/dist-packages (from paddleocr==2.6.1.0) (4.41.1)\n",
            "Collecting fire>=0.3.0 (from paddleocr==2.6.1.0)\n",
            "  Downloading fire-0.5.0.tar.gz (88 kB)\n",
            "\u001b[2K     \u001b[90m━━━━━━━━━━━━━━━━━━━━━━━━━━━━━━━━━━━━━━━━\u001b[0m \u001b[32m88.3/88.3 kB\u001b[0m \u001b[31m9.9 MB/s\u001b[0m eta \u001b[36m0:00:00\u001b[0m\n",
            "\u001b[?25h  Preparing metadata (setup.py) ... \u001b[?25l\u001b[?25hdone\n",
            "Collecting pdf2docx (from paddleocr==2.6.1.0)\n",
            "  Downloading pdf2docx-0.5.6-py3-none-any.whl (148 kB)\n",
            "\u001b[2K     \u001b[90m━━━━━━━━━━━━━━━━━━━━━━━━━━━━━━━━━━━━━━\u001b[0m \u001b[32m148.4/148.4 kB\u001b[0m \u001b[31m16.9 MB/s\u001b[0m eta \u001b[36m0:00:00\u001b[0m\n",
            "\u001b[?25hRequirement already satisfied: six in /usr/local/lib/python3.10/dist-packages (from fire>=0.3.0->paddleocr==2.6.1.0) (1.16.0)\n",
            "Requirement already satisfied: termcolor in /usr/local/lib/python3.10/dist-packages (from fire>=0.3.0->paddleocr==2.6.1.0) (2.3.0)\n",
            "Requirement already satisfied: soupsieve>1.2 in /usr/local/lib/python3.10/dist-packages (from beautifulsoup4->paddleocr==2.6.1.0) (2.4.1)\n",
            "Requirement already satisfied: scipy in /usr/local/lib/python3.10/dist-packages (from imgaug->paddleocr==2.6.1.0) (1.10.1)\n",
            "Requirement already satisfied: Pillow in /usr/local/lib/python3.10/dist-packages (from imgaug->paddleocr==2.6.1.0) (9.4.0)\n",
            "Requirement already satisfied: matplotlib in /usr/local/lib/python3.10/dist-packages (from imgaug->paddleocr==2.6.1.0) (3.7.1)\n",
            "Requirement already satisfied: imageio in /usr/local/lib/python3.10/dist-packages (from imgaug->paddleocr==2.6.1.0) (2.25.1)\n",
            "Requirement already satisfied: networkx>=2.2 in /usr/local/lib/python3.10/dist-packages (from scikit-image->paddleocr==2.6.1.0) (3.1)\n",
            "Requirement already satisfied: tifffile>=2019.7.26 in /usr/local/lib/python3.10/dist-packages (from scikit-image->paddleocr==2.6.1.0) (2023.7.18)\n",
            "Requirement already satisfied: PyWavelets>=1.1.1 in /usr/local/lib/python3.10/dist-packages (from scikit-image->paddleocr==2.6.1.0) (1.4.1)\n",
            "Requirement already satisfied: packaging>=20.0 in /usr/local/lib/python3.10/dist-packages (from scikit-image->paddleocr==2.6.1.0) (23.1)\n",
            "Requirement already satisfied: et-xmlfile in /usr/local/lib/python3.10/dist-packages (from openpyxl->paddleocr==2.6.1.0) (1.1.0)\n",
            "Requirement already satisfied: cssselect in /usr/local/lib/python3.10/dist-packages (from premailer->paddleocr==2.6.1.0) (1.2.0)\n",
            "Requirement already satisfied: cssutils in /usr/local/lib/python3.10/dist-packages (from premailer->paddleocr==2.6.1.0) (2.7.1)\n",
            "Requirement already satisfied: requests in /usr/local/lib/python3.10/dist-packages (from premailer->paddleocr==2.6.1.0) (2.27.1)\n",
            "Requirement already satisfied: cachetools in /usr/local/lib/python3.10/dist-packages (from premailer->paddleocr==2.6.1.0) (5.3.1)\n",
            "Requirement already satisfied: bce-python-sdk in /usr/local/lib/python3.10/dist-packages (from visualdl->paddleocr==2.6.1.0) (0.8.87)\n",
            "Requirement already satisfied: flask>=1.1.1 in /usr/local/lib/python3.10/dist-packages (from visualdl->paddleocr==2.6.1.0) (2.2.5)\n",
            "Requirement already satisfied: Flask-Babel>=3.0.0 in /usr/local/lib/python3.10/dist-packages (from visualdl->paddleocr==2.6.1.0) (3.1.0)\n",
            "Requirement already satisfied: protobuf>=3.20.0 in /usr/local/lib/python3.10/dist-packages (from visualdl->paddleocr==2.6.1.0) (3.20.3)\n",
            "Requirement already satisfied: pandas in /usr/local/lib/python3.10/dist-packages (from visualdl->paddleocr==2.6.1.0) (1.5.3)\n",
            "Requirement already satisfied: rarfile in /usr/local/lib/python3.10/dist-packages (from visualdl->paddleocr==2.6.1.0) (4.0)\n",
            "Requirement already satisfied: psutil in /usr/local/lib/python3.10/dist-packages (from visualdl->paddleocr==2.6.1.0) (5.9.5)\n",
            "Requirement already satisfied: Werkzeug>=2.2.2 in /usr/local/lib/python3.10/dist-packages (from flask>=1.1.1->visualdl->paddleocr==2.6.1.0) (2.3.6)\n",
            "Requirement already satisfied: Jinja2>=3.0 in /usr/local/lib/python3.10/dist-packages (from flask>=1.1.1->visualdl->paddleocr==2.6.1.0) (3.1.2)\n",
            "Requirement already satisfied: itsdangerous>=2.0 in /usr/local/lib/python3.10/dist-packages (from flask>=1.1.1->visualdl->paddleocr==2.6.1.0) (2.1.2)\n",
            "Requirement already satisfied: click>=8.0 in /usr/local/lib/python3.10/dist-packages (from flask>=1.1.1->visualdl->paddleocr==2.6.1.0) (8.1.6)\n",
            "Requirement already satisfied: Babel>=2.12 in /usr/local/lib/python3.10/dist-packages (from Flask-Babel>=3.0.0->visualdl->paddleocr==2.6.1.0) (2.12.1)\n",
            "Requirement already satisfied: pytz>=2022.7 in /usr/local/lib/python3.10/dist-packages (from Flask-Babel>=3.0.0->visualdl->paddleocr==2.6.1.0) (2022.7.1)\n",
            "Requirement already satisfied: pycryptodome>=3.8.0 in /usr/local/lib/python3.10/dist-packages (from bce-python-sdk->visualdl->paddleocr==2.6.1.0) (3.18.0)\n",
            "Requirement already satisfied: future>=0.6.0 in /usr/local/lib/python3.10/dist-packages (from bce-python-sdk->visualdl->paddleocr==2.6.1.0) (0.18.3)\n",
            "Requirement already satisfied: contourpy>=1.0.1 in /usr/local/lib/python3.10/dist-packages (from matplotlib->imgaug->paddleocr==2.6.1.0) (1.1.0)\n",
            "Requirement already satisfied: cycler>=0.10 in /usr/local/lib/python3.10/dist-packages (from matplotlib->imgaug->paddleocr==2.6.1.0) (0.11.0)\n",
            "Requirement already satisfied: kiwisolver>=1.0.1 in /usr/local/lib/python3.10/dist-packages (from matplotlib->imgaug->paddleocr==2.6.1.0) (1.4.4)\n",
            "Requirement already satisfied: pyparsing>=2.3.1 in /usr/local/lib/python3.10/dist-packages (from matplotlib->imgaug->paddleocr==2.6.1.0) (3.1.0)\n",
            "Requirement already satisfied: python-dateutil>=2.7 in /usr/local/lib/python3.10/dist-packages (from matplotlib->imgaug->paddleocr==2.6.1.0) (2.8.2)\n",
            "Requirement already satisfied: urllib3<1.27,>=1.21.1 in /usr/local/lib/python3.10/dist-packages (from requests->premailer->paddleocr==2.6.1.0) (1.26.16)\n",
            "Requirement already satisfied: certifi>=2017.4.17 in /usr/local/lib/python3.10/dist-packages (from requests->premailer->paddleocr==2.6.1.0) (2023.7.22)\n",
            "Requirement already satisfied: charset-normalizer~=2.0.0 in /usr/local/lib/python3.10/dist-packages (from requests->premailer->paddleocr==2.6.1.0) (2.0.12)\n",
            "Requirement already satisfied: idna<4,>=2.5 in /usr/local/lib/python3.10/dist-packages (from requests->premailer->paddleocr==2.6.1.0) (3.4)\n",
            "Requirement already satisfied: MarkupSafe>=2.0 in /usr/local/lib/python3.10/dist-packages (from Jinja2>=3.0->flask>=1.1.1->visualdl->paddleocr==2.6.1.0) (2.1.3)\n",
            "Building wheels for collected packages: paddleocr, fire, python-docx\n",
            "  Building wheel for paddleocr (setup.py) ... \u001b[?25l\u001b[?25hdone\n",
            "  Created wheel for paddleocr: filename=paddleocr-2.6.1.0-py3-none-any.whl size=403674 sha256=66e7140771ada88a5dc10ab9910dffb9fe5fac5396cc1972fca915ff40258c80\n",
            "  Stored in directory: /tmp/pip-ephem-wheel-cache-ct_oq88z/wheels/bb/dd/6d/21a3aeec779c8005a08c58b24481efd005a55f3a107bcace77\n",
            "  Building wheel for fire (setup.py) ... \u001b[?25l\u001b[?25hdone\n",
            "  Created wheel for fire: filename=fire-0.5.0-py2.py3-none-any.whl size=116932 sha256=df5c6aafabee9d153c8e22e76f314c4412b799c487be670a86c6c965134476cf\n",
            "  Stored in directory: /root/.cache/pip/wheels/90/d4/f7/9404e5db0116bd4d43e5666eaa3e70ab53723e1e3ea40c9a95\n",
            "  Building wheel for python-docx (setup.py) ... \u001b[?25l\u001b[?25hdone\n",
            "  Created wheel for python-docx: filename=python_docx-0.8.11-py3-none-any.whl size=184489 sha256=d0a42301c9026fe08ddef2b6e5ff5fbb82c66061b72e596955c100a7e442bd9d\n",
            "  Stored in directory: /root/.cache/pip/wheels/80/27/06/837436d4c3bd989b957a91679966f207bfd71d358d63a8194d\n",
            "Successfully built paddleocr fire python-docx\n",
            "Installing collected packages: python-docx, fire, pdf2docx, paddleocr\n",
            "Successfully installed fire-0.5.0 paddleocr-2.6.1.0 pdf2docx-0.5.6 python-docx-0.8.11\n"
          ]
        }
      ]
    },
    {
      "cell_type": "code",
      "source": [
        "#pd serb (pd deploy)"
      ],
      "metadata": {
        "id": "TLDx1ZkNn_VC"
      },
      "execution_count": null,
      "outputs": []
    },
    {
      "cell_type": "code",
      "source": [],
      "metadata": {
        "id": "NcMdzGfWn_Zy"
      },
      "execution_count": null,
      "outputs": []
    }
  ]
}