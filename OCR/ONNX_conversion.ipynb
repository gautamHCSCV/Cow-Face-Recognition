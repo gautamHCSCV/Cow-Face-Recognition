{
  "cells": [
    {
      "cell_type": "markdown",
      "metadata": {
        "id": "IRZjFIhq1GrR"
      },
      "source": [
        "# Paddle OCR"
      ]
    },
    {
      "cell_type": "markdown",
      "metadata": {
        "id": "PsMeUZ-lgq-T"
      },
      "source": [
        "## Imports"
      ]
    },
    {
      "cell_type": "code",
      "execution_count": null,
      "metadata": {
        "colab": {
          "base_uri": "https://localhost:8080/"
        },
        "id": "nhtuSKel-AzR",
        "outputId": "af324b76-b867-4ada-af46-3a4ed5414173"
      },
      "outputs": [
        {
          "name": "stdout",
          "output_type": "stream",
          "text": [
            "Collecting paddleocr\n",
            "  Downloading paddleocr-2.7.0.2-py3-none-any.whl (466 kB)\n",
            "\u001b[2K     \u001b[90m━━━━━━━━━━━━━━━━━━━━━━━━━━━━━━━━━━━━━━━\u001b[0m \u001b[32m466.1/466.1 kB\u001b[0m \u001b[31m6.3 MB/s\u001b[0m eta \u001b[36m0:00:00\u001b[0m\n",
            "\u001b[?25hRequirement already satisfied: shapely in /usr/local/lib/python3.10/dist-packages (from paddleocr) (2.0.1)\n",
            "Requirement already satisfied: scikit-image in /usr/local/lib/python3.10/dist-packages (from paddleocr) (0.19.3)\n",
            "Requirement already satisfied: imgaug in /usr/local/lib/python3.10/dist-packages (from paddleocr) (0.4.0)\n",
            "Collecting pyclipper (from paddleocr)\n",
            "  Downloading pyclipper-1.3.0.post4-cp310-cp310-manylinux_2_12_x86_64.manylinux2010_x86_64.whl (813 kB)\n",
            "\u001b[2K     \u001b[90m━━━━━━━━━━━━━━━━━━━━━━━━━━━━━━━━━━━━━━\u001b[0m \u001b[32m813.9/813.9 kB\u001b[0m \u001b[31m15.3 MB/s\u001b[0m eta \u001b[36m0:00:00\u001b[0m\n",
            "\u001b[?25hCollecting lmdb (from paddleocr)\n",
            "  Downloading lmdb-1.4.1-cp310-cp310-manylinux_2_17_x86_64.manylinux2014_x86_64.whl (299 kB)\n",
            "\u001b[2K     \u001b[90m━━━━━━━━━━━━━━━━━━━━━━━━━━━━━━━━━━━━━━━\u001b[0m \u001b[32m299.2/299.2 kB\u001b[0m \u001b[31m9.5 MB/s\u001b[0m eta \u001b[36m0:00:00\u001b[0m\n",
            "\u001b[?25hRequirement already satisfied: tqdm in /usr/local/lib/python3.10/dist-packages (from paddleocr) (4.66.1)\n",
            "Requirement already satisfied: numpy in /usr/local/lib/python3.10/dist-packages (from paddleocr) (1.23.5)\n",
            "Collecting visualdl (from paddleocr)\n",
            "  Downloading visualdl-2.5.3-py3-none-any.whl (6.3 MB)\n",
            "\u001b[2K     \u001b[90m━━━━━━━━━━━━━━━━━━━━━━━━━━━━━━━━━━━━━━━━\u001b[0m \u001b[32m6.3/6.3 MB\u001b[0m \u001b[31m24.9 MB/s\u001b[0m eta \u001b[36m0:00:00\u001b[0m\n",
            "\u001b[?25hCollecting rapidfuzz (from paddleocr)\n",
            "  Downloading rapidfuzz-3.2.0-cp310-cp310-manylinux_2_17_x86_64.manylinux2014_x86_64.whl (3.1 MB)\n",
            "\u001b[2K     \u001b[90m━━━━━━━━━━━━━━━━━━━━━━━━━━━━━━━━━━━━━━━━\u001b[0m \u001b[32m3.1/3.1 MB\u001b[0m \u001b[31m39.0 MB/s\u001b[0m eta \u001b[36m0:00:00\u001b[0m\n",
            "\u001b[?25hCollecting opencv-python<=4.6.0.66 (from paddleocr)\n",
            "  Downloading opencv_python-4.6.0.66-cp36-abi3-manylinux_2_17_x86_64.manylinux2014_x86_64.whl (60.9 MB)\n",
            "\u001b[2K     \u001b[90m━━━━━━━━━━━━━━━━━━━━━━━━━━━━━━━━━━━━━━━━\u001b[0m \u001b[32m60.9/60.9 MB\u001b[0m \u001b[31m11.9 MB/s\u001b[0m eta \u001b[36m0:00:00\u001b[0m\n",
            "\u001b[?25hCollecting opencv-contrib-python<=4.6.0.66 (from paddleocr)\n",
            "  Downloading opencv_contrib_python-4.6.0.66-cp36-abi3-manylinux_2_17_x86_64.manylinux2014_x86_64.whl (67.1 MB)\n",
            "\u001b[2K     \u001b[90m━━━━━━━━━━━━━━━━━━━━━━━━━━━━━━━━━━━━━━━━\u001b[0m \u001b[32m67.1/67.1 MB\u001b[0m \u001b[31m9.7 MB/s\u001b[0m eta \u001b[36m0:00:00\u001b[0m\n",
            "\u001b[?25hRequirement already satisfied: cython in /usr/local/lib/python3.10/dist-packages (from paddleocr) (0.29.36)\n",
            "Requirement already satisfied: lxml in /usr/local/lib/python3.10/dist-packages (from paddleocr) (4.9.3)\n",
            "Collecting premailer (from paddleocr)\n",
            "  Downloading premailer-3.10.0-py2.py3-none-any.whl (19 kB)\n",
            "Requirement already satisfied: openpyxl in /usr/local/lib/python3.10/dist-packages (from paddleocr) (3.1.2)\n",
            "Collecting attrdict (from paddleocr)\n",
            "  Downloading attrdict-2.0.1-py2.py3-none-any.whl (9.9 kB)\n",
            "Collecting PyMuPDF<1.21.0 (from paddleocr)\n",
            "  Downloading PyMuPDF-1.20.2-cp310-cp310-manylinux_2_17_x86_64.manylinux2014_x86_64.whl (8.9 MB)\n",
            "\u001b[2K     \u001b[90m━━━━━━━━━━━━━━━━━━━━━━━━━━━━━━━━━━━━━━━━\u001b[0m \u001b[32m8.9/8.9 MB\u001b[0m \u001b[31m36.3 MB/s\u001b[0m eta \u001b[36m0:00:00\u001b[0m\n",
            "\u001b[?25hRequirement already satisfied: Pillow in /usr/local/lib/python3.10/dist-packages (from paddleocr) (9.4.0)\n",
            "Collecting python-docx (from paddleocr)\n",
            "  Downloading python-docx-0.8.11.tar.gz (5.6 MB)\n",
            "\u001b[2K     \u001b[90m━━━━━━━━━━━━━━━━━━━━━━━━━━━━━━━━━━━━━━━━\u001b[0m \u001b[32m5.6/5.6 MB\u001b[0m \u001b[31m97.0 MB/s\u001b[0m eta \u001b[36m0:00:00\u001b[0m\n",
            "\u001b[?25h  Preparing metadata (setup.py) ... \u001b[?25l\u001b[?25hdone\n",
            "Requirement already satisfied: beautifulsoup4 in /usr/local/lib/python3.10/dist-packages (from paddleocr) (4.11.2)\n",
            "Requirement already satisfied: fonttools>=4.24.0 in /usr/local/lib/python3.10/dist-packages (from paddleocr) (4.42.0)\n",
            "Collecting fire>=0.3.0 (from paddleocr)\n",
            "  Downloading fire-0.5.0.tar.gz (88 kB)\n",
            "\u001b[2K     \u001b[90m━━━━━━━━━━━━━━━━━━━━━━━━━━━━━━━━━━━━━━━━\u001b[0m \u001b[32m88.3/88.3 kB\u001b[0m \u001b[31m10.5 MB/s\u001b[0m eta \u001b[36m0:00:00\u001b[0m\n",
            "\u001b[?25h  Preparing metadata (setup.py) ... \u001b[?25l\u001b[?25hdone\n",
            "Collecting pdf2docx (from paddleocr)\n",
            "  Downloading pdf2docx-0.5.6-py3-none-any.whl (148 kB)\n",
            "\u001b[2K     \u001b[90m━━━━━━━━━━━━━━━━━━━━━━━━━━━━━━━━━━━━━━\u001b[0m \u001b[32m148.4/148.4 kB\u001b[0m \u001b[31m15.8 MB/s\u001b[0m eta \u001b[36m0:00:00\u001b[0m\n",
            "\u001b[?25hRequirement already satisfied: six in /usr/local/lib/python3.10/dist-packages (from fire>=0.3.0->paddleocr) (1.16.0)\n",
            "Requirement already satisfied: termcolor in /usr/local/lib/python3.10/dist-packages (from fire>=0.3.0->paddleocr) (2.3.0)\n",
            "Requirement already satisfied: soupsieve>1.2 in /usr/local/lib/python3.10/dist-packages (from beautifulsoup4->paddleocr) (2.4.1)\n",
            "Requirement already satisfied: scipy in /usr/local/lib/python3.10/dist-packages (from imgaug->paddleocr) (1.10.1)\n",
            "Requirement already satisfied: matplotlib in /usr/local/lib/python3.10/dist-packages (from imgaug->paddleocr) (3.7.1)\n",
            "Requirement already satisfied: imageio in /usr/local/lib/python3.10/dist-packages (from imgaug->paddleocr) (2.31.1)\n",
            "Requirement already satisfied: networkx>=2.2 in /usr/local/lib/python3.10/dist-packages (from scikit-image->paddleocr) (3.1)\n",
            "Requirement already satisfied: tifffile>=2019.7.26 in /usr/local/lib/python3.10/dist-packages (from scikit-image->paddleocr) (2023.8.12)\n",
            "Requirement already satisfied: PyWavelets>=1.1.1 in /usr/local/lib/python3.10/dist-packages (from scikit-image->paddleocr) (1.4.1)\n",
            "Requirement already satisfied: packaging>=20.0 in /usr/local/lib/python3.10/dist-packages (from scikit-image->paddleocr) (23.1)\n",
            "Requirement already satisfied: et-xmlfile in /usr/local/lib/python3.10/dist-packages (from openpyxl->paddleocr) (1.1.0)\n",
            "Collecting cssselect (from premailer->paddleocr)\n",
            "  Downloading cssselect-1.2.0-py2.py3-none-any.whl (18 kB)\n",
            "Collecting cssutils (from premailer->paddleocr)\n",
            "  Downloading cssutils-2.7.1-py3-none-any.whl (399 kB)\n",
            "\u001b[2K     \u001b[90m━━━━━━━━━━━━━━━━━━━━━━━━━━━━━━━━━━━━━━\u001b[0m \u001b[32m399.7/399.7 kB\u001b[0m \u001b[31m34.1 MB/s\u001b[0m eta \u001b[36m0:00:00\u001b[0m\n",
            "\u001b[?25hRequirement already satisfied: requests in /usr/local/lib/python3.10/dist-packages (from premailer->paddleocr) (2.31.0)\n",
            "Requirement already satisfied: cachetools in /usr/local/lib/python3.10/dist-packages (from premailer->paddleocr) (5.3.1)\n",
            "Collecting bce-python-sdk (from visualdl->paddleocr)\n",
            "  Downloading bce_python_sdk-0.8.90-py3-none-any.whl (235 kB)\n",
            "\u001b[2K     \u001b[90m━━━━━━━━━━━━━━━━━━━━━━━━━━━━━━━━━━━━━━\u001b[0m \u001b[32m235.3/235.3 kB\u001b[0m \u001b[31m19.5 MB/s\u001b[0m eta \u001b[36m0:00:00\u001b[0m\n",
            "\u001b[?25hRequirement already satisfied: flask>=1.1.1 in /usr/local/lib/python3.10/dist-packages (from visualdl->paddleocr) (2.2.5)\n",
            "Collecting Flask-Babel>=3.0.0 (from visualdl->paddleocr)\n",
            "  Downloading flask_babel-3.1.0-py3-none-any.whl (9.6 kB)\n",
            "Requirement already satisfied: protobuf>=3.20.0 in /usr/local/lib/python3.10/dist-packages (from visualdl->paddleocr) (3.20.3)\n",
            "Requirement already satisfied: pandas in /usr/local/lib/python3.10/dist-packages (from visualdl->paddleocr) (1.5.3)\n",
            "Collecting rarfile (from visualdl->paddleocr)\n",
            "  Downloading rarfile-4.0-py3-none-any.whl (28 kB)\n",
            "Requirement already satisfied: psutil in /usr/local/lib/python3.10/dist-packages (from visualdl->paddleocr) (5.9.5)\n",
            "Requirement already satisfied: Werkzeug>=2.2.2 in /usr/local/lib/python3.10/dist-packages (from flask>=1.1.1->visualdl->paddleocr) (2.3.7)\n",
            "Requirement already satisfied: Jinja2>=3.0 in /usr/local/lib/python3.10/dist-packages (from flask>=1.1.1->visualdl->paddleocr) (3.1.2)\n",
            "Requirement already satisfied: itsdangerous>=2.0 in /usr/local/lib/python3.10/dist-packages (from flask>=1.1.1->visualdl->paddleocr) (2.1.2)\n",
            "Requirement already satisfied: click>=8.0 in /usr/local/lib/python3.10/dist-packages (from flask>=1.1.1->visualdl->paddleocr) (8.1.7)\n",
            "Requirement already satisfied: Babel>=2.12 in /usr/local/lib/python3.10/dist-packages (from Flask-Babel>=3.0.0->visualdl->paddleocr) (2.12.1)\n",
            "Requirement already satisfied: pytz>=2022.7 in /usr/local/lib/python3.10/dist-packages (from Flask-Babel>=3.0.0->visualdl->paddleocr) (2023.3)\n",
            "Collecting pycryptodome>=3.8.0 (from bce-python-sdk->visualdl->paddleocr)\n",
            "  Downloading pycryptodome-3.18.0-cp35-abi3-manylinux_2_17_x86_64.manylinux2014_x86_64.whl (2.1 MB)\n",
            "\u001b[2K     \u001b[90m━━━━━━━━━━━━━━━━━━━━━━━━━━━━━━━━━━━━━━━━\u001b[0m \u001b[32m2.1/2.1 MB\u001b[0m \u001b[31m75.8 MB/s\u001b[0m eta \u001b[36m0:00:00\u001b[0m\n",
            "\u001b[?25hRequirement already satisfied: future>=0.6.0 in /usr/local/lib/python3.10/dist-packages (from bce-python-sdk->visualdl->paddleocr) (0.18.3)\n",
            "Requirement already satisfied: contourpy>=1.0.1 in /usr/local/lib/python3.10/dist-packages (from matplotlib->imgaug->paddleocr) (1.1.0)\n",
            "Requirement already satisfied: cycler>=0.10 in /usr/local/lib/python3.10/dist-packages (from matplotlib->imgaug->paddleocr) (0.11.0)\n",
            "Requirement already satisfied: kiwisolver>=1.0.1 in /usr/local/lib/python3.10/dist-packages (from matplotlib->imgaug->paddleocr) (1.4.4)\n",
            "Requirement already satisfied: pyparsing>=2.3.1 in /usr/local/lib/python3.10/dist-packages (from matplotlib->imgaug->paddleocr) (3.1.1)\n",
            "Requirement already satisfied: python-dateutil>=2.7 in /usr/local/lib/python3.10/dist-packages (from matplotlib->imgaug->paddleocr) (2.8.2)\n",
            "Requirement already satisfied: charset-normalizer<4,>=2 in /usr/local/lib/python3.10/dist-packages (from requests->premailer->paddleocr) (3.2.0)\n",
            "Requirement already satisfied: idna<4,>=2.5 in /usr/local/lib/python3.10/dist-packages (from requests->premailer->paddleocr) (3.4)\n",
            "Requirement already satisfied: urllib3<3,>=1.21.1 in /usr/local/lib/python3.10/dist-packages (from requests->premailer->paddleocr) (2.0.4)\n",
            "Requirement already satisfied: certifi>=2017.4.17 in /usr/local/lib/python3.10/dist-packages (from requests->premailer->paddleocr) (2023.7.22)\n",
            "Requirement already satisfied: MarkupSafe>=2.0 in /usr/local/lib/python3.10/dist-packages (from Jinja2>=3.0->flask>=1.1.1->visualdl->paddleocr) (2.1.3)\n",
            "Building wheels for collected packages: fire, python-docx\n",
            "  Building wheel for fire (setup.py) ... \u001b[?25l\u001b[?25hdone\n",
            "  Created wheel for fire: filename=fire-0.5.0-py2.py3-none-any.whl size=116934 sha256=c4beb5e2e21b8972d78ea974a92f0f64fdf3d33c137db18bd1067c376e0a6610\n",
            "  Stored in directory: /root/.cache/pip/wheels/90/d4/f7/9404e5db0116bd4d43e5666eaa3e70ab53723e1e3ea40c9a95\n",
            "  Building wheel for python-docx (setup.py) ... \u001b[?25l\u001b[?25hdone\n",
            "  Created wheel for python-docx: filename=python_docx-0.8.11-py3-none-any.whl size=184487 sha256=45a6a753c5f99f2e245bea48f88774e8cf12dfbb004779d6e02574660eb4b991\n",
            "  Stored in directory: /root/.cache/pip/wheels/80/27/06/837436d4c3bd989b957a91679966f207bfd71d358d63a8194d\n",
            "Successfully built fire python-docx\n",
            "Installing collected packages: rarfile, pyclipper, lmdb, rapidfuzz, python-docx, PyMuPDF, pycryptodome, opencv-python, opencv-contrib-python, fire, cssutils, cssselect, attrdict, premailer, pdf2docx, bce-python-sdk, Flask-Babel, visualdl, paddleocr\n",
            "  Attempting uninstall: opencv-python\n",
            "    Found existing installation: opencv-python 4.8.0.76\n",
            "    Uninstalling opencv-python-4.8.0.76:\n",
            "      Successfully uninstalled opencv-python-4.8.0.76\n",
            "  Attempting uninstall: opencv-contrib-python\n",
            "    Found existing installation: opencv-contrib-python 4.8.0.76\n",
            "    Uninstalling opencv-contrib-python-4.8.0.76:\n",
            "      Successfully uninstalled opencv-contrib-python-4.8.0.76\n",
            "Successfully installed Flask-Babel-3.1.0 PyMuPDF-1.20.2 attrdict-2.0.1 bce-python-sdk-0.8.90 cssselect-1.2.0 cssutils-2.7.1 fire-0.5.0 lmdb-1.4.1 opencv-contrib-python-4.6.0.66 opencv-python-4.6.0.66 paddleocr-2.7.0.2 pdf2docx-0.5.6 premailer-3.10.0 pyclipper-1.3.0.post4 pycryptodome-3.18.0 python-docx-0.8.11 rapidfuzz-3.2.0 rarfile-4.0 visualdl-2.5.3\n",
            "Looking in links: https://www.paddlepaddle.org.cn/whl/linux/mkl/avx/stable.html\n",
            "Collecting paddlepaddle-gpu==2.5.0.post118\n",
            "  Downloading https://paddle-wheel.bj.bcebos.com/2.5.0/linux/linux-gpu-cuda11.8-cudnn8.6-mkl-gcc8.2-avx/paddlepaddle_gpu-2.5.0.post118-cp310-cp310-linux_x86_64.whl (542.1 MB)\n",
            "\u001b[2K     \u001b[90m━━━━━━━━━━━━━━━━━━━━━━━━━━━━━━━━━━━━━━━\u001b[0m \u001b[32m542.1/542.1 MB\u001b[0m \u001b[31m2.6 MB/s\u001b[0m eta \u001b[36m0:00:00\u001b[0m\n",
            "\u001b[?25hCollecting httpx (from paddlepaddle-gpu==2.5.0.post118)\n",
            "  Downloading httpx-0.24.1-py3-none-any.whl (75 kB)\n",
            "\u001b[2K     \u001b[90m━━━━━━━━━━━━━━━━━━━━━━━━━━━━━━━━━━━━━━━━\u001b[0m \u001b[32m75.4/75.4 kB\u001b[0m \u001b[31m1.5 MB/s\u001b[0m eta \u001b[36m0:00:00\u001b[0m\n",
            "\u001b[?25hRequirement already satisfied: numpy>=1.13 in /usr/local/lib/python3.10/dist-packages (from paddlepaddle-gpu==2.5.0.post118) (1.23.5)\n",
            "Requirement already satisfied: Pillow in /usr/local/lib/python3.10/dist-packages (from paddlepaddle-gpu==2.5.0.post118) (9.4.0)\n",
            "Requirement already satisfied: decorator in /usr/local/lib/python3.10/dist-packages (from paddlepaddle-gpu==2.5.0.post118) (4.4.2)\n",
            "Collecting astor (from paddlepaddle-gpu==2.5.0.post118)\n",
            "  Downloading astor-0.8.1-py2.py3-none-any.whl (27 kB)\n",
            "Collecting paddle-bfloat==0.1.7 (from paddlepaddle-gpu==2.5.0.post118)\n",
            "  Downloading paddle_bfloat-0.1.7-cp310-cp310-manylinux_2_17_x86_64.manylinux2014_x86_64.whl (383 kB)\n",
            "\u001b[2K     \u001b[90m━━━━━━━━━━━━━━━━━━━━━━━━━━━━━━━━━━━━━━\u001b[0m \u001b[32m383.2/383.2 kB\u001b[0m \u001b[31m10.4 MB/s\u001b[0m eta \u001b[36m0:00:00\u001b[0m\n",
            "\u001b[?25hRequirement already satisfied: opt-einsum==3.3.0 in /usr/local/lib/python3.10/dist-packages (from paddlepaddle-gpu==2.5.0.post118) (3.3.0)\n",
            "Requirement already satisfied: protobuf>=3.20.2 in /usr/local/lib/python3.10/dist-packages (from paddlepaddle-gpu==2.5.0.post118) (3.20.3)\n",
            "Requirement already satisfied: certifi in /usr/local/lib/python3.10/dist-packages (from httpx->paddlepaddle-gpu==2.5.0.post118) (2023.7.22)\n",
            "Collecting httpcore<0.18.0,>=0.15.0 (from httpx->paddlepaddle-gpu==2.5.0.post118)\n",
            "  Downloading httpcore-0.17.3-py3-none-any.whl (74 kB)\n",
            "\u001b[2K     \u001b[90m━━━━━━━━━━━━━━━━━━━━━━━━━━━━━━━━━━━━━━━━\u001b[0m \u001b[32m74.5/74.5 kB\u001b[0m \u001b[31m6.9 MB/s\u001b[0m eta \u001b[36m0:00:00\u001b[0m\n",
            "\u001b[?25hRequirement already satisfied: idna in /usr/local/lib/python3.10/dist-packages (from httpx->paddlepaddle-gpu==2.5.0.post118) (3.4)\n",
            "Requirement already satisfied: sniffio in /usr/local/lib/python3.10/dist-packages (from httpx->paddlepaddle-gpu==2.5.0.post118) (1.3.0)\n",
            "Collecting h11<0.15,>=0.13 (from httpcore<0.18.0,>=0.15.0->httpx->paddlepaddle-gpu==2.5.0.post118)\n",
            "  Downloading h11-0.14.0-py3-none-any.whl (58 kB)\n",
            "\u001b[2K     \u001b[90m━━━━━━━━━━━━━━━━━━━━━━━━━━━━━━━━━━━━━━━━\u001b[0m \u001b[32m58.3/58.3 kB\u001b[0m \u001b[31m6.8 MB/s\u001b[0m eta \u001b[36m0:00:00\u001b[0m\n",
            "\u001b[?25hRequirement already satisfied: anyio<5.0,>=3.0 in /usr/local/lib/python3.10/dist-packages (from httpcore<0.18.0,>=0.15.0->httpx->paddlepaddle-gpu==2.5.0.post118) (3.7.1)\n",
            "Requirement already satisfied: exceptiongroup in /usr/local/lib/python3.10/dist-packages (from anyio<5.0,>=3.0->httpcore<0.18.0,>=0.15.0->httpx->paddlepaddle-gpu==2.5.0.post118) (1.1.3)\n",
            "Installing collected packages: paddle-bfloat, h11, astor, httpcore, httpx, paddlepaddle-gpu\n",
            "Successfully installed astor-0.8.1 h11-0.14.0 httpcore-0.17.3 httpx-0.24.1 paddle-bfloat-0.1.7 paddlepaddle-gpu-2.5.0.post118\n",
            "Collecting paddle2onnx\n",
            "  Downloading paddle2onnx-1.0.9-cp310-cp310-manylinux_2_12_x86_64.manylinux2010_x86_64.whl (3.1 MB)\n",
            "\u001b[2K     \u001b[90m━━━━━━━━━━━━━━━━━━━━━━━━━━━━━━━━━━━━━━━━\u001b[0m \u001b[32m3.1/3.1 MB\u001b[0m \u001b[31m10.9 MB/s\u001b[0m eta \u001b[36m0:00:00\u001b[0m\n",
            "\u001b[?25hInstalling collected packages: paddle2onnx\n",
            "Successfully installed paddle2onnx-1.0.9\n"
          ]
        }
      ],
      "source": [
        "# !pip install paddlepaddle\n",
        "# !pip install paddleocr\n",
        "# !pip install paddlepaddle-gpu\n",
        "\n",
        "!pip install paddleocr\n",
        "!python -m pip install paddlepaddle-gpu==2.5.0.post118 -f https://www.paddlepaddle.org.cn/whl/linux/mkl/avx/stable.html\n",
        "!pip install paddle2onnx"
      ]
    },
    {
      "cell_type": "code",
      "execution_count": null,
      "metadata": {
        "colab": {
          "base_uri": "https://localhost:8080/"
        },
        "id": "ekfBwrhJhUnP",
        "outputId": "e618fde7-91ce-4154-b8b7-7a38179eb9df"
      },
      "outputs": [
        {
          "name": "stdout",
          "output_type": "stream",
          "text": [
            "Collecting onnx\n",
            "  Downloading onnx-1.14.0-cp310-cp310-manylinux_2_17_x86_64.manylinux2014_x86_64.whl (14.6 MB)\n",
            "\u001b[2K     \u001b[90m━━━━━━━━━━━━━━━━━━━━━━━━━━━━━━━━━━━━━━━━\u001b[0m \u001b[32m14.6/14.6 MB\u001b[0m \u001b[31m45.0 MB/s\u001b[0m eta \u001b[36m0:00:00\u001b[0m\n",
            "\u001b[?25hRequirement already satisfied: numpy in /usr/local/lib/python3.10/dist-packages (from onnx) (1.23.5)\n",
            "Requirement already satisfied: protobuf>=3.20.2 in /usr/local/lib/python3.10/dist-packages (from onnx) (3.20.3)\n",
            "Requirement already satisfied: typing-extensions>=3.6.2.1 in /usr/local/lib/python3.10/dist-packages (from onnx) (4.7.1)\n",
            "Installing collected packages: onnx\n",
            "Successfully installed onnx-1.14.0\n"
          ]
        }
      ],
      "source": [
        "!pip install onnx"
      ]
    },
    {
      "cell_type": "code",
      "execution_count": null,
      "metadata": {
        "colab": {
          "base_uri": "https://localhost:8080/"
        },
        "id": "sc6dVEXo-Suq",
        "outputId": "9f0b17f3-2c3d-4db9-adb0-5fc4664bba17"
      },
      "outputs": [
        {
          "name": "stderr",
          "output_type": "stream",
          "text": [
            "/usr/local/lib/python3.10/dist-packages/paddle/fluid/framework.py:549: UserWarning: You are using GPU version Paddle, but your CUDA device is not set properly. CPU device will be used by default.\n",
            "  warnings.warn(\n"
          ]
        }
      ],
      "source": [
        "import paddleocr\n",
        "from paddleocr import PaddleOCR\n",
        "from datetime import datetime\n",
        "import os\n",
        "from google.colab.patches import cv2_imshow\n",
        "import warnings\n",
        "import numpy as np\n",
        "from PIL import Image\n",
        "warnings.filterwarnings('ignore')"
      ]
    },
    {
      "cell_type": "code",
      "execution_count": null,
      "metadata": {
        "id": "I1x63Z--FHy9"
      },
      "outputs": [],
      "source": [
        "#ocr = PaddleOCR(lang=\"en\", rec_model_type='en', use_gpu=False, use_fp16=True,  precision='fp16')\n",
        "# 1.49sec, 1.51\n",
        "\n",
        "# ocr = PaddleOCR(lang=\"latin\", rec_model_type='latin', use_gpu=False, use_fp16=True, det_algorithm='DB',  precision='fp16', log_level='OFF',\n",
        "#                 rec_model_path='./models/latin_mobile_lite_v2.0.1.paddle') #1.52 sec"
      ]
    },
    {
      "cell_type": "code",
      "execution_count": null,
      "metadata": {
        "id": "UeW-aDoilYd0"
      },
      "outputs": [],
      "source": [
        "# ocr = PaddleOCR(lang=\"en\", rec_model_type='en', use_gpu=False, log_level='OFF',\n",
        "#                 rec_model_path='./models/en_mobile_lite_v2.0.1.paddle', use_fp16=True)\n",
        "\n",
        "\n",
        "ocr = PaddleOCR(lang=\"en\", rec_model_type='en', rec_algorithm = 'CRNN',\n",
        "                use_gpu = False, det_db_thresh=0.4, show_log = True, use_angle_cls = True)\n",
        "\n",
        "# latin -> 1.35 sec, en -> 1.41 sec (en model with better accuracy)\n",
        "# 1.1 sec (630,300) #show_log = False,"
      ]
    },
    {
      "cell_type": "code",
      "execution_count": null,
      "metadata": {
        "colab": {
          "base_uri": "https://localhost:8080/"
        },
        "id": "jeW_UbrSE6Br",
        "outputId": "a3648b71-65b4-4554-977a-e83dc4fa1b9c"
      },
      "outputs": [
        {
          "name": "stdout",
          "output_type": "stream",
          "text": [
            "Mounted at /content/drive\n"
          ]
        }
      ],
      "source": [
        "from google.colab import drive\n",
        "drive.mount('/content/drive')"
      ]
    },
    {
      "cell_type": "markdown",
      "metadata": {
        "id": "-mLyX-gUi4YV"
      },
      "source": [
        "## Utils"
      ]
    },
    {
      "cell_type": "code",
      "execution_count": null,
      "metadata": {
        "id": "d79iuWa_-SxA"
      },
      "outputs": [],
      "source": [
        "def make_statement(nums):\n",
        "    unit = 'g'\n",
        "    for i in range(len(nums)):\n",
        "        s = str(nums[i])\n",
        "        if len(s)>3 and '.' not in s:\n",
        "            nums[i] = int(s[:3])\n",
        "        if '.' in s:\n",
        "            ind = s.index('.')\n",
        "            nums[i] = float(s[:ind+2])\n",
        "    if nums[-1]<=4:\n",
        "        unit = 'kg'\n",
        "\n",
        "    if len(nums)==1:\n",
        "        return f'{nums[0]} kg'\n",
        "    if len(nums)==2:\n",
        "        return f'{nums[0]} Pieces X {nums[1]}{unit}'\n",
        "    if len(nums)==3:\n",
        "        if nums[0]==(nums[1]*nums[2])/1000:\n",
        "            return f'{nums[0]} kg ({nums[1]} Pieces X {nums[2]}{unit})'\n",
        "        else:\n",
        "            return f'{nums[0]} Pieces X {nums[1]} Pieces X {nums[2]}{unit}'\n",
        "    return nums\n",
        "\n",
        "def get_nums(statement):\n",
        "    nums = []\n",
        "    curr = ''\n",
        "    for i in range(len(statement)):\n",
        "        if statement[i].isdigit() or (len(curr)>0 and statement[i]=='.'):\n",
        "            curr+=statement[i]\n",
        "            if i<len(statement)-1 and statement[i+1]=='.': continue\n",
        "\n",
        "            if i==len(statement)-1 or not statement[i+1].isdigit():\n",
        "                if float(curr)==int(float(curr)): nums.append(int(curr))\n",
        "                else: nums.append(float(curr))\n",
        "                curr=''\n",
        "    return nums\n",
        "\n",
        "\n",
        "def get_target_statement(words):\n",
        "    for sentence in words:\n",
        "        if 'X' in sentence or 'x' in sentence or '×' in sentence:\n",
        "            nums = get_nums(sentence)\n",
        "            if len(nums)>=2:\n",
        "                return(sentence)\n",
        "        if 'kg' in sentence and 'BULK' in sentence:\n",
        "            return(sentence)\n",
        "    return None\n",
        "\n",
        "def load_image_with_orientation(image_path):\n",
        "    img = Image.open(image_path)\n",
        "\n",
        "    # Check if the image has Exif data with orientation information\n",
        "    if hasattr(img, '_getexif'):\n",
        "        exif = img._getexif()\n",
        "        if exif is not None:\n",
        "            orientation = exif.get(0x0112)\n",
        "            # Orientation values: 1, 3, 6, 8 (See Exif documentation for details)\n",
        "            if orientation == 3:\n",
        "                img = img.rotate(180, expand=True)\n",
        "            elif orientation == 6:\n",
        "                img = img.rotate(270, expand=True)\n",
        "            elif orientation == 8:\n",
        "                img = img.rotate(90, expand=True)\n",
        "\n",
        "    return img"
      ]
    },
    {
      "cell_type": "markdown",
      "metadata": {
        "id": "yZib8xQIi8wj"
      },
      "source": [
        "## Code"
      ]
    },
    {
      "cell_type": "code",
      "execution_count": null,
      "metadata": {
        "id": "oVBWmYA0iHKi"
      },
      "outputs": [],
      "source": [
        "!pip install paddleocr_convert"
      ]
    },
    {
      "cell_type": "code",
      "execution_count": null,
      "metadata": {
        "colab": {
          "base_uri": "https://localhost:8080/"
        },
        "id": "6ZAhkQ02fblB",
        "outputId": "bfa9cdf9-8fbc-4866-8f2d-1ba470bcd50d"
      },
      "outputs": [
        {
          "name": "stderr",
          "output_type": "stream",
          "text": [
            "Downloading: 100%|██████████| 2.19M/2.19M [00:00<00:00, 4.93MiB/s]\n"
          ]
        },
        {
          "name": "stdout",
          "output_type": "stream",
          "text": [
            "Successfully convert model to /content/drive/MyDrive/OCR-SKU/Models/ch_ppocr_mobile_v2.0_cls_infer/ch_ppocr_mobile_v2.0_cls_infer.onnx\n",
            "The model has changed to dynamic inputs.\n"
          ]
        },
        {
          "data": {
            "text/plain": [
              "PosixPath('/content/drive/MyDrive/OCR-SKU/Models/ch_ppocr_mobile_v2.0_cls_infer/ch_ppocr_mobile_v2.0_cls_infer.onnx')"
            ]
          },
          "execution_count": 15,
          "metadata": {},
          "output_type": "execute_result"
        }
      ],
      "source": [
        "from paddleocr_convert import PaddleOCRModelConvert\n",
        "\n",
        "converter = PaddleOCRModelConvert()\n",
        "save_dir = '/content/drive/MyDrive/OCR-SKU/Models'\n",
        "#online\n",
        "url = 'https://paddleocr.bj.bcebos.com/dygraph_v2.0/ch/ch_ppocr_mobile_v2.0_cls_infer.tar'\n",
        "txt_url = 'https://raw.githubusercontent.com/PaddlePaddle/PaddleOCR/release/2.6/ppocr/utils/ppocr_keys_v1.txt'\n",
        "\n",
        "converter(url, save_dir, txt_path=txt_url)"
      ]
    },
    {
      "cell_type": "code",
      "execution_count": 62,
      "metadata": {
        "colab": {
          "base_uri": "https://localhost:8080/"
        },
        "id": "VygNR6QNjRf8",
        "outputId": "fa314fec-d6ab-4ec2-c014-b35eedb1cd8a"
      },
      "outputs": [
        {
          "name": "stdout",
          "output_type": "stream",
          "text": [
            "[2023/08/22 11:06:27] ppocr DEBUG: Namespace(help='==SUPPRESS==', use_gpu=False, use_xpu=False, use_npu=False, ir_optim=True, use_tensorrt=False, min_subgraph_size=15, precision='fp32', gpu_mem=500, gpu_id=0, image_dir=None, page_num=0, det_algorithm='DB', det_model_dir='/content/drive/MyDrive/OCR-SKU/Models/en_PP-OCRv3_det_infer/model.onnx', det_limit_side_len=960, det_limit_type='max', det_box_type='quad', det_db_thresh=0.3, det_db_box_thresh=0.6, det_db_unclip_ratio=1.5, max_batch_size=10, use_dilation=False, det_db_score_mode='fast', det_east_score_thresh=0.8, det_east_cover_thresh=0.1, det_east_nms_thresh=0.2, det_sast_score_thresh=0.5, det_sast_nms_thresh=0.2, det_pse_thresh=0, det_pse_box_thresh=0.85, det_pse_min_area=16, det_pse_scale=1, scales=[8, 16, 32], alpha=1.0, beta=1.0, fourier_degree=5, rec_algorithm='SVTR_LCNet', rec_model_dir='/content/drive/MyDrive/OCR-SKU/Models/en_PP-OCRv3_rec_infer/model.onnx', rec_image_inverse=True, rec_image_shape='3, 48, 320', rec_batch_num=6, max_text_length=25, rec_char_dict_path='/usr/local/lib/python3.10/dist-packages/paddleocr/ppocr/utils/en_dict.txt', use_space_char=True, vis_font_path='./doc/fonts/simfang.ttf', drop_score=0.5, e2e_algorithm='PGNet', e2e_model_dir=None, e2e_limit_side_len=768, e2e_limit_type='max', e2e_pgnet_score_thresh=0.5, e2e_char_dict_path='./ppocr/utils/ic15_dict.txt', e2e_pgnet_valid_set='totaltext', e2e_pgnet_mode='fast', use_angle_cls=False, cls_model_dir='/content/drive/MyDrive/OCR-SKU/Models/ch_ppocr_mobile_v2.0_cls_infer/model.onnx', cls_image_shape='3, 48, 192', label_list=['0', '180'], cls_batch_num=6, cls_thresh=0.9, enable_mkldnn=False, cpu_threads=10, use_pdserving=False, warmup=False, sr_model_dir=None, sr_image_shape='3, 32, 128', sr_batch_num=1, draw_img_save_dir='./inference_results', save_crop_res=False, crop_res_save_dir='./output', use_mp=False, total_process_num=1, process_id=0, benchmark=False, save_log_path='./log_output/', show_log=True, use_onnx=True, return_word_box=False, output='./output', table_max_len=488, table_algorithm='TableAttn', table_model_dir=None, merge_no_span_structure=True, table_char_dict_path=None, layout_model_dir=None, layout_dict_path=None, layout_score_threshold=0.5, layout_nms_threshold=0.5, kie_algorithm='LayoutXLM', ser_model_dir=None, re_model_dir=None, use_visual_backbone=True, ser_dict_path='../train_data/XFUND/class_list_xfun.txt', ocr_order_method=None, mode='structure', image_orientation=False, layout=True, table=True, ocr=True, recovery=False, use_pdf2docx_api=False, lang='en', det=True, rec=True, type='ocr', ocr_version='PP-OCRv4', structure_version='PP-StructureV2')\n"
          ]
        }
      ],
      "source": [
        "ocr = PaddleOCR(lang=\"en\", use_onnx = True, show_log = True, use_gpu = False,\n",
        "                rec_model_dir = f'{path1}en_PP-OCRv3_rec_infer/model.onnx',\n",
        "                cls_model_dir = f'{path1}ch_ppocr_mobile_v2.0_cls_infer/model.onnx', det_model_dir =f'{path1}en_PP-OCRv3_det_infer/model.onnx')"
      ]
    },
    {
      "cell_type": "code",
      "execution_count": null,
      "metadata": {
        "colab": {
          "base_uri": "https://localhost:8080/"
        },
        "id": "WbBuR-KDfbsc",
        "outputId": "900773bf-bb9f-4605-cbae-38eb871adbc1"
      },
      "outputs": [
        {
          "data": {
            "text/plain": [
              "['inference.pdmodel',\n",
              " 'inference.pdiparams.info',\n",
              " 'inference.pdiparams',\n",
              " 'en_PP-OCRv3_rec_infer.onnx',\n",
              " 'model.onnx']"
            ]
          },
          "execution_count": 58,
          "metadata": {},
          "output_type": "execute_result"
        }
      ],
      "source": [
        "os.listdir('/content/drive/MyDrive/OCR-SKU/Models/en_PP-OCRv3_rec_infer/')"
      ]
    },
    {
      "cell_type": "code",
      "execution_count": null,
      "metadata": {
        "id": "EJU9X-SGrM9D"
      },
      "outputs": [],
      "source": [
        "!paddle2onnx --model_dir '/content/drive/MyDrive/OCR-SKU/Models/en_PP-OCRv3_rec_infer/' \\\n",
        "             --model_filename inference.pdmodel \\\n",
        "             --params_filename inference.pdiparams\\\n",
        "             --save_file '/content/drive/MyDrive/OCR-SKU/Models/en_PP-OCRv3_det_infer/model.onnx' \\\n",
        "             --input_shape_dict=\"{'x':[-1,3,-1,-1]}\" \\\n",
        "             --enable_dev_version True"
      ]
    },
    {
      "cell_type": "code",
      "execution_count": null,
      "metadata": {
        "id": "n5mzV_sLrM_W"
      },
      "outputs": [],
      "source": []
    },
    {
      "cell_type": "code",
      "execution_count": null,
      "metadata": {
        "id": "JXNV8Z8OwM6W"
      },
      "outputs": [],
      "source": [
        "import onnxruntime\n",
        "det_model = onnxruntime.InferenceSession(\"/content/drive/MyDrive/OCR-SKU/Models/en_PP-OCRv3_det_infer/model.onnx\")\n",
        "rec_model = onnxruntime.InferenceSession(\"/content/drive/MyDrive/OCR-SKU/Models/en_PP-OCRv3_rec_infer/model.onnx\")\n",
        "cls_model = onnxruntime.InferenceSession(\"/content/drive/MyDrive/OCR-SKU/Models/ch_ppocr_mobile_v2.0_cls_infer/model.onnx\")"
      ]
    },
    {
      "cell_type": "code",
      "execution_count": null,
      "metadata": {
        "id": "aY0Ft_rwwM8t"
      },
      "outputs": [],
      "source": [
        "img = np.array(Image.open(\"/content/IMG-20230708-WA0009.jpg\"))\n",
        "img = img.astype(np.float32) / 255.0\n",
        "img_tensor = img.transpose([2, 0, 1])\n",
        "img_tensor = np.expand_dims(img_tensor, axis=0)\n",
        "\n",
        "#print(img.shape)\n",
        "out = det_model.run(None, {\"x\": img_tensor})"
      ]
    },
    {
      "cell_type": "code",
      "execution_count": null,
      "metadata": {
        "colab": {
          "base_uri": "https://localhost:8080/"
        },
        "id": "iLEvBHKT0WQs",
        "outputId": "c7a5cb6b-5683-4662-a84b-cf4d910164f5"
      },
      "outputs": [
        {
          "data": {
            "text/plain": [
              "(1, 1, 1280, 576)"
            ]
          },
          "execution_count": 50,
          "metadata": {},
          "output_type": "execute_result"
        }
      ],
      "source": [
        "out[0].shape"
      ]
    },
    {
      "cell_type": "code",
      "execution_count": null,
      "metadata": {
        "colab": {
          "base_uri": "https://localhost:8080/",
          "height": 366
        },
        "id": "uZbHfI570WXc",
        "outputId": "d77f427a-a149-474c-a6cc-8ab384770bd0"
      },
      "outputs": [
        {
          "ename": "InvalidArgument",
          "evalue": "ignored",
          "output_type": "error",
          "traceback": [
            "\u001b[0;31m---------------------------------------------------------------------------\u001b[0m",
            "\u001b[0;31mInvalidArgument\u001b[0m                           Traceback (most recent call last)",
            "\u001b[0;32m<ipython-input-54-56a0954ab8ae>\u001b[0m in \u001b[0;36m<cell line: 1>\u001b[0;34m()\u001b[0m\n\u001b[0;32m----> 1\u001b[0;31m \u001b[0mrec_outputs\u001b[0m \u001b[0;34m=\u001b[0m \u001b[0mrec_model\u001b[0m\u001b[0;34m.\u001b[0m\u001b[0mrun\u001b[0m\u001b[0;34m(\u001b[0m\u001b[0;32mNone\u001b[0m\u001b[0;34m,\u001b[0m \u001b[0;34m{\u001b[0m\u001b[0;34m\"x\"\u001b[0m\u001b[0;34m:\u001b[0m \u001b[0mimg_tensor\u001b[0m\u001b[0;34m}\u001b[0m\u001b[0;34m)\u001b[0m\u001b[0;34m\u001b[0m\u001b[0;34m\u001b[0m\u001b[0m\n\u001b[0m",
            "\u001b[0;32m/usr/local/lib/python3.10/dist-packages/onnxruntime/capi/onnxruntime_inference_collection.py\u001b[0m in \u001b[0;36mrun\u001b[0;34m(self, output_names, input_feed, run_options)\u001b[0m\n\u001b[1;32m    215\u001b[0m             \u001b[0moutput_names\u001b[0m \u001b[0;34m=\u001b[0m \u001b[0;34m[\u001b[0m\u001b[0moutput\u001b[0m\u001b[0;34m.\u001b[0m\u001b[0mname\u001b[0m \u001b[0;32mfor\u001b[0m \u001b[0moutput\u001b[0m \u001b[0;32min\u001b[0m \u001b[0mself\u001b[0m\u001b[0;34m.\u001b[0m\u001b[0m_outputs_meta\u001b[0m\u001b[0;34m]\u001b[0m\u001b[0;34m\u001b[0m\u001b[0;34m\u001b[0m\u001b[0m\n\u001b[1;32m    216\u001b[0m         \u001b[0;32mtry\u001b[0m\u001b[0;34m:\u001b[0m\u001b[0;34m\u001b[0m\u001b[0;34m\u001b[0m\u001b[0m\n\u001b[0;32m--> 217\u001b[0;31m             \u001b[0;32mreturn\u001b[0m \u001b[0mself\u001b[0m\u001b[0;34m.\u001b[0m\u001b[0m_sess\u001b[0m\u001b[0;34m.\u001b[0m\u001b[0mrun\u001b[0m\u001b[0;34m(\u001b[0m\u001b[0moutput_names\u001b[0m\u001b[0;34m,\u001b[0m \u001b[0minput_feed\u001b[0m\u001b[0;34m,\u001b[0m \u001b[0mrun_options\u001b[0m\u001b[0;34m)\u001b[0m\u001b[0;34m\u001b[0m\u001b[0;34m\u001b[0m\u001b[0m\n\u001b[0m\u001b[1;32m    218\u001b[0m         \u001b[0;32mexcept\u001b[0m \u001b[0mC\u001b[0m\u001b[0;34m.\u001b[0m\u001b[0mEPFail\u001b[0m \u001b[0;32mas\u001b[0m \u001b[0merr\u001b[0m\u001b[0;34m:\u001b[0m\u001b[0;34m\u001b[0m\u001b[0;34m\u001b[0m\u001b[0m\n\u001b[1;32m    219\u001b[0m             \u001b[0;32mif\u001b[0m \u001b[0mself\u001b[0m\u001b[0;34m.\u001b[0m\u001b[0m_enable_fallback\u001b[0m\u001b[0;34m:\u001b[0m\u001b[0;34m\u001b[0m\u001b[0;34m\u001b[0m\u001b[0m\n",
            "\u001b[0;31mInvalidArgument\u001b[0m: [ONNXRuntimeError] : 2 : INVALID_ARGUMENT : Got invalid dimensions for input: x for the following indices\n index: 2 Got: 1280 Expected: 48\n Please fix either the inputs or the model."
          ]
        }
      ],
      "source": [
        "rec_outputs = rec_model.run(None, {\"x\": img_tensor})"
      ]
    },
    {
      "cell_type": "code",
      "execution_count": null,
      "metadata": {
        "id": "85YcwTwvwNDi"
      },
      "outputs": [],
      "source": []
    },
    {
      "cell_type": "code",
      "execution_count": null,
      "metadata": {
        "id": "7HaP8gfM0pqz"
      },
      "outputs": [],
      "source": []
    },
    {
      "cell_type": "code",
      "execution_count": null,
      "metadata": {
        "id": "w1a6smbA0ptF"
      },
      "outputs": [],
      "source": []
    },
    {
      "cell_type": "code",
      "execution_count": null,
      "metadata": {
        "id": "iFmCmO_i0pvX"
      },
      "outputs": [],
      "source": []
    },
    {
      "cell_type": "code",
      "execution_count": null,
      "metadata": {
        "id": "UvmIwQAfEq9k"
      },
      "outputs": [],
      "source": [
        "my_path = \"/content/drive/MyDrive/OCR-SKU/Amul_Butter_targetted/\"\n",
        "times = []\n",
        "for f in sorted(os.listdir(my_path)):\n",
        "    # Read the image file.\n",
        "    image_path = my_path+f\n",
        "\n",
        "    t1 = datetime.now()\n",
        "    img = load_image_with_orientation(image_path)\n",
        "    img = np.array(img.resize((48, 48)))\n",
        "    print(img.shape)\n",
        "    #img = img[:,100:700]\n",
        "\n",
        "    #result = ocr.ocr(image_path)\n",
        "    result = ocr.ocr(img)\n",
        "    words = []\n",
        "    for line in result:\n",
        "        for word_info in line:\n",
        "            words.append(word_info[1][0])\n",
        "\n",
        "    req = get_target_statement(words)\n",
        "    if req:\n",
        "        nums = get_nums(req)\n",
        "        print(make_statement(nums))\n",
        "    else: print(f)\n",
        "    t2 = datetime.now()\n",
        "    times.append(t2-t1)"
      ]
    },
    {
      "cell_type": "code",
      "execution_count": null,
      "metadata": {
        "colab": {
          "base_uri": "https://localhost:8080/"
        },
        "id": "qVcIGbW2HyAK",
        "outputId": "49951ef3-d57c-4ab7-93f6-3cba5bf2bd30"
      },
      "outputs": [
        {
          "data": {
            "text/plain": [
              "datetime.timedelta(seconds=3, microseconds=789311)"
            ]
          },
          "execution_count": 13,
          "metadata": {},
          "output_type": "execute_result"
        }
      ],
      "source": [
        "sorted(times)[-2]"
      ]
    },
    {
      "cell_type": "markdown",
      "metadata": {
        "id": "7mas-CN3pXXF"
      },
      "source": [
        "## Data and Utils"
      ]
    },
    {
      "cell_type": "code",
      "execution_count": null,
      "metadata": {
        "colab": {
          "base_uri": "https://localhost:8080/"
        },
        "id": "x_20zKVbyUDn",
        "outputId": "ea3a7db2-1e74-459b-a634-0e8efde3debe"
      },
      "outputs": [
        {
          "name": "stdout",
          "output_type": "stream",
          "text": [
            "Archive:  /content/drive/MyDrive/OCR-SKU/Box Counting Details.zip\n",
            "   creating: Box Counting Details/Amul Butter/\n",
            "   creating: Box Counting Details/Amul Butter/1 Amul Pasteurized butter salted 20-500g/\n",
            "  inflating: Box Counting Details/Amul Butter/1 Amul Pasteurized butter salted 20-500g/IMG-20230708-WA0007.jpg  \n",
            "  inflating: Box Counting Details/Amul Butter/1 Amul Pasteurized butter salted 20-500g/IMG-20230708-WA0008.jpg  \n",
            "  inflating: Box Counting Details/Amul Butter/1 Amul Pasteurized butter salted 20-500g/IMG-20230708-WA0009.jpg  \n",
            "  inflating: Box Counting Details/Amul Butter/1 Amul Pasteurized butter salted 20-500g/IMG-20230708-WA0013.jpg  \n",
            "   creating: Box Counting Details/Amul Butter/10 Amul Pasteurized table butter 8u-8u-200g/\n",
            "  inflating: Box Counting Details/Amul Butter/10 Amul Pasteurized table butter 8u-8u-200g/IMG-20230708-WA0067.jpg  \n",
            "  inflating: Box Counting Details/Amul Butter/10 Amul Pasteurized table butter 8u-8u-200g/IMG-20230708-WA0068.jpg  \n",
            "  inflating: Box Counting Details/Amul Butter/10 Amul Pasteurized table butter 8u-8u-200g/IMG-20230708-WA0069.jpg  \n",
            "  inflating: Box Counting Details/Amul Butter/10 Amul Pasteurized table butter 8u-8u-200g/IMG-20230708-WA0070.jpg  \n",
            "   creating: Box Counting Details/Amul Butter/11 Amul White butter Unsalted 150pc-100g/\n",
            "  inflating: Box Counting Details/Amul Butter/11 Amul White butter Unsalted 150pc-100g/IMG-20230708-WA0075.jpg  \n",
            "  inflating: Box Counting Details/Amul Butter/11 Amul White butter Unsalted 150pc-100g/IMG-20230708-WA0076.jpg  \n",
            "  inflating: Box Counting Details/Amul Butter/11 Amul White butter Unsalted 150pc-100g/IMG-20230708-WA0077.jpg  \n",
            "  inflating: Box Counting Details/Amul Butter/11 Amul White butter Unsalted 150pc-100g/IMG-20230708-WA0078.jpg  \n",
            "   creating: Box Counting Details/Amul Butter/12 Amul Pasteurized butter 30pc-500g/\n",
            "  inflating: Box Counting Details/Amul Butter/12 Amul Pasteurized butter 30pc-500g/IMG-20230708-WA0079.jpg  \n",
            "  inflating: Box Counting Details/Amul Butter/12 Amul Pasteurized butter 30pc-500g/IMG-20230708-WA0080.jpg  \n",
            "  inflating: Box Counting Details/Amul Butter/12 Amul Pasteurized butter 30pc-500g/IMG-20230708-WA0081.jpg  \n",
            "  inflating: Box Counting Details/Amul Butter/12 Amul Pasteurized butter 30pc-500g/IMG-20230708-WA0082.jpg  \n",
            "   creating: Box Counting Details/Amul Butter/13 Amul White butter 15kg/\n",
            "  inflating: Box Counting Details/Amul Butter/13 Amul White butter 15kg/IMG-20230708-WA0083.jpg  \n",
            "  inflating: Box Counting Details/Amul Butter/13 Amul White butter 15kg/IMG-20230708-WA0084.jpg  \n",
            "  inflating: Box Counting Details/Amul Butter/13 Amul White butter 15kg/IMG-20230708-WA0085.jpg  \n",
            "  inflating: Box Counting Details/Amul Butter/13 Amul White butter 15kg/IMG-20230708-WA0086.jpg  \n",
            "   creating: Box Counting Details/Amul Butter/14 Amul Pasteurized butter 150pc-100g/\n",
            "  inflating: Box Counting Details/Amul Butter/14 Amul Pasteurized butter 150pc-100g/IMG-20230708-WA0035.jpg  \n",
            "  inflating: Box Counting Details/Amul Butter/14 Amul Pasteurized butter 150pc-100g/IMG-20230708-WA0036.jpg  \n",
            "  inflating: Box Counting Details/Amul Butter/14 Amul Pasteurized butter 150pc-100g/IMG-20230708-WA0037.jpg  \n",
            "  inflating: Box Counting Details/Amul Butter/14 Amul Pasteurized butter 150pc-100g/IMG-20230708-WA0038.jpg  \n",
            "   creating: Box Counting Details/Amul Butter/15 Amul White butter 30pc-500g/\n",
            "  inflating: Box Counting Details/Amul Butter/15 Amul White butter 30pc-500g/WhatsApp Image 2023-07-08 at 14.45.00.jpg  \n",
            "   creating: Box Counting Details/Amul Butter/16 Amul Pasteurized TABLE butter 15kg/\n",
            "  inflating: Box Counting Details/Amul Butter/16 Amul Pasteurized TABLE butter 15kg/IMG-20230708-WA0091.jpg  \n",
            "  inflating: Box Counting Details/Amul Butter/16 Amul Pasteurized TABLE butter 15kg/IMG-20230708-WA0092.jpg  \n",
            "  inflating: Box Counting Details/Amul Butter/16 Amul Pasteurized TABLE butter 15kg/IMG-20230708-WA0093.jpg  \n",
            "  inflating: Box Counting Details/Amul Butter/16 Amul Pasteurized TABLE butter 15kg/IMG-20230708-WA0094.jpg  \n",
            "   creating: Box Counting Details/Amul Butter/17 Amul Pasteurized butter 60pc-100g/\n",
            "  inflating: Box Counting Details/Amul Butter/17 Amul Pasteurized butter 60pc-100g/IMG-20230708-WA0095.jpg  \n",
            "  inflating: Box Counting Details/Amul Butter/17 Amul Pasteurized butter 60pc-100g/IMG-20230708-WA0096.jpg  \n",
            "  inflating: Box Counting Details/Amul Butter/17 Amul Pasteurized butter 60pc-100g/IMG-20230708-WA0097.jpg  \n",
            "  inflating: Box Counting Details/Amul Butter/17 Amul Pasteurized butter 60pc-100g/IMG-20230708-WA0098.jpg  \n",
            "   creating: Box Counting Details/Amul Butter/18 Amul Pasteurized TABLE butter 10pc-1kg/\n",
            "  inflating: Box Counting Details/Amul Butter/18 Amul Pasteurized TABLE butter 10pc-1kg/IMG-20230708-WA0102.jpg  \n",
            "  inflating: Box Counting Details/Amul Butter/18 Amul Pasteurized TABLE butter 10pc-1kg/IMG-20230708-WA0103.jpg  \n",
            "  inflating: Box Counting Details/Amul Butter/18 Amul Pasteurized TABLE butter 10pc-1kg/IMG-20230708-WA0104.jpg  \n",
            "  inflating: Box Counting Details/Amul Butter/18 Amul Pasteurized TABLE butter 10pc-1kg/IMG-20230708-WA0105.jpg  \n",
            "   creating: Box Counting Details/Amul Butter/19 Amul Pasteurized butter 10u-1kg/\n",
            "  inflating: Box Counting Details/Amul Butter/19 Amul Pasteurized butter 10u-1kg/IMG-20230708-WA0106.jpg  \n",
            "  inflating: Box Counting Details/Amul Butter/19 Amul Pasteurized butter 10u-1kg/IMG-20230708-WA0107.jpg  \n",
            "  inflating: Box Counting Details/Amul Butter/19 Amul Pasteurized butter 10u-1kg/IMG-20230708-WA0108.jpg  \n",
            "  inflating: Box Counting Details/Amul Butter/19 Amul Pasteurized butter 10u-1kg/IMG-20230708-WA0109.jpg  \n",
            "   creating: Box Counting Details/Amul Butter/2 Amul Pasteurized butter salted 100-100g/\n",
            "  inflating: Box Counting Details/Amul Butter/2 Amul Pasteurized butter salted 100-100g/IMG-20230708-WA0031.jpg  \n",
            "  inflating: Box Counting Details/Amul Butter/2 Amul Pasteurized butter salted 100-100g/IMG-20230708-WA0032.jpg  \n",
            "  inflating: Box Counting Details/Amul Butter/2 Amul Pasteurized butter salted 100-100g/IMG-20230708-WA0033.jpg  \n",
            "  inflating: Box Counting Details/Amul Butter/2 Amul Pasteurized butter salted 100-100g/IMG-20230708-WA0034.jpg  \n",
            "   creating: Box Counting Details/Amul Butter/20 Amul Butter Tinned 36pc-400g/\n",
            "  inflating: Box Counting Details/Amul Butter/20 Amul Butter Tinned 36pc-400g/IMG-20230708-WA0110.jpg  \n",
            "  inflating: Box Counting Details/Amul Butter/20 Amul Butter Tinned 36pc-400g/IMG-20230708-WA0111.jpg  \n",
            "  inflating: Box Counting Details/Amul Butter/20 Amul Butter Tinned 36pc-400g/IMG-20230708-WA0112.jpg  \n",
            "  inflating: Box Counting Details/Amul Butter/20 Amul Butter Tinned 36pc-400g/IMG-20230708-WA0113.jpg  \n",
            "   creating: Box Counting Details/Amul Butter/21 Amul Pasteurized butter salted 10-100-8g/\n",
            "  inflating: Box Counting Details/Amul Butter/21 Amul Pasteurized butter salted 10-100-8g/IMG-20230708-WA0115.jpg  \n",
            "  inflating: Box Counting Details/Amul Butter/21 Amul Pasteurized butter salted 10-100-8g/IMG-20230708-WA0116.jpg  \n",
            "  inflating: Box Counting Details/Amul Butter/21 Amul Pasteurized butter salted 10-100-8g/IMG-20230708-WA0117.jpg  \n",
            "  inflating: Box Counting Details/Amul Butter/21 Amul Pasteurized butter salted 10-100-8g/IMG-20230708-WA0118.jpg  \n",
            "   creating: Box Counting Details/Amul Butter/22 Amul Pasteurized Butter 36u-400gT/\n",
            "  inflating: Box Counting Details/Amul Butter/22 Amul Pasteurized Butter 36u-400gT/IMG-20230708-WA0119.jpg  \n",
            "  inflating: Box Counting Details/Amul Butter/22 Amul Pasteurized Butter 36u-400gT/IMG-20230708-WA0120.jpg  \n",
            "  inflating: Box Counting Details/Amul Butter/22 Amul Pasteurized Butter 36u-400gT/IMG-20230708-WA0121.jpg  \n",
            "  inflating: Box Counting Details/Amul Butter/22 Amul Pasteurized Butter 36u-400gT/IMG-20230708-WA0122.jpg  \n",
            "   creating: Box Counting Details/Amul Butter/3 Amul Pasteurized butter unsalted 20-500g/\n",
            "  inflating: Box Counting Details/Amul Butter/3 Amul Pasteurized butter unsalted 20-500g/IMG-20230708-WA0043.jpg  \n",
            "  inflating: Box Counting Details/Amul Butter/3 Amul Pasteurized butter unsalted 20-500g/IMG-20230708-WA0044.jpg  \n",
            "  inflating: Box Counting Details/Amul Butter/3 Amul Pasteurized butter unsalted 20-500g/IMG-20230708-WA0045.jpg  \n",
            "  inflating: Box Counting Details/Amul Butter/3 Amul Pasteurized butter unsalted 20-500g/IMG-20230708-WA0046.jpg  \n",
            "   creating: Box Counting Details/Amul Butter/4 Amul Pasteurized butter unsalted 100-100g/\n",
            "  inflating: Box Counting Details/Amul Butter/4 Amul Pasteurized butter unsalted 100-100g/IMG-20230708-WA0039.jpg  \n",
            "  inflating: Box Counting Details/Amul Butter/4 Amul Pasteurized butter unsalted 100-100g/IMG-20230708-WA0040.jpg  \n",
            "  inflating: Box Counting Details/Amul Butter/4 Amul Pasteurized butter unsalted 100-100g/IMG-20230708-WA0041.jpg  \n",
            "  inflating: Box Counting Details/Amul Butter/4 Amul Pasteurized butter unsalted 100-100g/IMG-20230708-WA0042.jpg  \n",
            "   creating: Box Counting Details/Amul Butter/5 Amul pasteurized wb cm butter salted 100-100g/\n",
            "  inflating: Box Counting Details/Amul Butter/5 Amul pasteurized wb cm butter salted 100-100g/IMG-20230708-WA0047.jpg  \n",
            "  inflating: Box Counting Details/Amul Butter/5 Amul pasteurized wb cm butter salted 100-100g/IMG-20230708-WA0048.jpg  \n",
            "  inflating: Box Counting Details/Amul Butter/5 Amul pasteurized wb cm butter salted 100-100g/IMG-20230708-WA0049.jpg  \n",
            "  inflating: Box Counting Details/Amul Butter/5 Amul pasteurized wb cm butter salted 100-100g/IMG-20230708-WA0050.jpg  \n",
            "   creating: Box Counting Details/Amul Butter/6 Amul pasteurized wb cm butter unsalted 20-500g/\n",
            "  inflating: Box Counting Details/Amul Butter/6 Amul pasteurized wb cm butter unsalted 20-500g/IMG-20230708-WA0051.jpg  \n",
            "  inflating: Box Counting Details/Amul Butter/6 Amul pasteurized wb cm butter unsalted 20-500g/IMG-20230708-WA0052.jpg  \n",
            "  inflating: Box Counting Details/Amul Butter/6 Amul pasteurized wb cm butter unsalted 20-500g/IMG-20230708-WA0053.jpg  \n",
            "  inflating: Box Counting Details/Amul Butter/6 Amul pasteurized wb cm butter unsalted 20-500g/IMG-20230708-WA0054.jpg  \n",
            "   creating: Box Counting Details/Amul Butter/7 Amul pasteurized wb cm butter unsalted 20-500g/\n",
            "  inflating: Box Counting Details/Amul Butter/7 Amul pasteurized wb cm butter unsalted 20-500g/IMG-20230708-WA0055.jpg  \n",
            "  inflating: Box Counting Details/Amul Butter/7 Amul pasteurized wb cm butter unsalted 20-500g/IMG-20230708-WA0056.jpg  \n",
            "  inflating: Box Counting Details/Amul Butter/7 Amul pasteurized wb cm butter unsalted 20-500g/IMG-20230708-WA0057.jpg  \n",
            "  inflating: Box Counting Details/Amul Butter/7 Amul pasteurized wb cm butter unsalted 20-500g/IMG-20230708-WA0058.jpg  \n",
            "   creating: Box Counting Details/Amul Butter/8 Amul Pasteurized butter 16pc-1kg/\n",
            "  inflating: Box Counting Details/Amul Butter/8 Amul Pasteurized butter 16pc-1kg/IMG-20230708-WA0059.jpg  \n",
            "  inflating: Box Counting Details/Amul Butter/8 Amul Pasteurized butter 16pc-1kg/IMG-20230708-WA0060.jpg  \n",
            "  inflating: Box Counting Details/Amul Butter/8 Amul Pasteurized butter 16pc-1kg/IMG-20230708-WA0061.jpg  \n",
            "  inflating: Box Counting Details/Amul Butter/8 Amul Pasteurized butter 16pc-1kg/IMG-20230708-WA0062.jpg  \n",
            "   creating: Box Counting Details/Amul Butter/9 Amul Pasteurized table butter 40pc-500g/\n",
            "  inflating: Box Counting Details/Amul Butter/9 Amul Pasteurized table butter 40pc-500g/IMG-20230708-WA0063.jpg  \n",
            "  inflating: Box Counting Details/Amul Butter/9 Amul Pasteurized table butter 40pc-500g/IMG-20230708-WA0064.jpg  \n",
            "  inflating: Box Counting Details/Amul Butter/9 Amul Pasteurized table butter 40pc-500g/IMG-20230708-WA0065.jpg  \n",
            "  inflating: Box Counting Details/Amul Butter/9 Amul Pasteurized table butter 40pc-500g/IMG-20230708-WA0066.jpg  \n",
            "  inflating: Box Counting Details/Amul Butter/Amul Butter_SKU.xlsx  \n",
            "   creating: Box Counting Details/Amul Powder/\n",
            "   creating: Box Counting Details/Amul Powder/1 Amul Spray IMF IMS - 12pc 1kg/\n",
            "  inflating: Box Counting Details/Amul Powder/1 Amul Spray IMF IMS - 12pc 1kg/IMG-20230709-WA0005.jpg  \n",
            "  inflating: Box Counting Details/Amul Powder/1 Amul Spray IMF IMS - 12pc 1kg/IMG-20230709-WA0006.jpg  \n",
            "  inflating: Box Counting Details/Amul Powder/1 Amul Spray IMF IMS - 12pc 1kg/IMG-20230709-WA0007.jpg  \n",
            "  inflating: Box Counting Details/Amul Powder/1 Amul Spray IMF IMS - 12pc 1kg/IMG-20230709-WA0010.jpg  \n",
            "   creating: Box Counting Details/Amul Powder/10 Amulya Dairy Whitener - AR AP - 2pc (420pc 10g)/\n",
            "  inflating: Box Counting Details/Amul Powder/10 Amulya Dairy Whitener - AR AP - 2pc (420pc 10g)/IMG-20230709-WA0029.jpg  \n",
            "  inflating: Box Counting Details/Amul Powder/10 Amulya Dairy Whitener - AR AP - 2pc (420pc 10g)/IMG-20230709-WA0030.jpg  \n",
            "  inflating: Box Counting Details/Amul Powder/10 Amulya Dairy Whitener - AR AP - 2pc (420pc 10g)/IMG-20230709-WA0031.jpg  \n",
            "  inflating: Box Counting Details/Amul Powder/10 Amulya Dairy Whitener - AR AP - 2pc (420pc 10g)/IMG-20230709-WA0033.jpg  \n",
            "  inflating: Box Counting Details/Amul Powder/10 Amulya Dairy Whitener - AR AP - 2pc (420pc 10g)/Thumbs.db  \n",
            "   creating: Box Counting Details/Amul Powder/2 Amul Spray IMF IMS - 24pc 500grm/\n",
            "  inflating: Box Counting Details/Amul Powder/2 Amul Spray IMF IMS - 24pc 500grm/IMG-20230709-WA0035.jpg  \n",
            "  inflating: Box Counting Details/Amul Powder/2 Amul Spray IMF IMS - 24pc 500grm/IMG-20230709-WA0036.jpg  \n",
            "  inflating: Box Counting Details/Amul Powder/2 Amul Spray IMF IMS - 24pc 500grm/IMG-20230709-WA0037.jpg  \n",
            "  inflating: Box Counting Details/Amul Powder/2 Amul Spray IMF IMS - 24pc 500grm/IMG-20230709-WA0039.jpg  \n",
            "  inflating: Box Counting Details/Amul Powder/2 Amul Spray IMF IMS - 24pc 500grm/Thumbs.db  \n",
            "   creating: Box Counting Details/Amul Powder/4 Amul Spray IMF IMS - 12u (240pc 43grm)/\n",
            "  inflating: Box Counting Details/Amul Powder/4 Amul Spray IMF IMS - 12u (240pc 43grm)/IMG-20230709-WA0025.jpg  \n",
            "  inflating: Box Counting Details/Amul Powder/4 Amul Spray IMF IMS - 12u (240pc 43grm)/IMG-20230709-WA0026.jpg  \n",
            "  inflating: Box Counting Details/Amul Powder/4 Amul Spray IMF IMS - 12u (240pc 43grm)/IMG-20230709-WA0027.jpg  \n",
            "  inflating: Box Counting Details/Amul Powder/4 Amul Spray IMF IMS - 12u (240pc 43grm)/IMG-20230709-WA0028.jpg  \n",
            "   creating: Box Counting Details/Amul Powder/5 Amul Spray IMF IMS - 2pc (240pc 21grm)/\n",
            "  inflating: Box Counting Details/Amul Powder/5 Amul Spray IMF IMS - 2pc (240pc 21grm)/IMG-20230709-WA0008.jpg  \n",
            "  inflating: Box Counting Details/Amul Powder/5 Amul Spray IMF IMS - 2pc (240pc 21grm)/IMG-20230709-WA0009.jpg  \n",
            "  inflating: Box Counting Details/Amul Powder/5 Amul Spray IMF IMS - 2pc (240pc 21grm)/IMG-20230709-WA0011.jpg  \n",
            "  inflating: Box Counting Details/Amul Powder/5 Amul Spray IMF IMS - 2pc (240pc 21grm)/IMG-20230709-WA0012.jpg  \n",
            "   creating: Box Counting Details/Amul Powder/6 Amul Spray IMF IMS - 2pc (420pc 13.5grm)/\n",
            "  inflating: Box Counting Details/Amul Powder/6 Amul Spray IMF IMS - 2pc (420pc 13.5grm)/IMG-20230709-WA0001.jpg  \n",
            "  inflating: Box Counting Details/Amul Powder/6 Amul Spray IMF IMS - 2pc (420pc 13.5grm)/IMG-20230709-WA0002.jpg  \n",
            "  inflating: Box Counting Details/Amul Powder/6 Amul Spray IMF IMS - 2pc (420pc 13.5grm)/IMG-20230709-WA0003.jpg  \n",
            "  inflating: Box Counting Details/Amul Powder/6 Amul Spray IMF IMS - 2pc (420pc 13.5grm)/IMG-20230709-WA0004.jpg  \n",
            "   creating: Box Counting Details/Amul Powder/7 Amulya Dairy Whitener - AR AP - 12pc 1kg/\n",
            "  inflating: Box Counting Details/Amul Powder/7 Amulya Dairy Whitener - AR AP - 12pc 1kg/IMG-20230709-WA0017.jpg  \n",
            "  inflating: Box Counting Details/Amul Powder/7 Amulya Dairy Whitener - AR AP - 12pc 1kg/IMG-20230709-WA0018.jpg  \n",
            "  inflating: Box Counting Details/Amul Powder/7 Amulya Dairy Whitener - AR AP - 12pc 1kg/IMG-20230709-WA0019.jpg  \n",
            "  inflating: Box Counting Details/Amul Powder/7 Amulya Dairy Whitener - AR AP - 12pc 1kg/IMG-20230709-WA0022.jpg  \n",
            "   creating: Box Counting Details/Amul Powder/8 Amulya Dairy Whitener - AR AP - 24pc 500g/\n",
            "  inflating: Box Counting Details/Amul Powder/8 Amulya Dairy Whitener - AR AP - 24pc 500g/IMG-20230709-WA0013.jpg  \n",
            "  inflating: Box Counting Details/Amul Powder/8 Amulya Dairy Whitener - AR AP - 24pc 500g/IMG-20230709-WA0014.jpg  \n",
            "  inflating: Box Counting Details/Amul Powder/8 Amulya Dairy Whitener - AR AP - 24pc 500g/IMG-20230709-WA0015.jpg  \n",
            "  inflating: Box Counting Details/Amul Powder/8 Amulya Dairy Whitener - AR AP - 24pc 500g/IMG-20230709-WA0016.jpg  \n",
            "   creating: Box Counting Details/Amul Powder/9 Amulya Dairy Whitener - AR AP - 2pc (240pc 21g)/\n",
            "  inflating: Box Counting Details/Amul Powder/9 Amulya Dairy Whitener - AR AP - 2pc (240pc 21g)/IMG-20230709-WA0020.jpg  \n",
            "  inflating: Box Counting Details/Amul Powder/9 Amulya Dairy Whitener - AR AP - 2pc (240pc 21g)/IMG-20230709-WA0021.jpg  \n",
            "  inflating: Box Counting Details/Amul Powder/9 Amulya Dairy Whitener - AR AP - 2pc (240pc 21g)/IMG-20230709-WA0023.jpg  \n",
            "  inflating: Box Counting Details/Amul Powder/9 Amulya Dairy Whitener - AR AP - 2pc (240pc 21g)/IMG-20230709-WA0024.jpg  \n",
            "  inflating: Box Counting Details/Amul Powder/Amul Powder_SKU.xlsx  \n"
          ]
        }
      ],
      "source": [
        "!unzip \"/content/drive/MyDrive/OCR-SKU/Box Counting Details.zip\""
      ]
    },
    {
      "cell_type": "code",
      "execution_count": null,
      "metadata": {
        "id": "lLaYQ9HZoRzO"
      },
      "outputs": [],
      "source": [
        "def make_statement(nums):\n",
        "    unit = 'g'\n",
        "    if nums[-1]<4:\n",
        "        unit = 'kg'\n",
        "    for i in range(len(nums)):\n",
        "        s = str(nums[i])\n",
        "        if len(s)>3 and '.' not in s:\n",
        "            nums[i] = int(s[:3])\n",
        "        if '.' in s:\n",
        "            ind = s.index('.')\n",
        "            nums[i] = float(s[:ind+2])\n",
        "        if s[-1]=='9':\n",
        "            if len(s)==1:\n",
        "                nums.pop(i)\n",
        "            else:\n",
        "                nums[i] = float(s[:-1])\n",
        "    if len(nums)==1:\n",
        "        return f'{nums[0]} Pieces'\n",
        "    if len(nums)==2:\n",
        "        return f'{nums[0]} Pieces X {nums[1]}{unit}'\n",
        "    if len(nums)==3:\n",
        "        return f'{nums[0]} Pieces ({nums[1]} Pieces X {nums[2]}{unit})'\n",
        "    return nums\n",
        "\n",
        "def get_nums(statement):\n",
        "    nums = []\n",
        "    curr = ''\n",
        "    for i in range(len(statement)):\n",
        "        if statement[i].isdigit() or (len(curr)>0 and statement[i]=='.'):\n",
        "            curr+=statement[i]\n",
        "            if i<len(statement)-1 and statement[i+1]=='.': continue\n",
        "\n",
        "            if i==len(statement)-1 or not statement[i+1].isdigit():\n",
        "                if float(curr)==int(float(curr)): nums.append(int(curr))\n",
        "                else: nums.append(float(curr))\n",
        "                curr=''\n",
        "    return nums\n",
        "\n",
        "\n",
        "def get_target_statement(words):\n",
        "    req = ''\n",
        "    for sentence in words:\n",
        "        if ('X' in sentence or 'x' in sentence) and 'Pieces' in sentence:\n",
        "            nums = get_nums(sentence)\n",
        "            if len(nums)>=2:\n",
        "                req = sentence\n",
        "    if len(req)>2:\n",
        "        return(req)\n",
        "    return None\n",
        "\n",
        "def load_image_with_orientation(image_path):\n",
        "    img = Image.open(image_path)\n",
        "\n",
        "    # Check if the image has Exif data with orientation information\n",
        "    if hasattr(img, '_getexif'):\n",
        "        exif = img._getexif()\n",
        "        if exif is not None:\n",
        "            orientation = exif.get(0x0112)\n",
        "            # Orientation values: 1, 3, 6, 8 (See Exif documentation for details)\n",
        "            if orientation == 3:\n",
        "                img = img.rotate(180, expand=True)\n",
        "            elif orientation == 6:\n",
        "                img = img.rotate(270, expand=True)\n",
        "            elif orientation == 8:\n",
        "                img = img.rotate(90, expand=True)\n",
        "\n",
        "    return img"
      ]
    },
    {
      "cell_type": "markdown",
      "metadata": {
        "id": "xOFakT1mppz7"
      },
      "source": [
        "## Code"
      ]
    },
    {
      "cell_type": "code",
      "execution_count": null,
      "metadata": {
        "id": "xGUfZTDBKjpw"
      },
      "outputs": [],
      "source": [
        "ocr = PaddleOCR(lang=\"en\", rec_model_type='en', rec_algorithm = 'CRNN', det_db_thresh=0.4, show_log = False, use_angle_cls = True)"
      ]
    },
    {
      "cell_type": "code",
      "execution_count": null,
      "metadata": {
        "id": "lqReaTluON-D"
      },
      "outputs": [],
      "source": [
        "import cv2"
      ]
    },
    {
      "cell_type": "code",
      "execution_count": null,
      "metadata": {
        "colab": {
          "base_uri": "https://localhost:8080/"
        },
        "id": "ZJs8t3myoR1r",
        "outputId": "574844ed-fa3a-4c27-946a-1621a2d217ec"
      },
      "outputs": [
        {
          "name": "stdout",
          "output_type": "stream",
          "text": [
            "\n",
            " 1 Amul Pasteurized butter salted 20-500g\n",
            "\t 20 Pieces X 500g\n",
            "\n",
            " 10 Amul Pasteurized table butter 8u-8u-200g\n",
            "\t 8 Pieces X 8 Pieces X 200g\n",
            "\t 8 Pieces X 200g\n",
            "\n",
            " 11 Amul White butter Unsalted 150pc-100g\n",
            "\t 150 Pieces X 100g\n",
            "\n",
            " 12 Amul Pasteurized butter 30pc-500g\n",
            "\t 30 Pieces X 500g\n",
            "\t 30 Pieces X 500g\n",
            "\n",
            " 13 Amul White butter 15kg\n",
            "\n",
            " 14 Amul Pasteurized butter 150pc-100g\n",
            "\t 150 Pieces X 100g\n",
            "\t 150 Pieces X 100g\n",
            "\n",
            " 15 Amul White butter 30pc-500g\n",
            "\t 30 Pieces X 500g\n",
            "\n",
            " 16 Amul Pasteurized TABLE butter 15kg\n",
            "\n",
            " 17 Amul Pasteurized butter 60pc-100g\n",
            "\t 60 Pieces X 100g\n",
            "\n",
            " 18 Amul Pasteurized TABLE butter 10pc-1kg\n",
            "\t 10 Pieces X 1kg\n",
            "\t 10 Pieces X 1kg\n",
            "\n",
            " 19 Amul Pasteurized butter 10u-1kg\n",
            "\t 10 Pieces X 1kg\n",
            "\t 10 Pieces X 1kg\n",
            "\n",
            " 2 Amul Pasteurized butter salted 100-100g\n",
            "\t 100 Pieces X 100g\n",
            "\n",
            " 20 Amul Butter Tinned 36pc-400g\n",
            "\t 36 Pieces X 400g\n",
            "\n",
            " 21 Amul Pasteurized butter salted 10-100-8g\n",
            "\t 36 Pieces X 400g\n",
            "\t 10 Pieces X 100 Pieces X 8g\n",
            "\t 36 Pieces X 400g\n",
            "\n",
            " 22 Amul Pasteurized Butter 36u-400gT\n",
            "\t 36 Pieces X 400g\n",
            "\t 36 Pieces X 400g\n",
            "\t 36 Pieces X 400g\n",
            "\n",
            " 3 Amul Pasteurized butter unsalted 20-500g\n",
            "\t 20 Pieces X 500g\n",
            "\n",
            " 4 Amul Pasteurized butter unsalted 100-100g\n",
            "\t 100 Pieces X 100g\n",
            "\n",
            " 5 Amul pasteurized wb cm butter salted 100-100g\n",
            "\t 100 Pieces X 100g\n",
            "\n",
            " 6 Amul pasteurized wb cm butter unsalted 20-500g\n",
            "\t 20 Pieces X 500g\n",
            "\n",
            " 7 Amul pasteurized wb cm butter unsalted 20-500g\n",
            "\t 20 Pieces X 500g\n",
            "\n",
            " 8 Amul Pasteurized butter 16pc-1kg\n",
            "\t 16 Pieces X 1kg\n",
            "\t 16 Pieces X 1kg\n",
            "\n",
            " 9 Amul Pasteurized table butter 40pc-500g\n"
          ]
        }
      ],
      "source": [
        "my_path = '/content/Box Counting Details/Amul Butter/'\n",
        "files = sorted(os.listdir(my_path))\n",
        "times = []\n",
        "f = \"9 Amul Pasteurized table butter 40pc-500g\"\n",
        "\n",
        "for f in files:\n",
        "    if '.xlsx' in f: continue\n",
        "    print('\\n',f)\n",
        "    for image in os.listdir(my_path+f):\n",
        "        if image[-3:]=='jpg' or image[-3:]=='png':\n",
        "            # Read the image file.\n",
        "            image_path = f\"{my_path}{f}/{image}\"\n",
        "\n",
        "            t1 = datetime.now()\n",
        "            # img = load_image_with_orientation(image_path)\n",
        "            # img = np.array(img.resize((800, 300)))\n",
        "            # img = img[:,100:700]\n",
        "            result = ocr.ocr(image_path)\n",
        "            #result = ocr.ocr(img)\n",
        "            words = []\n",
        "            for line in result:\n",
        "                for word_info in line:\n",
        "                    words.append(word_info[1][0])\n",
        "            #print(words)\n",
        "            req = get_target_statement(words)\n",
        "            if req:\n",
        "                nums = get_nums(req)\n",
        "                print('\\t',make_statement(nums))\n",
        "            t2 = datetime.now()\n",
        "            times.append(t2-t1)"
      ]
    },
    {
      "cell_type": "code",
      "execution_count": null,
      "metadata": {
        "colab": {
          "base_uri": "https://localhost:8080/"
        },
        "id": "tRN8lHj-ptLb",
        "outputId": "b827b1a3-b8ef-4308-a861-0fa3d87c4bea"
      },
      "outputs": [
        {
          "name": "stdout",
          "output_type": "stream",
          "text": [
            "Average Time 0:00:00.505333\n"
          ]
        }
      ],
      "source": [
        "times = np.array(times)\n",
        "print('Average Time',np.mean(times))"
      ]
    },
    {
      "cell_type": "code",
      "execution_count": null,
      "metadata": {
        "colab": {
          "base_uri": "https://localhost:8080/"
        },
        "id": "SBn02owRwn-V",
        "outputId": "2ca9b05c-d3a4-4a9a-bb92-98dbed8259e1"
      },
      "outputs": [
        {
          "data": {
            "text/plain": [
              "(datetime.timedelta(microseconds=498582),\n",
              " datetime.timedelta(microseconds=561678))"
            ]
          },
          "execution_count": 54,
          "metadata": {},
          "output_type": "execute_result"
        }
      ],
      "source": [
        "np.median(times), max(times)"
      ]
    },
    {
      "cell_type": "code",
      "execution_count": null,
      "metadata": {
        "colab": {
          "base_uri": "https://localhost:8080/"
        },
        "id": "OSV3cMe4WXVO",
        "outputId": "7df8f8d2-7f3c-41bc-f7b8-c4cd983fd12a"
      },
      "outputs": [
        {
          "name": "stdout",
          "output_type": "stream",
          "text": [
            "\n",
            " 1 Amul Spray IMF IMS - 12pc 1kg\n",
            "[2023/07/22 10:31:22] ppocr WARNING: Since the angle classifier is not initialized, the angle classifier will not be uesd during the forward process\n",
            "\t 12 Pieces X 1kg\n",
            "[2023/07/22 10:31:23] ppocr WARNING: Since the angle classifier is not initialized, the angle classifier will not be uesd during the forward process\n",
            "\t 12 Pieces X 1kg\n",
            "[2023/07/22 10:31:25] ppocr WARNING: Since the angle classifier is not initialized, the angle classifier will not be uesd during the forward process\n"
          ]
        },
        {
          "name": "stderr",
          "output_type": "stream",
          "text": [
            "Process Process-15:\n",
            "Traceback (most recent call last):\n",
            "  File \"/usr/lib/python3.10/multiprocessing/process.py\", line 314, in _bootstrap\n",
            "    self.run()\n",
            "  File \"/usr/lib/python3.10/multiprocessing/process.py\", line 108, in run\n",
            "    self._target(*self._args, **self._kwargs)\n",
            "  File \"/usr/local/lib/python3.10/dist-packages/timeout_decorator/timeout_decorator.py\", line 82, in new_function\n",
            "    return function(*args, **kwargs)\n",
            "  File \"<ipython-input-31-864ac19e3ab7>\", line 6, in execute_function_and_get_output\n",
            "    output = my_func(path)\n",
            "  File \"<ipython-input-31-864ac19e3ab7>\", line 23, in my_func\n",
            "    result = ocr.ocr(img)\n",
            "  File \"/usr/local/lib/python3.10/dist-packages/paddleocr/paddleocr.py\", line 555, in ocr\n",
            "    dt_boxes, rec_res, _ = self.__call__(img, cls)\n",
            "  File \"/usr/local/lib/python3.10/dist-packages/paddleocr/tools/infer/predict_system.py\", line 95, in __call__\n",
            "    rec_res, elapse = self.text_recognizer(img_crop_list)\n",
            "  File \"/usr/local/lib/python3.10/dist-packages/paddleocr/tools/infer/predict_rec.py\", line 609, in __call__\n",
            "    self.predictor.run()\n",
            "  File \"/usr/local/lib/python3.10/dist-packages/timeout_decorator/timeout_decorator.py\", line 69, in handler\n",
            "    _raise_exception(timeout_exception, exception_message)\n",
            "  File \"/usr/local/lib/python3.10/dist-packages/timeout_decorator/timeout_decorator.py\", line 45, in _raise_exception\n",
            "    raise exception()\n",
            "timeout_decorator.timeout_decorator.TimeoutError: 'Timed Out'\n"
          ]
        },
        {
          "name": "stdout",
          "output_type": "stream",
          "text": [
            "[2023/07/22 10:31:28] ppocr WARNING: Since the angle classifier is not initialized, the angle classifier will not be uesd during the forward process\n"
          ]
        },
        {
          "name": "stderr",
          "output_type": "stream",
          "text": [
            "Process Process-16:\n",
            "Traceback (most recent call last):\n",
            "  File \"/usr/lib/python3.10/multiprocessing/process.py\", line 314, in _bootstrap\n",
            "    self.run()\n",
            "  File \"/usr/lib/python3.10/multiprocessing/process.py\", line 108, in run\n",
            "    self._target(*self._args, **self._kwargs)\n",
            "  File \"/usr/local/lib/python3.10/dist-packages/timeout_decorator/timeout_decorator.py\", line 82, in new_function\n",
            "    return function(*args, **kwargs)\n",
            "  File \"<ipython-input-31-864ac19e3ab7>\", line 6, in execute_function_and_get_output\n",
            "    output = my_func(path)\n",
            "  File \"<ipython-input-31-864ac19e3ab7>\", line 23, in my_func\n",
            "    result = ocr.ocr(img)\n",
            "  File \"/usr/local/lib/python3.10/dist-packages/paddleocr/paddleocr.py\", line 555, in ocr\n",
            "    dt_boxes, rec_res, _ = self.__call__(img, cls)\n",
            "  File \"/usr/local/lib/python3.10/dist-packages/paddleocr/tools/infer/predict_system.py\", line 95, in __call__\n",
            "    rec_res, elapse = self.text_recognizer(img_crop_list)\n",
            "  File \"/usr/local/lib/python3.10/dist-packages/paddleocr/tools/infer/predict_rec.py\", line 609, in __call__\n",
            "    self.predictor.run()\n",
            "  File \"/usr/local/lib/python3.10/dist-packages/timeout_decorator/timeout_decorator.py\", line 69, in handler\n",
            "    _raise_exception(timeout_exception, exception_message)\n",
            "  File \"/usr/local/lib/python3.10/dist-packages/timeout_decorator/timeout_decorator.py\", line 45, in _raise_exception\n",
            "    raise exception()\n",
            "timeout_decorator.timeout_decorator.TimeoutError: 'Timed Out'\n"
          ]
        },
        {
          "name": "stdout",
          "output_type": "stream",
          "text": [
            "\n",
            " 10 Amulya Dairy Whitener - AR AP - 2pc (420pc 10g)\n",
            "[2023/07/22 10:31:31] ppocr WARNING: Since the angle classifier is not initialized, the angle classifier will not be uesd during the forward process\n",
            "\t 2 Pieces (420 Pieces X 10g)\n",
            "[2023/07/22 10:31:32] ppocr WARNING: Since the angle classifier is not initialized, the angle classifier will not be uesd during the forward process\n",
            "\t 2 Pieces (420 Pieces X 10g)\n",
            "[2023/07/22 10:31:33] ppocr WARNING: Since the angle classifier is not initialized, the angle classifier will not be uesd during the forward process\n"
          ]
        },
        {
          "name": "stderr",
          "output_type": "stream",
          "text": [
            "Process Process-19:\n",
            "Traceback (most recent call last):\n",
            "  File \"/usr/lib/python3.10/multiprocessing/process.py\", line 314, in _bootstrap\n",
            "    self.run()\n",
            "  File \"/usr/lib/python3.10/multiprocessing/process.py\", line 108, in run\n",
            "    self._target(*self._args, **self._kwargs)\n",
            "  File \"/usr/local/lib/python3.10/dist-packages/timeout_decorator/timeout_decorator.py\", line 82, in new_function\n",
            "    return function(*args, **kwargs)\n",
            "  File \"<ipython-input-31-864ac19e3ab7>\", line 6, in execute_function_and_get_output\n",
            "    output = my_func(path)\n",
            "  File \"<ipython-input-31-864ac19e3ab7>\", line 23, in my_func\n",
            "    result = ocr.ocr(img)\n",
            "  File \"/usr/local/lib/python3.10/dist-packages/paddleocr/paddleocr.py\", line 555, in ocr\n",
            "    dt_boxes, rec_res, _ = self.__call__(img, cls)\n",
            "  File \"/usr/local/lib/python3.10/dist-packages/paddleocr/tools/infer/predict_system.py\", line 95, in __call__\n",
            "    rec_res, elapse = self.text_recognizer(img_crop_list)\n",
            "  File \"/usr/local/lib/python3.10/dist-packages/paddleocr/tools/infer/predict_rec.py\", line 609, in __call__\n",
            "    self.predictor.run()\n",
            "  File \"/usr/local/lib/python3.10/dist-packages/timeout_decorator/timeout_decorator.py\", line 69, in handler\n",
            "    _raise_exception(timeout_exception, exception_message)\n",
            "  File \"/usr/local/lib/python3.10/dist-packages/timeout_decorator/timeout_decorator.py\", line 45, in _raise_exception\n",
            "    raise exception()\n",
            "timeout_decorator.timeout_decorator.TimeoutError: 'Timed Out'\n"
          ]
        },
        {
          "name": "stdout",
          "output_type": "stream",
          "text": [
            "[2023/07/22 10:31:36] ppocr WARNING: Since the angle classifier is not initialized, the angle classifier will not be uesd during the forward process\n",
            "10 Amulya Dairy Whitener - AR AP - 2pc (420pc 10g)\n",
            "\n",
            " 2 Amul Spray IMF IMS - 24pc 500grm\n",
            "[2023/07/22 10:31:38] ppocr WARNING: Since the angle classifier is not initialized, the angle classifier will not be uesd during the forward process\n",
            "\t 24 Pieces X 500g\n",
            "[2023/07/22 10:31:39] ppocr WARNING: Since the angle classifier is not initialized, the angle classifier will not be uesd during the forward process\n",
            "\t 24 Pieces X 500g\n",
            "[2023/07/22 10:31:40] ppocr WARNING: Since the angle classifier is not initialized, the angle classifier will not be uesd during the forward process\n",
            "2 Amul Spray IMF IMS - 24pc 500grm\n",
            "[2023/07/22 10:31:41] ppocr WARNING: Since the angle classifier is not initialized, the angle classifier will not be uesd during the forward process\n"
          ]
        },
        {
          "name": "stderr",
          "output_type": "stream",
          "text": [
            "Process Process-24:\n",
            "Traceback (most recent call last):\n",
            "  File \"/usr/lib/python3.10/multiprocessing/process.py\", line 314, in _bootstrap\n",
            "    self.run()\n",
            "  File \"/usr/lib/python3.10/multiprocessing/process.py\", line 108, in run\n",
            "    self._target(*self._args, **self._kwargs)\n",
            "  File \"/usr/local/lib/python3.10/dist-packages/timeout_decorator/timeout_decorator.py\", line 82, in new_function\n",
            "    return function(*args, **kwargs)\n",
            "  File \"<ipython-input-31-864ac19e3ab7>\", line 6, in execute_function_and_get_output\n",
            "    output = my_func(path)\n",
            "  File \"<ipython-input-31-864ac19e3ab7>\", line 23, in my_func\n",
            "    result = ocr.ocr(img)\n",
            "  File \"/usr/local/lib/python3.10/dist-packages/paddleocr/paddleocr.py\", line 555, in ocr\n",
            "    dt_boxes, rec_res, _ = self.__call__(img, cls)\n",
            "  File \"/usr/local/lib/python3.10/dist-packages/paddleocr/tools/infer/predict_system.py\", line 95, in __call__\n",
            "    rec_res, elapse = self.text_recognizer(img_crop_list)\n",
            "  File \"/usr/local/lib/python3.10/dist-packages/paddleocr/tools/infer/predict_rec.py\", line 609, in __call__\n",
            "    self.predictor.run()\n",
            "  File \"/usr/local/lib/python3.10/dist-packages/timeout_decorator/timeout_decorator.py\", line 69, in handler\n",
            "    _raise_exception(timeout_exception, exception_message)\n",
            "  File \"/usr/local/lib/python3.10/dist-packages/timeout_decorator/timeout_decorator.py\", line 45, in _raise_exception\n",
            "    raise exception()\n",
            "timeout_decorator.timeout_decorator.TimeoutError: 'Timed Out'\n"
          ]
        },
        {
          "name": "stdout",
          "output_type": "stream",
          "text": [
            "\n",
            " 4 Amul Spray IMF IMS - 12u (240pc 43grm)\n",
            "[2023/07/22 10:31:44] ppocr WARNING: Since the angle classifier is not initialized, the angle classifier will not be uesd during the forward process\n"
          ]
        },
        {
          "name": "stderr",
          "output_type": "stream",
          "text": [
            "Process Process-25:\n",
            "Traceback (most recent call last):\n",
            "  File \"/usr/lib/python3.10/multiprocessing/process.py\", line 314, in _bootstrap\n",
            "    self.run()\n",
            "  File \"/usr/lib/python3.10/multiprocessing/process.py\", line 108, in run\n",
            "    self._target(*self._args, **self._kwargs)\n",
            "  File \"/usr/local/lib/python3.10/dist-packages/timeout_decorator/timeout_decorator.py\", line 82, in new_function\n",
            "    return function(*args, **kwargs)\n",
            "  File \"<ipython-input-31-864ac19e3ab7>\", line 6, in execute_function_and_get_output\n",
            "    output = my_func(path)\n",
            "  File \"<ipython-input-31-864ac19e3ab7>\", line 23, in my_func\n",
            "    result = ocr.ocr(img)\n",
            "  File \"/usr/local/lib/python3.10/dist-packages/paddleocr/paddleocr.py\", line 555, in ocr\n",
            "    dt_boxes, rec_res, _ = self.__call__(img, cls)\n",
            "  File \"/usr/local/lib/python3.10/dist-packages/paddleocr/tools/infer/predict_system.py\", line 95, in __call__\n",
            "    rec_res, elapse = self.text_recognizer(img_crop_list)\n",
            "  File \"/usr/local/lib/python3.10/dist-packages/paddleocr/tools/infer/predict_rec.py\", line 609, in __call__\n",
            "    self.predictor.run()\n",
            "  File \"/usr/local/lib/python3.10/dist-packages/timeout_decorator/timeout_decorator.py\", line 69, in handler\n",
            "    _raise_exception(timeout_exception, exception_message)\n",
            "  File \"/usr/local/lib/python3.10/dist-packages/timeout_decorator/timeout_decorator.py\", line 45, in _raise_exception\n",
            "    raise exception()\n",
            "timeout_decorator.timeout_decorator.TimeoutError: 'Timed Out'\n"
          ]
        },
        {
          "name": "stdout",
          "output_type": "stream",
          "text": [
            "[2023/07/22 10:31:48] ppocr WARNING: Since the angle classifier is not initialized, the angle classifier will not be uesd during the forward process\n"
          ]
        },
        {
          "name": "stderr",
          "output_type": "stream",
          "text": [
            "Process Process-26:\n",
            "Traceback (most recent call last):\n",
            "  File \"/usr/lib/python3.10/multiprocessing/process.py\", line 314, in _bootstrap\n",
            "    self.run()\n",
            "  File \"/usr/lib/python3.10/multiprocessing/process.py\", line 108, in run\n",
            "    self._target(*self._args, **self._kwargs)\n",
            "  File \"/usr/local/lib/python3.10/dist-packages/timeout_decorator/timeout_decorator.py\", line 82, in new_function\n",
            "    return function(*args, **kwargs)\n",
            "  File \"<ipython-input-31-864ac19e3ab7>\", line 6, in execute_function_and_get_output\n",
            "    output = my_func(path)\n",
            "  File \"<ipython-input-31-864ac19e3ab7>\", line 23, in my_func\n",
            "    result = ocr.ocr(img)\n",
            "  File \"/usr/local/lib/python3.10/dist-packages/paddleocr/paddleocr.py\", line 555, in ocr\n",
            "    dt_boxes, rec_res, _ = self.__call__(img, cls)\n",
            "  File \"/usr/local/lib/python3.10/dist-packages/paddleocr/tools/infer/predict_system.py\", line 95, in __call__\n",
            "    rec_res, elapse = self.text_recognizer(img_crop_list)\n",
            "  File \"/usr/local/lib/python3.10/dist-packages/paddleocr/tools/infer/predict_rec.py\", line 609, in __call__\n",
            "    self.predictor.run()\n",
            "  File \"/usr/local/lib/python3.10/dist-packages/timeout_decorator/timeout_decorator.py\", line 69, in handler\n",
            "    _raise_exception(timeout_exception, exception_message)\n",
            "  File \"/usr/local/lib/python3.10/dist-packages/timeout_decorator/timeout_decorator.py\", line 45, in _raise_exception\n",
            "    raise exception()\n",
            "timeout_decorator.timeout_decorator.TimeoutError: 'Timed Out'\n"
          ]
        },
        {
          "name": "stdout",
          "output_type": "stream",
          "text": [
            "[2023/07/22 10:31:51] ppocr WARNING: Since the angle classifier is not initialized, the angle classifier will not be uesd during the forward process\n"
          ]
        },
        {
          "name": "stderr",
          "output_type": "stream",
          "text": [
            "Process Process-27:\n",
            "Traceback (most recent call last):\n",
            "  File \"/usr/lib/python3.10/multiprocessing/process.py\", line 314, in _bootstrap\n",
            "    self.run()\n",
            "  File \"/usr/lib/python3.10/multiprocessing/process.py\", line 108, in run\n",
            "    self._target(*self._args, **self._kwargs)\n",
            "  File \"/usr/local/lib/python3.10/dist-packages/timeout_decorator/timeout_decorator.py\", line 82, in new_function\n",
            "    return function(*args, **kwargs)\n",
            "  File \"<ipython-input-31-864ac19e3ab7>\", line 6, in execute_function_and_get_output\n",
            "    output = my_func(path)\n",
            "  File \"<ipython-input-31-864ac19e3ab7>\", line 23, in my_func\n",
            "    result = ocr.ocr(img)\n",
            "  File \"/usr/local/lib/python3.10/dist-packages/paddleocr/paddleocr.py\", line 555, in ocr\n",
            "    dt_boxes, rec_res, _ = self.__call__(img, cls)\n",
            "  File \"/usr/local/lib/python3.10/dist-packages/paddleocr/tools/infer/predict_system.py\", line 95, in __call__\n",
            "    rec_res, elapse = self.text_recognizer(img_crop_list)\n",
            "  File \"/usr/local/lib/python3.10/dist-packages/paddleocr/tools/infer/predict_rec.py\", line 609, in __call__\n",
            "    self.predictor.run()\n",
            "  File \"/usr/local/lib/python3.10/dist-packages/timeout_decorator/timeout_decorator.py\", line 69, in handler\n",
            "    _raise_exception(timeout_exception, exception_message)\n",
            "  File \"/usr/local/lib/python3.10/dist-packages/timeout_decorator/timeout_decorator.py\", line 45, in _raise_exception\n",
            "    raise exception()\n",
            "timeout_decorator.timeout_decorator.TimeoutError: 'Timed Out'\n"
          ]
        },
        {
          "name": "stdout",
          "output_type": "stream",
          "text": [
            "[2023/07/22 10:31:53] ppocr WARNING: Since the angle classifier is not initialized, the angle classifier will not be uesd during the forward process\n",
            "\t 12 Pieces X 240g\n",
            "\n",
            " 5 Amul Spray IMF IMS - 2pc (240pc 21grm)\n",
            "[2023/07/22 10:31:54] ppocr WARNING: Since the angle classifier is not initialized, the angle classifier will not be uesd during the forward process\n",
            "\t 2 Pieces (240 Pieces X 21g)\n",
            "[2023/07/22 10:31:56] ppocr WARNING: Since the angle classifier is not initialized, the angle classifier will not be uesd during the forward process\n"
          ]
        },
        {
          "name": "stderr",
          "output_type": "stream",
          "text": [
            "Process Process-30:\n",
            "Traceback (most recent call last):\n",
            "  File \"/usr/lib/python3.10/multiprocessing/process.py\", line 314, in _bootstrap\n",
            "    self.run()\n",
            "  File \"/usr/lib/python3.10/multiprocessing/process.py\", line 108, in run\n",
            "    self._target(*self._args, **self._kwargs)\n",
            "  File \"/usr/local/lib/python3.10/dist-packages/timeout_decorator/timeout_decorator.py\", line 82, in new_function\n",
            "    return function(*args, **kwargs)\n",
            "  File \"<ipython-input-31-864ac19e3ab7>\", line 6, in execute_function_and_get_output\n",
            "    output = my_func(path)\n",
            "  File \"<ipython-input-31-864ac19e3ab7>\", line 23, in my_func\n",
            "    result = ocr.ocr(img)\n",
            "  File \"/usr/local/lib/python3.10/dist-packages/paddleocr/paddleocr.py\", line 555, in ocr\n",
            "    dt_boxes, rec_res, _ = self.__call__(img, cls)\n",
            "  File \"/usr/local/lib/python3.10/dist-packages/paddleocr/tools/infer/predict_system.py\", line 95, in __call__\n",
            "    rec_res, elapse = self.text_recognizer(img_crop_list)\n",
            "  File \"/usr/local/lib/python3.10/dist-packages/paddleocr/tools/infer/predict_rec.py\", line 609, in __call__\n",
            "    self.predictor.run()\n",
            "  File \"/usr/local/lib/python3.10/dist-packages/timeout_decorator/timeout_decorator.py\", line 69, in handler\n",
            "    _raise_exception(timeout_exception, exception_message)\n",
            "  File \"/usr/local/lib/python3.10/dist-packages/timeout_decorator/timeout_decorator.py\", line 45, in _raise_exception\n",
            "    raise exception()\n",
            "timeout_decorator.timeout_decorator.TimeoutError: 'Timed Out'\n"
          ]
        },
        {
          "name": "stdout",
          "output_type": "stream",
          "text": [
            "[2023/07/22 10:31:59] ppocr WARNING: Since the angle classifier is not initialized, the angle classifier will not be uesd during the forward process\n"
          ]
        },
        {
          "name": "stderr",
          "output_type": "stream",
          "text": [
            "Process Process-31:\n",
            "Traceback (most recent call last):\n",
            "  File \"/usr/lib/python3.10/multiprocessing/process.py\", line 314, in _bootstrap\n",
            "    self.run()\n",
            "  File \"/usr/lib/python3.10/multiprocessing/process.py\", line 108, in run\n",
            "    self._target(*self._args, **self._kwargs)\n",
            "  File \"/usr/local/lib/python3.10/dist-packages/timeout_decorator/timeout_decorator.py\", line 82, in new_function\n",
            "    return function(*args, **kwargs)\n",
            "  File \"<ipython-input-31-864ac19e3ab7>\", line 6, in execute_function_and_get_output\n",
            "    output = my_func(path)\n",
            "  File \"<ipython-input-31-864ac19e3ab7>\", line 23, in my_func\n",
            "    result = ocr.ocr(img)\n",
            "  File \"/usr/local/lib/python3.10/dist-packages/paddleocr/paddleocr.py\", line 555, in ocr\n",
            "    dt_boxes, rec_res, _ = self.__call__(img, cls)\n",
            "  File \"/usr/local/lib/python3.10/dist-packages/paddleocr/tools/infer/predict_system.py\", line 95, in __call__\n",
            "    rec_res, elapse = self.text_recognizer(img_crop_list)\n",
            "  File \"/usr/local/lib/python3.10/dist-packages/paddleocr/tools/infer/predict_rec.py\", line 609, in __call__\n",
            "    self.predictor.run()\n",
            "  File \"/usr/local/lib/python3.10/dist-packages/timeout_decorator/timeout_decorator.py\", line 69, in handler\n",
            "    _raise_exception(timeout_exception, exception_message)\n",
            "  File \"/usr/local/lib/python3.10/dist-packages/timeout_decorator/timeout_decorator.py\", line 45, in _raise_exception\n",
            "    raise exception()\n",
            "timeout_decorator.timeout_decorator.TimeoutError: 'Timed Out'\n"
          ]
        },
        {
          "name": "stdout",
          "output_type": "stream",
          "text": [
            "[2023/07/22 10:32:02] ppocr WARNING: Since the angle classifier is not initialized, the angle classifier will not be uesd during the forward process\n",
            "\t 2 Pieces (240 Pieces X 21g)\n",
            "\n",
            " 6 Amul Spray IMF IMS - 2pc (420pc 13.5grm)\n",
            "[2023/07/22 10:32:04] ppocr WARNING: Since the angle classifier is not initialized, the angle classifier will not be uesd during the forward process\n"
          ]
        },
        {
          "name": "stderr",
          "output_type": "stream",
          "text": [
            "Process Process-33:\n",
            "Traceback (most recent call last):\n",
            "  File \"/usr/lib/python3.10/multiprocessing/process.py\", line 314, in _bootstrap\n",
            "    self.run()\n",
            "  File \"/usr/lib/python3.10/multiprocessing/process.py\", line 108, in run\n",
            "    self._target(*self._args, **self._kwargs)\n",
            "  File \"/usr/local/lib/python3.10/dist-packages/timeout_decorator/timeout_decorator.py\", line 82, in new_function\n",
            "    return function(*args, **kwargs)\n",
            "  File \"<ipython-input-31-864ac19e3ab7>\", line 6, in execute_function_and_get_output\n",
            "    output = my_func(path)\n",
            "  File \"<ipython-input-31-864ac19e3ab7>\", line 23, in my_func\n",
            "    result = ocr.ocr(img)\n",
            "  File \"/usr/local/lib/python3.10/dist-packages/paddleocr/paddleocr.py\", line 555, in ocr\n",
            "    dt_boxes, rec_res, _ = self.__call__(img, cls)\n",
            "  File \"/usr/local/lib/python3.10/dist-packages/paddleocr/tools/infer/predict_system.py\", line 95, in __call__\n",
            "    rec_res, elapse = self.text_recognizer(img_crop_list)\n",
            "  File \"/usr/local/lib/python3.10/dist-packages/paddleocr/tools/infer/predict_rec.py\", line 609, in __call__\n",
            "    self.predictor.run()\n",
            "  File \"/usr/local/lib/python3.10/dist-packages/timeout_decorator/timeout_decorator.py\", line 69, in handler\n",
            "    _raise_exception(timeout_exception, exception_message)\n",
            "  File \"/usr/local/lib/python3.10/dist-packages/timeout_decorator/timeout_decorator.py\", line 45, in _raise_exception\n",
            "    raise exception()\n",
            "timeout_decorator.timeout_decorator.TimeoutError: 'Timed Out'\n"
          ]
        },
        {
          "name": "stdout",
          "output_type": "stream",
          "text": [
            "[2023/07/22 10:32:06] ppocr WARNING: Since the angle classifier is not initialized, the angle classifier will not be uesd during the forward process\n"
          ]
        },
        {
          "name": "stderr",
          "output_type": "stream",
          "text": [
            "Process Process-34:\n",
            "Traceback (most recent call last):\n",
            "  File \"/usr/lib/python3.10/multiprocessing/process.py\", line 314, in _bootstrap\n",
            "    self.run()\n",
            "  File \"/usr/lib/python3.10/multiprocessing/process.py\", line 108, in run\n",
            "    self._target(*self._args, **self._kwargs)\n",
            "  File \"/usr/local/lib/python3.10/dist-packages/timeout_decorator/timeout_decorator.py\", line 82, in new_function\n",
            "    return function(*args, **kwargs)\n",
            "  File \"<ipython-input-31-864ac19e3ab7>\", line 6, in execute_function_and_get_output\n",
            "    output = my_func(path)\n",
            "  File \"<ipython-input-31-864ac19e3ab7>\", line 23, in my_func\n",
            "    result = ocr.ocr(img)\n",
            "  File \"/usr/local/lib/python3.10/dist-packages/paddleocr/paddleocr.py\", line 555, in ocr\n",
            "    dt_boxes, rec_res, _ = self.__call__(img, cls)\n",
            "  File \"/usr/local/lib/python3.10/dist-packages/paddleocr/tools/infer/predict_system.py\", line 95, in __call__\n",
            "    rec_res, elapse = self.text_recognizer(img_crop_list)\n",
            "  File \"/usr/local/lib/python3.10/dist-packages/paddleocr/tools/infer/predict_rec.py\", line 609, in __call__\n",
            "    self.predictor.run()\n",
            "  File \"/usr/local/lib/python3.10/dist-packages/timeout_decorator/timeout_decorator.py\", line 69, in handler\n",
            "    _raise_exception(timeout_exception, exception_message)\n",
            "  File \"/usr/local/lib/python3.10/dist-packages/timeout_decorator/timeout_decorator.py\", line 45, in _raise_exception\n",
            "    raise exception()\n",
            "timeout_decorator.timeout_decorator.TimeoutError: 'Timed Out'\n"
          ]
        },
        {
          "name": "stdout",
          "output_type": "stream",
          "text": [
            "[2023/07/22 10:32:10] ppocr WARNING: Since the angle classifier is not initialized, the angle classifier will not be uesd during the forward process\n",
            "\t 2 Pieces (420 Pieces X 13.5g)\n",
            "[2023/07/22 10:32:12] ppocr WARNING: Since the angle classifier is not initialized, the angle classifier will not be uesd during the forward process\n",
            "\t 2 Pieces (420 Pieces X 13.5g)\n",
            "\n",
            " 7 Amulya Dairy Whitener - AR AP - 12pc 1kg\n",
            "[2023/07/22 10:32:14] ppocr WARNING: Since the angle classifier is not initialized, the angle classifier will not be uesd during the forward process\n",
            "7 Amulya Dairy Whitener - AR AP - 12pc 1kg\n",
            "[2023/07/22 10:32:16] ppocr WARNING: Since the angle classifier is not initialized, the angle classifier will not be uesd during the forward process\n",
            "\t 12 Pieces X 1kg\n",
            "[2023/07/22 10:32:16] ppocr WARNING: Since the angle classifier is not initialized, the angle classifier will not be uesd during the forward process\n",
            "\t 12 Pieces X 1kg\n",
            "[2023/07/22 10:32:17] ppocr WARNING: Since the angle classifier is not initialized, the angle classifier will not be uesd during the forward process\n",
            "7 Amulya Dairy Whitener - AR AP - 12pc 1kg\n",
            "\n",
            " 8 Amulya Dairy Whitener - AR AP - 24pc 500g\n",
            "[2023/07/22 10:32:19] ppocr WARNING: Since the angle classifier is not initialized, the angle classifier will not be uesd during the forward process\n",
            "\t 24 Pieces X 500g\n",
            "[2023/07/22 10:32:20] ppocr WARNING: Since the angle classifier is not initialized, the angle classifier will not be uesd during the forward process\n"
          ]
        },
        {
          "name": "stderr",
          "output_type": "stream",
          "text": [
            "Process Process-42:\n",
            "Traceback (most recent call last):\n",
            "  File \"/usr/lib/python3.10/multiprocessing/process.py\", line 314, in _bootstrap\n",
            "    self.run()\n",
            "  File \"/usr/lib/python3.10/multiprocessing/process.py\", line 108, in run\n",
            "    self._target(*self._args, **self._kwargs)\n",
            "  File \"/usr/local/lib/python3.10/dist-packages/timeout_decorator/timeout_decorator.py\", line 82, in new_function\n",
            "    return function(*args, **kwargs)\n",
            "  File \"<ipython-input-31-864ac19e3ab7>\", line 6, in execute_function_and_get_output\n",
            "    output = my_func(path)\n",
            "  File \"<ipython-input-31-864ac19e3ab7>\", line 23, in my_func\n",
            "    result = ocr.ocr(img)\n",
            "  File \"/usr/local/lib/python3.10/dist-packages/paddleocr/paddleocr.py\", line 555, in ocr\n",
            "    dt_boxes, rec_res, _ = self.__call__(img, cls)\n",
            "  File \"/usr/local/lib/python3.10/dist-packages/paddleocr/tools/infer/predict_system.py\", line 95, in __call__\n",
            "    rec_res, elapse = self.text_recognizer(img_crop_list)\n",
            "  File \"/usr/local/lib/python3.10/dist-packages/paddleocr/tools/infer/predict_rec.py\", line 609, in __call__\n",
            "    self.predictor.run()\n",
            "  File \"/usr/local/lib/python3.10/dist-packages/timeout_decorator/timeout_decorator.py\", line 69, in handler\n",
            "    _raise_exception(timeout_exception, exception_message)\n",
            "  File \"/usr/local/lib/python3.10/dist-packages/timeout_decorator/timeout_decorator.py\", line 45, in _raise_exception\n",
            "    raise exception()\n",
            "timeout_decorator.timeout_decorator.TimeoutError: 'Timed Out'\n"
          ]
        },
        {
          "name": "stdout",
          "output_type": "stream",
          "text": [
            "[2023/07/22 10:32:25] ppocr WARNING: Since the angle classifier is not initialized, the angle classifier will not be uesd during the forward process\n"
          ]
        },
        {
          "name": "stderr",
          "output_type": "stream",
          "text": [
            "Process Process-43:\n",
            "Traceback (most recent call last):\n",
            "  File \"/usr/lib/python3.10/multiprocessing/process.py\", line 314, in _bootstrap\n",
            "    self.run()\n",
            "  File \"/usr/lib/python3.10/multiprocessing/process.py\", line 108, in run\n",
            "    self._target(*self._args, **self._kwargs)\n",
            "  File \"/usr/local/lib/python3.10/dist-packages/timeout_decorator/timeout_decorator.py\", line 82, in new_function\n",
            "    return function(*args, **kwargs)\n",
            "  File \"<ipython-input-31-864ac19e3ab7>\", line 6, in execute_function_and_get_output\n",
            "    output = my_func(path)\n",
            "  File \"<ipython-input-31-864ac19e3ab7>\", line 23, in my_func\n",
            "    result = ocr.ocr(img)\n",
            "  File \"/usr/local/lib/python3.10/dist-packages/paddleocr/paddleocr.py\", line 555, in ocr\n",
            "    dt_boxes, rec_res, _ = self.__call__(img, cls)\n",
            "  File \"/usr/local/lib/python3.10/dist-packages/paddleocr/tools/infer/predict_system.py\", line 95, in __call__\n",
            "    rec_res, elapse = self.text_recognizer(img_crop_list)\n",
            "  File \"/usr/local/lib/python3.10/dist-packages/paddleocr/tools/infer/predict_rec.py\", line 609, in __call__\n",
            "    self.predictor.run()\n",
            "  File \"/usr/local/lib/python3.10/dist-packages/timeout_decorator/timeout_decorator.py\", line 69, in handler\n",
            "    _raise_exception(timeout_exception, exception_message)\n",
            "  File \"/usr/local/lib/python3.10/dist-packages/timeout_decorator/timeout_decorator.py\", line 45, in _raise_exception\n",
            "    raise exception()\n",
            "timeout_decorator.timeout_decorator.TimeoutError: 'Timed Out'\n"
          ]
        },
        {
          "name": "stdout",
          "output_type": "stream",
          "text": [
            "[2023/07/22 10:32:27] ppocr WARNING: Since the angle classifier is not initialized, the angle classifier will not be uesd during the forward process\n",
            "8 Amulya Dairy Whitener - AR AP - 24pc 500g\n",
            "\n",
            " 9 Amulya Dairy Whitener - AR AP - 2pc (240pc 21g)\n",
            "[2023/07/22 10:32:29] ppocr WARNING: Since the angle classifier is not initialized, the angle classifier will not be uesd during the forward process\n",
            "\t 2 Pieces (240 Pieces X 21g)\n",
            "[2023/07/22 10:32:31] ppocr WARNING: Since the angle classifier is not initialized, the angle classifier will not be uesd during the forward process\n"
          ]
        },
        {
          "name": "stderr",
          "output_type": "stream",
          "text": [
            "Process Process-46:\n",
            "Traceback (most recent call last):\n",
            "  File \"/usr/lib/python3.10/multiprocessing/process.py\", line 314, in _bootstrap\n",
            "    self.run()\n",
            "  File \"/usr/lib/python3.10/multiprocessing/process.py\", line 108, in run\n",
            "    self._target(*self._args, **self._kwargs)\n",
            "  File \"/usr/local/lib/python3.10/dist-packages/timeout_decorator/timeout_decorator.py\", line 82, in new_function\n",
            "    return function(*args, **kwargs)\n",
            "  File \"<ipython-input-31-864ac19e3ab7>\", line 6, in execute_function_and_get_output\n",
            "    output = my_func(path)\n",
            "  File \"<ipython-input-31-864ac19e3ab7>\", line 23, in my_func\n",
            "    result = ocr.ocr(img)\n",
            "  File \"/usr/local/lib/python3.10/dist-packages/paddleocr/paddleocr.py\", line 555, in ocr\n",
            "    dt_boxes, rec_res, _ = self.__call__(img, cls)\n",
            "  File \"/usr/local/lib/python3.10/dist-packages/paddleocr/tools/infer/predict_system.py\", line 95, in __call__\n",
            "    rec_res, elapse = self.text_recognizer(img_crop_list)\n",
            "  File \"/usr/local/lib/python3.10/dist-packages/paddleocr/tools/infer/predict_rec.py\", line 609, in __call__\n",
            "    self.predictor.run()\n",
            "  File \"/usr/local/lib/python3.10/dist-packages/timeout_decorator/timeout_decorator.py\", line 69, in handler\n",
            "    _raise_exception(timeout_exception, exception_message)\n",
            "  File \"/usr/local/lib/python3.10/dist-packages/timeout_decorator/timeout_decorator.py\", line 45, in _raise_exception\n",
            "    raise exception()\n",
            "timeout_decorator.timeout_decorator.TimeoutError: 'Timed Out'\n"
          ]
        },
        {
          "name": "stdout",
          "output_type": "stream",
          "text": [
            "[2023/07/22 10:32:33] ppocr WARNING: Since the angle classifier is not initialized, the angle classifier will not be uesd during the forward process\n",
            "\t 2 Pieces (240 Pieces X 21g)\n",
            "[2023/07/22 10:32:34] ppocr WARNING: Since the angle classifier is not initialized, the angle classifier will not be uesd during the forward process\n",
            "9 Amulya Dairy Whitener - AR AP - 2pc (240pc 21g)\n"
          ]
        }
      ],
      "source": [
        "my_path = '/content/Box Counting Details/Amul Powder/'\n",
        "files = sorted(os.listdir(my_path))\n",
        "times = []\n",
        "f = '6 Amul Spray IMF IMS - 2pc (420pc 13.5grm)'\n",
        "for f in files:\n",
        "    if '.xlsx' in f: continue\n",
        "    print('\\n',f)\n",
        "    for image in os.listdir(my_path+f):\n",
        "        if image[-3:]=='jpg' or image[-3:]=='png':\n",
        "            # Read the image file.\n",
        "            image_path = f\"{my_path}{f}/{image}\"\n",
        "\n",
        "            t1 = datetime.now()\n",
        "            run_function_with_timeout(image_path, timeout_sec=1.8)\n",
        "            t2 = datetime.now()\n",
        "            times.append(t2-t1)"
      ]
    },
    {
      "cell_type": "code",
      "execution_count": null,
      "metadata": {
        "colab": {
          "base_uri": "https://localhost:8080/"
        },
        "id": "HrKnmlUcWXXi",
        "outputId": "65ef6106-a200-4af2-f2c1-e3d7e5e8d76d"
      },
      "outputs": [
        {
          "name": "stdout",
          "output_type": "stream",
          "text": [
            "Average Time 0:00:02.045071\n"
          ]
        }
      ],
      "source": [
        "times = np.array(times)\n",
        "print('Average Time',np.mean(times))"
      ]
    },
    {
      "cell_type": "code",
      "execution_count": null,
      "metadata": {
        "colab": {
          "base_uri": "https://localhost:8080/"
        },
        "id": "Iit-BdSZY_5l",
        "outputId": "a0fee5c9-778e-4c20-9a2a-2272791a2416"
      },
      "outputs": [
        {
          "data": {
            "text/plain": [
              "datetime.timedelta(seconds=4, microseconds=777454)"
            ]
          },
          "execution_count": 35,
          "metadata": {},
          "output_type": "execute_result"
        }
      ],
      "source": [
        "max(times)"
      ]
    }
  ],
  "metadata": {
    "colab": {
      "collapsed_sections": [
        "PsMeUZ-lgq-T",
        "-mLyX-gUi4YV",
        "7mas-CN3pXXF"
      ],
      "provenance": []
    },
    "kernelspec": {
      "display_name": "Python 3",
      "name": "python3"
    },
    "language_info": {
      "name": "python"
    }
  },
  "nbformat": 4,
  "nbformat_minor": 0
}
