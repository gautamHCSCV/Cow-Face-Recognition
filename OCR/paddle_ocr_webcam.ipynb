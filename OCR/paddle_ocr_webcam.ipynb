{
  "cells": [
    {
      "cell_type": "markdown",
      "id": "ba0d9296-7fa6-4025-aedf-d2a19b05ff0d",
      "metadata": {
        "id": "ba0d9296-7fa6-4025-aedf-d2a19b05ff0d"
      },
      "source": [
        "# PaddleOCR with OpenVINO™\n",
        "\n",
        "This demo shows how to run PP-OCR model on OpenVINO natively. Instead of exporting the PaddlePaddle model to ONNX and then converting to the OpenVINO Intermediate Representation (OpenVINO IR) format with model conversion API, you can now read directly from the PaddlePaddle Model without any conversions. [PaddleOCR](https://github.com/PaddlePaddle/PaddleOCR) is an ultra-light OCR model trained with PaddlePaddle deep learning framework, that aims to create multilingual and practical OCR tools.\n",
        "\n",
        "The PaddleOCR pre-trained model used in the demo refers to the *\"Chinese and English ultra-lightweight PP-OCR model (9.4M)\"*. More open source pre-trained models can be downloaded at [PaddleOCR GitHub](https://github.com/PaddlePaddle/PaddleOCR) or [PaddleOCR Gitee](https://gitee.com/paddlepaddle/PaddleOCR). Working pipeline of the PaddleOCR is as follows:\n",
        "\n",
        "<img align='center' src= \"https://raw.githubusercontent.com/yoyowz/classification/master/images/pipeline.png\" alt=\"drawing\" width=\"1000\"/>\n",
        "\n",
        "> **NOTE**: To use this notebook with a webcam, you need to run the notebook on a computer with a webcam. If you run the notebook on a server, the webcam will not work. You can still do inference on a video file.\n",
        "\n",
        "<a id=\"0\"></a>\n",
        "Table of content:\n",
        "- [Imports](#1)\n",
        "    - [Select inference device](#2)\n",
        "    - [Models for PaddleOCR](#3)\n",
        "        - [Download the Model for Text **Detection**](#4)\n",
        "        - [Load the Model for Text **Detection**](#5)\n",
        "        - [Download the Model for Text **Recognition**](#6)\n",
        "        - [Load the Model for Text **Recognition** with Dynamic Shape](#7)\n",
        "    - [Preprocessing Image Functions for Text Detection and Recognition](#8)\n",
        "    - [Postprocessing Image for Text Detection](#9)\n",
        "    - [Main Processing Function for PaddleOCR](#10)\n",
        "- [Run Live PaddleOCR with OpenVINO](#11)\n"
      ]
    },
    {
      "cell_type": "code",
      "execution_count": null,
      "id": "448c7e9e",
      "metadata": {
        "id": "448c7e9e",
        "outputId": "54101b87-5d68-49a7-af54-99d7fa1879db",
        "colab": {
          "base_uri": "https://localhost:8080/"
        }
      },
      "outputs": [
        {
          "output_type": "stream",
          "name": "stdout",
          "text": [
            "\u001b[2K     \u001b[90m━━━━━━━━━━━━━━━━━━━━━━━━━━━━━━━━━━━━━━━━\u001b[0m \u001b[32m5.9/5.9 MB\u001b[0m \u001b[31m35.0 MB/s\u001b[0m eta \u001b[36m0:00:00\u001b[0m\n",
            "\u001b[?25h  Preparing metadata (setup.py) ... \u001b[?25l\u001b[?25hdone\n",
            "\u001b[2K     \u001b[90m━━━━━━━━━━━━━━━━━━━━━━━━━━━━━━━━━━━━━━━━\u001b[0m \u001b[32m2.0/2.0 MB\u001b[0m \u001b[31m65.2 MB/s\u001b[0m eta \u001b[36m0:00:00\u001b[0m\n",
            "\u001b[2K     \u001b[90m━━━━━━━━━━━━━━━━━━━━━━━━━━━━━━━━━━━━━━━━\u001b[0m \u001b[32m36.8/36.8 MB\u001b[0m \u001b[31m40.6 MB/s\u001b[0m eta \u001b[36m0:00:00\u001b[0m\n",
            "\u001b[?25h  Building wheel for jstyleson (setup.py) ... \u001b[?25l\u001b[?25hdone\n",
            "Collecting paddleocr\n",
            "  Downloading paddleocr-2.7.0.2-py3-none-any.whl (466 kB)\n",
            "\u001b[2K     \u001b[90m━━━━━━━━━━━━━━━━━━━━━━━━━━━━━━━━━━━━━━━\u001b[0m \u001b[32m466.1/466.1 kB\u001b[0m \u001b[31m5.0 MB/s\u001b[0m eta \u001b[36m0:00:00\u001b[0m\n",
            "\u001b[?25hRequirement already satisfied: shapely in /usr/local/lib/python3.10/dist-packages (from paddleocr) (2.0.1)\n",
            "Requirement already satisfied: scikit-image in /usr/local/lib/python3.10/dist-packages (from paddleocr) (0.19.3)\n",
            "Requirement already satisfied: imgaug in /usr/local/lib/python3.10/dist-packages (from paddleocr) (0.4.0)\n",
            "Collecting pyclipper (from paddleocr)\n",
            "  Downloading pyclipper-1.3.0.post4-cp310-cp310-manylinux_2_12_x86_64.manylinux2010_x86_64.whl (813 kB)\n",
            "\u001b[2K     \u001b[90m━━━━━━━━━━━━━━━━━━━━━━━━━━━━━━━━━━━━━━━\u001b[0m \u001b[32m813.9/813.9 kB\u001b[0m \u001b[31m8.8 MB/s\u001b[0m eta \u001b[36m0:00:00\u001b[0m\n",
            "\u001b[?25hCollecting lmdb (from paddleocr)\n",
            "  Downloading lmdb-1.4.1-cp310-cp310-manylinux_2_17_x86_64.manylinux2014_x86_64.whl (299 kB)\n",
            "\u001b[2K     \u001b[90m━━━━━━━━━━━━━━━━━━━━━━━━━━━━━━━━━━━━━━━\u001b[0m \u001b[32m299.2/299.2 kB\u001b[0m \u001b[31m9.6 MB/s\u001b[0m eta \u001b[36m0:00:00\u001b[0m\n",
            "\u001b[?25hRequirement already satisfied: tqdm in /usr/local/lib/python3.10/dist-packages (from paddleocr) (4.66.1)\n",
            "Requirement already satisfied: numpy in /usr/local/lib/python3.10/dist-packages (from paddleocr) (1.23.5)\n",
            "Collecting visualdl (from paddleocr)\n",
            "  Downloading visualdl-2.5.3-py3-none-any.whl (6.3 MB)\n",
            "\u001b[2K     \u001b[90m━━━━━━━━━━━━━━━━━━━━━━━━━━━━━━━━━━━━━━━━\u001b[0m \u001b[32m6.3/6.3 MB\u001b[0m \u001b[31m18.4 MB/s\u001b[0m eta \u001b[36m0:00:00\u001b[0m\n",
            "\u001b[?25hCollecting rapidfuzz (from paddleocr)\n",
            "  Downloading rapidfuzz-3.2.0-cp310-cp310-manylinux_2_17_x86_64.manylinux2014_x86_64.whl (3.1 MB)\n",
            "\u001b[2K     \u001b[90m━━━━━━━━━━━━━━━━━━━━━━━━━━━━━━━━━━━━━━━━\u001b[0m \u001b[32m3.1/3.1 MB\u001b[0m \u001b[31m32.0 MB/s\u001b[0m eta \u001b[36m0:00:00\u001b[0m\n",
            "\u001b[?25hCollecting opencv-python<=4.6.0.66 (from paddleocr)\n",
            "  Downloading opencv_python-4.6.0.66-cp36-abi3-manylinux_2_17_x86_64.manylinux2014_x86_64.whl (60.9 MB)\n",
            "\u001b[2K     \u001b[90m━━━━━━━━━━━━━━━━━━━━━━━━━━━━━━━━━━━━━━━━\u001b[0m \u001b[32m60.9/60.9 MB\u001b[0m \u001b[31m8.2 MB/s\u001b[0m eta \u001b[36m0:00:00\u001b[0m\n",
            "\u001b[?25hCollecting opencv-contrib-python<=4.6.0.66 (from paddleocr)\n",
            "  Downloading opencv_contrib_python-4.6.0.66-cp36-abi3-manylinux_2_17_x86_64.manylinux2014_x86_64.whl (67.1 MB)\n",
            "\u001b[2K     \u001b[90m━━━━━━━━━━━━━━━━━━━━━━━━━━━━━━━━━━━━━━━━\u001b[0m \u001b[32m67.1/67.1 MB\u001b[0m \u001b[31m8.7 MB/s\u001b[0m eta \u001b[36m0:00:00\u001b[0m\n",
            "\u001b[?25hRequirement already satisfied: cython in /usr/local/lib/python3.10/dist-packages (from paddleocr) (0.29.36)\n",
            "Requirement already satisfied: lxml in /usr/local/lib/python3.10/dist-packages (from paddleocr) (4.9.3)\n",
            "Collecting premailer (from paddleocr)\n",
            "  Downloading premailer-3.10.0-py2.py3-none-any.whl (19 kB)\n",
            "Requirement already satisfied: openpyxl in /usr/local/lib/python3.10/dist-packages (from paddleocr) (3.1.2)\n",
            "Collecting attrdict (from paddleocr)\n",
            "  Downloading attrdict-2.0.1-py2.py3-none-any.whl (9.9 kB)\n",
            "Collecting PyMuPDF<1.21.0 (from paddleocr)\n",
            "  Downloading PyMuPDF-1.20.2-cp310-cp310-manylinux_2_17_x86_64.manylinux2014_x86_64.whl (8.9 MB)\n",
            "\u001b[2K     \u001b[90m━━━━━━━━━━━━━━━━━━━━━━━━━━━━━━━━━━━━━━━━\u001b[0m \u001b[32m8.9/8.9 MB\u001b[0m \u001b[31m93.1 MB/s\u001b[0m eta \u001b[36m0:00:00\u001b[0m\n",
            "\u001b[?25hRequirement already satisfied: Pillow in /usr/local/lib/python3.10/dist-packages (from paddleocr) (9.4.0)\n",
            "Collecting python-docx (from paddleocr)\n",
            "  Downloading python-docx-0.8.11.tar.gz (5.6 MB)\n",
            "\u001b[2K     \u001b[90m━━━━━━━━━━━━━━━━━━━━━━━━━━━━━━━━━━━━━━━━\u001b[0m \u001b[32m5.6/5.6 MB\u001b[0m \u001b[31m58.2 MB/s\u001b[0m eta \u001b[36m0:00:00\u001b[0m\n",
            "\u001b[?25h  Preparing metadata (setup.py) ... \u001b[?25l\u001b[?25hdone\n",
            "Requirement already satisfied: beautifulsoup4 in /usr/local/lib/python3.10/dist-packages (from paddleocr) (4.11.2)\n",
            "Requirement already satisfied: fonttools>=4.24.0 in /usr/local/lib/python3.10/dist-packages (from paddleocr) (4.42.0)\n",
            "Collecting fire>=0.3.0 (from paddleocr)\n",
            "  Downloading fire-0.5.0.tar.gz (88 kB)\n",
            "\u001b[2K     \u001b[90m━━━━━━━━━━━━━━━━━━━━━━━━━━━━━━━━━━━━━━━━\u001b[0m \u001b[32m88.3/88.3 kB\u001b[0m \u001b[31m9.8 MB/s\u001b[0m eta \u001b[36m0:00:00\u001b[0m\n",
            "\u001b[?25h  Preparing metadata (setup.py) ... \u001b[?25l\u001b[?25hdone\n",
            "Collecting pdf2docx (from paddleocr)\n",
            "  Downloading pdf2docx-0.5.6-py3-none-any.whl (148 kB)\n",
            "\u001b[2K     \u001b[90m━━━━━━━━━━━━━━━━━━━━━━━━━━━━━━━━━━━━━━\u001b[0m \u001b[32m148.4/148.4 kB\u001b[0m \u001b[31m15.3 MB/s\u001b[0m eta \u001b[36m0:00:00\u001b[0m\n",
            "\u001b[?25hRequirement already satisfied: six in /usr/local/lib/python3.10/dist-packages (from fire>=0.3.0->paddleocr) (1.16.0)\n",
            "Requirement already satisfied: termcolor in /usr/local/lib/python3.10/dist-packages (from fire>=0.3.0->paddleocr) (2.3.0)\n",
            "Requirement already satisfied: soupsieve>1.2 in /usr/local/lib/python3.10/dist-packages (from beautifulsoup4->paddleocr) (2.4.1)\n",
            "Requirement already satisfied: scipy in /usr/local/lib/python3.10/dist-packages (from imgaug->paddleocr) (1.10.1)\n",
            "Requirement already satisfied: matplotlib in /usr/local/lib/python3.10/dist-packages (from imgaug->paddleocr) (3.7.1)\n",
            "Requirement already satisfied: imageio in /usr/local/lib/python3.10/dist-packages (from imgaug->paddleocr) (2.31.1)\n",
            "Requirement already satisfied: networkx>=2.2 in /usr/local/lib/python3.10/dist-packages (from scikit-image->paddleocr) (2.8.8)\n",
            "Requirement already satisfied: tifffile>=2019.7.26 in /usr/local/lib/python3.10/dist-packages (from scikit-image->paddleocr) (2023.8.12)\n",
            "Requirement already satisfied: PyWavelets>=1.1.1 in /usr/local/lib/python3.10/dist-packages (from scikit-image->paddleocr) (1.4.1)\n",
            "Requirement already satisfied: packaging>=20.0 in /usr/local/lib/python3.10/dist-packages (from scikit-image->paddleocr) (23.1)\n",
            "Requirement already satisfied: et-xmlfile in /usr/local/lib/python3.10/dist-packages (from openpyxl->paddleocr) (1.1.0)\n",
            "Collecting cssselect (from premailer->paddleocr)\n",
            "  Downloading cssselect-1.2.0-py2.py3-none-any.whl (18 kB)\n",
            "Collecting cssutils (from premailer->paddleocr)\n",
            "  Downloading cssutils-2.7.1-py3-none-any.whl (399 kB)\n",
            "\u001b[2K     \u001b[90m━━━━━━━━━━━━━━━━━━━━━━━━━━━━━━━━━━━━━━\u001b[0m \u001b[32m399.7/399.7 kB\u001b[0m \u001b[31m36.1 MB/s\u001b[0m eta \u001b[36m0:00:00\u001b[0m\n",
            "\u001b[?25hRequirement already satisfied: requests in /usr/local/lib/python3.10/dist-packages (from premailer->paddleocr) (2.31.0)\n",
            "Requirement already satisfied: cachetools in /usr/local/lib/python3.10/dist-packages (from premailer->paddleocr) (5.3.1)\n",
            "Collecting bce-python-sdk (from visualdl->paddleocr)\n",
            "  Downloading bce_python_sdk-0.8.90-py3-none-any.whl (235 kB)\n",
            "\u001b[2K     \u001b[90m━━━━━━━━━━━━━━━━━━━━━━━━━━━━━━━━━━━━━━\u001b[0m \u001b[32m235.3/235.3 kB\u001b[0m \u001b[31m21.4 MB/s\u001b[0m eta \u001b[36m0:00:00\u001b[0m\n",
            "\u001b[?25hRequirement already satisfied: flask>=1.1.1 in /usr/local/lib/python3.10/dist-packages (from visualdl->paddleocr) (2.2.5)\n",
            "Collecting Flask-Babel>=3.0.0 (from visualdl->paddleocr)\n",
            "  Downloading flask_babel-3.1.0-py3-none-any.whl (9.6 kB)\n",
            "Requirement already satisfied: protobuf>=3.20.0 in /usr/local/lib/python3.10/dist-packages (from visualdl->paddleocr) (3.20.3)\n",
            "Requirement already satisfied: pandas in /usr/local/lib/python3.10/dist-packages (from visualdl->paddleocr) (1.5.3)\n",
            "Collecting rarfile (from visualdl->paddleocr)\n",
            "  Downloading rarfile-4.0-py3-none-any.whl (28 kB)\n",
            "Requirement already satisfied: psutil in /usr/local/lib/python3.10/dist-packages (from visualdl->paddleocr) (5.9.5)\n",
            "Requirement already satisfied: Werkzeug>=2.2.2 in /usr/local/lib/python3.10/dist-packages (from flask>=1.1.1->visualdl->paddleocr) (2.3.7)\n",
            "Requirement already satisfied: Jinja2>=3.0 in /usr/local/lib/python3.10/dist-packages (from flask>=1.1.1->visualdl->paddleocr) (3.1.2)\n",
            "Requirement already satisfied: itsdangerous>=2.0 in /usr/local/lib/python3.10/dist-packages (from flask>=1.1.1->visualdl->paddleocr) (2.1.2)\n",
            "Requirement already satisfied: click>=8.0 in /usr/local/lib/python3.10/dist-packages (from flask>=1.1.1->visualdl->paddleocr) (8.1.7)\n",
            "Requirement already satisfied: Babel>=2.12 in /usr/local/lib/python3.10/dist-packages (from Flask-Babel>=3.0.0->visualdl->paddleocr) (2.12.1)\n",
            "Requirement already satisfied: pytz>=2022.7 in /usr/local/lib/python3.10/dist-packages (from Flask-Babel>=3.0.0->visualdl->paddleocr) (2023.3)\n",
            "Collecting pycryptodome>=3.8.0 (from bce-python-sdk->visualdl->paddleocr)\n",
            "  Downloading pycryptodome-3.18.0-cp35-abi3-manylinux_2_17_x86_64.manylinux2014_x86_64.whl (2.1 MB)\n",
            "\u001b[2K     \u001b[90m━━━━━━━━━━━━━━━━━━━━━━━━━━━━━━━━━━━━━━━━\u001b[0m \u001b[32m2.1/2.1 MB\u001b[0m \u001b[31m78.9 MB/s\u001b[0m eta \u001b[36m0:00:00\u001b[0m\n",
            "\u001b[?25hRequirement already satisfied: future>=0.6.0 in /usr/local/lib/python3.10/dist-packages (from bce-python-sdk->visualdl->paddleocr) (0.18.3)\n",
            "Requirement already satisfied: contourpy>=1.0.1 in /usr/local/lib/python3.10/dist-packages (from matplotlib->imgaug->paddleocr) (1.1.0)\n",
            "Requirement already satisfied: cycler>=0.10 in /usr/local/lib/python3.10/dist-packages (from matplotlib->imgaug->paddleocr) (0.11.0)\n",
            "Requirement already satisfied: kiwisolver>=1.0.1 in /usr/local/lib/python3.10/dist-packages (from matplotlib->imgaug->paddleocr) (1.4.4)\n",
            "Requirement already satisfied: pyparsing>=2.3.1 in /usr/local/lib/python3.10/dist-packages (from matplotlib->imgaug->paddleocr) (3.1.1)\n",
            "Requirement already satisfied: python-dateutil>=2.7 in /usr/local/lib/python3.10/dist-packages (from matplotlib->imgaug->paddleocr) (2.8.2)\n",
            "Requirement already satisfied: charset-normalizer<4,>=2 in /usr/local/lib/python3.10/dist-packages (from requests->premailer->paddleocr) (3.2.0)\n",
            "Requirement already satisfied: idna<4,>=2.5 in /usr/local/lib/python3.10/dist-packages (from requests->premailer->paddleocr) (3.4)\n",
            "Requirement already satisfied: urllib3<3,>=1.21.1 in /usr/local/lib/python3.10/dist-packages (from requests->premailer->paddleocr) (2.0.4)\n",
            "Requirement already satisfied: certifi>=2017.4.17 in /usr/local/lib/python3.10/dist-packages (from requests->premailer->paddleocr) (2023.7.22)\n",
            "Requirement already satisfied: MarkupSafe>=2.0 in /usr/local/lib/python3.10/dist-packages (from Jinja2>=3.0->flask>=1.1.1->visualdl->paddleocr) (2.1.3)\n",
            "Building wheels for collected packages: fire, python-docx\n",
            "  Building wheel for fire (setup.py) ... \u001b[?25l\u001b[?25hdone\n",
            "  Created wheel for fire: filename=fire-0.5.0-py2.py3-none-any.whl size=116934 sha256=e197512e4a1d80d80c5ad8570e49b76a7e7959cf16fed4615ec88ad479871169\n",
            "  Stored in directory: /root/.cache/pip/wheels/90/d4/f7/9404e5db0116bd4d43e5666eaa3e70ab53723e1e3ea40c9a95\n",
            "  Building wheel for python-docx (setup.py) ... \u001b[?25l\u001b[?25hdone\n",
            "  Created wheel for python-docx: filename=python_docx-0.8.11-py3-none-any.whl size=184487 sha256=d6a1051606560c132facbadb714090570f8941b4e9a3113476e7d950d5945a5c\n",
            "  Stored in directory: /root/.cache/pip/wheels/80/27/06/837436d4c3bd989b957a91679966f207bfd71d358d63a8194d\n",
            "Successfully built fire python-docx\n",
            "Installing collected packages: rarfile, pyclipper, lmdb, rapidfuzz, python-docx, PyMuPDF, pycryptodome, opencv-python, opencv-contrib-python, fire, cssutils, cssselect, attrdict, premailer, pdf2docx, bce-python-sdk, Flask-Babel, visualdl, paddleocr\n",
            "  Attempting uninstall: opencv-python\n",
            "    Found existing installation: opencv-python 4.8.0.76\n",
            "    Uninstalling opencv-python-4.8.0.76:\n",
            "      Successfully uninstalled opencv-python-4.8.0.76\n",
            "  Attempting uninstall: opencv-contrib-python\n",
            "    Found existing installation: opencv-contrib-python 4.8.0.76\n",
            "    Uninstalling opencv-contrib-python-4.8.0.76:\n",
            "      Successfully uninstalled opencv-contrib-python-4.8.0.76\n",
            "Successfully installed Flask-Babel-3.1.0 PyMuPDF-1.20.2 attrdict-2.0.1 bce-python-sdk-0.8.90 cssselect-1.2.0 cssutils-2.7.1 fire-0.5.0 lmdb-1.4.1 opencv-contrib-python-4.6.0.66 opencv-python-4.6.0.66 paddleocr-2.7.0.2 pdf2docx-0.5.6 premailer-3.10.0 pyclipper-1.3.0.post4 pycryptodome-3.18.0 python-docx-0.8.11 rapidfuzz-3.2.0 rarfile-4.0 visualdl-2.5.3\n",
            "Looking in links: https://www.paddlepaddle.org.cn/whl/linux/mkl/avx/stable.html\n",
            "Collecting paddlepaddle-gpu==2.5.0.post118\n",
            "  Downloading https://paddle-wheel.bj.bcebos.com/2.5.0/linux/linux-gpu-cuda11.8-cudnn8.6-mkl-gcc8.2-avx/paddlepaddle_gpu-2.5.0.post118-cp310-cp310-linux_x86_64.whl (542.1 MB)\n",
            "\u001b[2K     \u001b[90m━━━━━━━━━━━━━━━━━━━━━━━━━━━━━━━━━━━━━━━\u001b[0m \u001b[32m542.1/542.1 MB\u001b[0m \u001b[31m2.3 MB/s\u001b[0m eta \u001b[36m0:00:00\u001b[0m\n",
            "\u001b[?25hCollecting httpx (from paddlepaddle-gpu==2.5.0.post118)\n",
            "  Downloading httpx-0.24.1-py3-none-any.whl (75 kB)\n",
            "\u001b[2K     \u001b[90m━━━━━━━━━━━━━━━━━━━━━━━━━━━━━━━━━━━━━━━━\u001b[0m \u001b[32m75.4/75.4 kB\u001b[0m \u001b[31m1.4 MB/s\u001b[0m eta \u001b[36m0:00:00\u001b[0m\n",
            "\u001b[?25hRequirement already satisfied: numpy>=1.13 in /usr/local/lib/python3.10/dist-packages (from paddlepaddle-gpu==2.5.0.post118) (1.23.5)\n",
            "Requirement already satisfied: Pillow in /usr/local/lib/python3.10/dist-packages (from paddlepaddle-gpu==2.5.0.post118) (9.4.0)\n",
            "Requirement already satisfied: decorator in /usr/local/lib/python3.10/dist-packages (from paddlepaddle-gpu==2.5.0.post118) (4.4.2)\n",
            "Collecting astor (from paddlepaddle-gpu==2.5.0.post118)\n",
            "  Downloading astor-0.8.1-py2.py3-none-any.whl (27 kB)\n",
            "Collecting paddle-bfloat==0.1.7 (from paddlepaddle-gpu==2.5.0.post118)\n",
            "  Downloading paddle_bfloat-0.1.7-cp310-cp310-manylinux_2_17_x86_64.manylinux2014_x86_64.whl (383 kB)\n",
            "\u001b[2K     \u001b[90m━━━━━━━━━━━━━━━━━━━━━━━━━━━━━━━━━━━━━━\u001b[0m \u001b[32m383.2/383.2 kB\u001b[0m \u001b[31m10.3 MB/s\u001b[0m eta \u001b[36m0:00:00\u001b[0m\n",
            "\u001b[?25hRequirement already satisfied: opt-einsum==3.3.0 in /usr/local/lib/python3.10/dist-packages (from paddlepaddle-gpu==2.5.0.post118) (3.3.0)\n",
            "Requirement already satisfied: protobuf>=3.20.2 in /usr/local/lib/python3.10/dist-packages (from paddlepaddle-gpu==2.5.0.post118) (3.20.3)\n",
            "Requirement already satisfied: certifi in /usr/local/lib/python3.10/dist-packages (from httpx->paddlepaddle-gpu==2.5.0.post118) (2023.7.22)\n",
            "Collecting httpcore<0.18.0,>=0.15.0 (from httpx->paddlepaddle-gpu==2.5.0.post118)\n",
            "  Downloading httpcore-0.17.3-py3-none-any.whl (74 kB)\n",
            "\u001b[2K     \u001b[90m━━━━━━━━━━━━━━━━━━━━━━━━━━━━━━━━━━━━━━━━\u001b[0m \u001b[32m74.5/74.5 kB\u001b[0m \u001b[31m8.6 MB/s\u001b[0m eta \u001b[36m0:00:00\u001b[0m\n",
            "\u001b[?25hRequirement already satisfied: idna in /usr/local/lib/python3.10/dist-packages (from httpx->paddlepaddle-gpu==2.5.0.post118) (3.4)\n",
            "Requirement already satisfied: sniffio in /usr/local/lib/python3.10/dist-packages (from httpx->paddlepaddle-gpu==2.5.0.post118) (1.3.0)\n",
            "Collecting h11<0.15,>=0.13 (from httpcore<0.18.0,>=0.15.0->httpx->paddlepaddle-gpu==2.5.0.post118)\n",
            "  Downloading h11-0.14.0-py3-none-any.whl (58 kB)\n",
            "\u001b[2K     \u001b[90m━━━━━━━━━━━━━━━━━━━━━━━━━━━━━━━━━━━━━━━━\u001b[0m \u001b[32m58.3/58.3 kB\u001b[0m \u001b[31m6.0 MB/s\u001b[0m eta \u001b[36m0:00:00\u001b[0m\n",
            "\u001b[?25hRequirement already satisfied: anyio<5.0,>=3.0 in /usr/local/lib/python3.10/dist-packages (from httpcore<0.18.0,>=0.15.0->httpx->paddlepaddle-gpu==2.5.0.post118) (3.7.1)\n",
            "Requirement already satisfied: exceptiongroup in /usr/local/lib/python3.10/dist-packages (from anyio<5.0,>=3.0->httpcore<0.18.0,>=0.15.0->httpx->paddlepaddle-gpu==2.5.0.post118) (1.1.3)\n",
            "Installing collected packages: paddle-bfloat, h11, astor, httpcore, httpx, paddlepaddle-gpu\n",
            "Successfully installed astor-0.8.1 h11-0.14.0 httpcore-0.17.3 httpx-0.24.1 paddle-bfloat-0.1.7 paddlepaddle-gpu-2.5.0.post118\n"
          ]
        }
      ],
      "source": [
        "!pip install -q \"openvino-dev>=2023.0.0\"\n",
        "!pip install paddleocr\n",
        "!python -m pip install paddlepaddle-gpu==2.5.0.post118 -f https://www.paddlepaddle.org.cn/whl/linux/mkl/avx/stable.html\n",
        "!pip install -q \"pyclipper>=1.2.1\" \"shapely>=1.7.1\""
      ]
    },
    {
      "cell_type": "markdown",
      "id": "0e5a53f7-e1c5-4aca-879f-da2dd081b989",
      "metadata": {
        "tags": [],
        "id": "0e5a53f7-e1c5-4aca-879f-da2dd081b989"
      },
      "source": [
        "<a id=\"1\"></a>\n",
        "## Imports [&#8657;](#0)\n"
      ]
    },
    {
      "cell_type": "code",
      "execution_count": null,
      "id": "f9486a04-b8bb-4bf5-9e13-845f2143a71b",
      "metadata": {
        "id": "f9486a04-b8bb-4bf5-9e13-845f2143a71b",
        "outputId": "06d2f59b-3e56-4a9e-92a0-9c9d643e2fab",
        "colab": {
          "base_uri": "https://localhost:8080/"
        }
      },
      "outputs": [
        {
          "output_type": "stream",
          "name": "stderr",
          "text": [
            "/usr/local/lib/python3.10/dist-packages/paddle/fluid/framework.py:549: UserWarning: You are using GPU version Paddle, but your CUDA device is not set properly. CPU device will be used by default.\n",
            "  warnings.warn(\n"
          ]
        }
      ],
      "source": [
        "import sys\n",
        "import cv2\n",
        "import numpy as np\n",
        "import paddle\n",
        "import math\n",
        "import time\n",
        "import collections\n",
        "from PIL import Image\n",
        "from pathlib import Path\n",
        "import tarfile\n",
        "\n",
        "from openvino.runtime import Core\n",
        "from IPython import display\n",
        "import copy"
      ]
    },
    {
      "cell_type": "code",
      "execution_count": null,
      "id": "4b54398c",
      "metadata": {
        "id": "4b54398c",
        "outputId": "a94c7113-9571-4a06-c236-020c569a0b26",
        "colab": {
          "base_uri": "https://localhost:8080/"
        }
      },
      "outputs": [
        {
          "output_type": "stream",
          "name": "stdout",
          "text": [
            "fatal: destination path 'openvino_notebooks' already exists and is not an empty directory.\n"
          ]
        }
      ],
      "source": [
        "# Import local modules\n",
        "\n",
        "utils_file_path = Path('../utils/notebook_utils.py')\n",
        "notebook_directory_path = Path('.')\n",
        "\n",
        "if not utils_file_path.exists():\n",
        "    !git clone --depth 1 https://github.com/igor-davidyuk/openvino_notebooks.git -b moving_data_to_cloud openvino_notebooks\n",
        "    utils_file_path = Path('./openvino_notebooks/notebooks/utils/notebook_utils.py')\n",
        "    notebook_directory_path = Path('./openvino_notebooks/notebooks/405-paddle-ocr-webcam/')\n",
        "\n",
        "sys.path.append(str(utils_file_path.parent))\n",
        "sys.path.append(str(notebook_directory_path))\n",
        "\n",
        "import notebook_utils as utils\n",
        "import pre_post_processing as processing"
      ]
    },
    {
      "cell_type": "markdown",
      "id": "ebe5b65c-ca61-4342-9e3b-475f76d1c096",
      "metadata": {
        "id": "ebe5b65c-ca61-4342-9e3b-475f76d1c096"
      },
      "source": [
        "<a id=\"2\"></a>\n",
        "### Select inference device [&#8657;](#0)\n",
        "\n",
        "select device from dropdown list for running inference using OpenVINO"
      ]
    },
    {
      "cell_type": "code",
      "execution_count": null,
      "id": "236d4528-1963-4776-bcaa-c95bd94430b4",
      "metadata": {
        "id": "236d4528-1963-4776-bcaa-c95bd94430b4",
        "outputId": "1ea03fa7-8c46-4cf5-ae30-c8df82622ee2",
        "colab": {
          "base_uri": "https://localhost:8080/",
          "height": 49,
          "referenced_widgets": [
            "09eade8ec1fa45098e8bf909a30b39aa",
            "00f290772460419aa7e3ce39a5275ad0",
            "d22769cea6d947469004f1fec27de08e"
          ]
        }
      },
      "outputs": [
        {
          "output_type": "display_data",
          "data": {
            "text/plain": [
              "Dropdown(description='Device:', index=1, options=('CPU', 'AUTO'), value='AUTO')"
            ],
            "application/vnd.jupyter.widget-view+json": {
              "version_major": 2,
              "version_minor": 0,
              "model_id": "09eade8ec1fa45098e8bf909a30b39aa"
            }
          },
          "metadata": {}
        }
      ],
      "source": [
        "import ipywidgets as widgets\n",
        "\n",
        "core = Core()\n",
        "\n",
        "device = widgets.Dropdown(\n",
        "    options=core.available_devices + [\"AUTO\"],\n",
        "    value='AUTO',\n",
        "    description='Device:',\n",
        "    disabled=False,\n",
        ")\n",
        "\n",
        "device"
      ]
    },
    {
      "cell_type": "markdown",
      "id": "ee4ea41d-18a8-4914-b367-d5717111d8e8",
      "metadata": {
        "id": "ee4ea41d-18a8-4914-b367-d5717111d8e8"
      },
      "source": [
        "<a id=\"3\"></a>\n",
        "### Models for PaddleOCR [&#8657;](#0)\n",
        "\n",
        "PaddleOCR includes two parts of deep learning models, text detection and text recognition. Pre-trained models used in the demo are downloaded and stored in the \"model\" folder.\n",
        "\n",
        "Only a few lines of code are required to run the model. First, initialize the runtime for inference. Then, read the network architecture and model weights from the `.pdmodel` and `.pdiparams` files to load to CPU/GPU."
      ]
    },
    {
      "cell_type": "code",
      "execution_count": null,
      "id": "789f3c2f-d692-458e-8ec9-b7c6e63e3c49",
      "metadata": {
        "id": "789f3c2f-d692-458e-8ec9-b7c6e63e3c49"
      },
      "outputs": [],
      "source": [
        "# Define the function to download text detection and recognition models from PaddleOCR resources.\n",
        "\n",
        "def run_model_download(model_url: str, model_file_path: Path) -> None:\n",
        "    \"\"\"\n",
        "    Download pre-trained models from PaddleOCR resources\n",
        "\n",
        "    Parameters:\n",
        "        model_url: url link to pre-trained models\n",
        "        model_file_path: file path to store the downloaded model\n",
        "    \"\"\"\n",
        "    archive_path = model_file_path.absolute().parent.parent / model_url.split(\"/\")[-1]\n",
        "    if model_file_path.is_file():\n",
        "        print(\"Model already exists\")\n",
        "    else:\n",
        "        # Download the model from the server, and untar it.\n",
        "        print(\"Downloading the pre-trained model... May take a while...\")\n",
        "\n",
        "        # Create a directory.\n",
        "        utils.download_file(model_url, archive_path.name, archive_path.parent)\n",
        "        print(\"Model Downloaded\")\n",
        "\n",
        "\n",
        "        file = tarfile.open(archive_path)\n",
        "        res = file.extractall(archive_path.parent)\n",
        "        file.close()\n",
        "        if not res:\n",
        "            print(f\"Model Extracted to {model_file_path}.\")\n",
        "        else:\n",
        "            print(\"Error Extracting the model. Please check the network.\")"
      ]
    },
    {
      "cell_type": "markdown",
      "id": "e541150c-0f98-41c6-a97c-97acb26efd2f",
      "metadata": {
        "id": "e541150c-0f98-41c6-a97c-97acb26efd2f"
      },
      "source": [
        "<a id=\"4\"></a>\n",
        "#### Download the Model for Text **Detection** [&#8657;](#0)\n"
      ]
    },
    {
      "cell_type": "code",
      "execution_count": null,
      "id": "02fe27ea-0aaf-4ecb-bce2-858d70c84e93",
      "metadata": {
        "id": "02fe27ea-0aaf-4ecb-bce2-858d70c84e93",
        "outputId": "658cb71b-9040-4937-8768-9e02820deefa",
        "colab": {
          "base_uri": "https://localhost:8080/"
        }
      },
      "outputs": [
        {
          "output_type": "stream",
          "name": "stdout",
          "text": [
            "Model already exists\n"
          ]
        }
      ],
      "source": [
        "# A directory where the model will be downloaded.\n",
        "\n",
        "det_model_url = \"https://storage.openvinotoolkit.org/repositories/openvino_notebooks/models/paddle-ocr/ch_PP-OCRv3_det_infer.tar\"\n",
        "det_model_file_path = Path(\"model/ch_PP-OCRv3_det_infer/inference.pdmodel\")\n",
        "\n",
        "run_model_download(det_model_url, det_model_file_path)"
      ]
    },
    {
      "cell_type": "markdown",
      "id": "2f454531-81f0-4468-9867-3f9de9775aaf",
      "metadata": {
        "id": "2f454531-81f0-4468-9867-3f9de9775aaf"
      },
      "source": [
        "<a id=\"5\"></a>\n",
        "#### Load the Model for Text **Detection** [&#8657;](#0)\n"
      ]
    },
    {
      "cell_type": "code",
      "execution_count": null,
      "id": "f9c5c83a-961c-4d98-8b20-5e96c8ef71f3",
      "metadata": {
        "id": "f9c5c83a-961c-4d98-8b20-5e96c8ef71f3"
      },
      "outputs": [],
      "source": [
        "# Initialize OpenVINO Runtime for text detection.\n",
        "core = Core()\n",
        "det_model = core.read_model(model=det_model_file_path)\n",
        "det_compiled_model = core.compile_model(model=det_model, device_name=device.value)\n",
        "\n",
        "# Get input and output nodes for text detection.\n",
        "det_input_layer = det_compiled_model.input(0)\n",
        "det_output_layer = det_compiled_model.output(0)"
      ]
    },
    {
      "cell_type": "markdown",
      "id": "5ec5c940-626c-4cf7-a90f-833200969846",
      "metadata": {
        "id": "5ec5c940-626c-4cf7-a90f-833200969846"
      },
      "source": [
        "<a id=\"6\"></a>\n",
        "#### Download the Model for Text **Recognition** [&#8657;](#0)\n"
      ]
    },
    {
      "cell_type": "code",
      "execution_count": null,
      "id": "89c0a07a-8186-47b5-ad95-f104a84d13d8",
      "metadata": {
        "id": "89c0a07a-8186-47b5-ad95-f104a84d13d8",
        "outputId": "47f87c3d-18ab-419a-a599-847a09a09c24",
        "colab": {
          "base_uri": "https://localhost:8080/"
        }
      },
      "outputs": [
        {
          "output_type": "stream",
          "name": "stdout",
          "text": [
            "Model already exists\n"
          ]
        }
      ],
      "source": [
        "rec_model_url = \"https://storage.openvinotoolkit.org/repositories/openvino_notebooks/models/paddle-ocr/ch_PP-OCRv3_rec_infer.tar\"\n",
        "rec_model_file_path = Path(\"model/ch_PP-OCRv3_rec_infer/inference.pdmodel\")\n",
        "\n",
        "run_model_download(rec_model_url, rec_model_file_path)"
      ]
    },
    {
      "cell_type": "markdown",
      "id": "20155aeb-401a-4759-baee-dcb24a605ece",
      "metadata": {
        "id": "20155aeb-401a-4759-baee-dcb24a605ece"
      },
      "source": [
        "<a id=\"7\"></a>\n",
        "#### Load the Model for Text **Recognition** with Dynamic Shape [&#8657;](#0)\n"
      ]
    },
    {
      "cell_type": "markdown",
      "id": "927c2017-33af-4449-a7a4-10dfea86c110",
      "metadata": {
        "id": "927c2017-33af-4449-a7a4-10dfea86c110"
      },
      "source": [
        "Input to text recognition model refers to detected bounding boxes with different image sizes, for example, dynamic input shapes. Hence:\n",
        "\n",
        "1. Input dimension with dynamic input shapes needs to be specified before loading text recognition model.\n",
        "2. Dynamic shape is specified by assigning -1 to the input dimension or by setting the upper bound of the input dimension using, for example, `Dimension(1, 512)`."
      ]
    },
    {
      "cell_type": "code",
      "execution_count": null,
      "id": "3d196913-6542-4177-87ab-c5aa1994f8e8",
      "metadata": {
        "id": "3d196913-6542-4177-87ab-c5aa1994f8e8"
      },
      "outputs": [],
      "source": [
        "# Read the model and corresponding weights from a file.\n",
        "rec_model = core.read_model(model=rec_model_file_path)\n",
        "\n",
        "# Assign dynamic shapes to every input layer on the last dimension.\n",
        "for input_layer in rec_model.inputs:\n",
        "    input_shape = input_layer.partial_shape\n",
        "    input_shape[3] = -1\n",
        "    rec_model.reshape({input_layer: input_shape})\n",
        "\n",
        "rec_compiled_model = core.compile_model(model=rec_model, device_name=\"AUTO\")\n",
        "\n",
        "# Get input and output nodes.\n",
        "rec_input_layer = rec_compiled_model.input(0)\n",
        "rec_output_layer = rec_compiled_model.output(0)"
      ]
    },
    {
      "cell_type": "markdown",
      "id": "573a1a11-faec-41af-bf43-08b90d28cec3",
      "metadata": {
        "id": "573a1a11-faec-41af-bf43-08b90d28cec3"
      },
      "source": [
        "<a id=\"8\"></a>\n",
        "### Preprocessing Image Functions for Text Detection and Recognition [&#8657;](#0)\n"
      ]
    },
    {
      "cell_type": "markdown",
      "id": "fb3befa4-1cf8-4ac2-a5a0-e0e73498d755",
      "metadata": {
        "id": "fb3befa4-1cf8-4ac2-a5a0-e0e73498d755"
      },
      "source": [
        "Define preprocessing functions for text detection and recognition:\n",
        "1. Preprocessing for text detection: resize and normalize input images.\n",
        "2. Preprocessing for text recognition: resize and normalize detected box images to the same size (for example, `(3, 32, 320)` size for images with Chinese text) for easy batching in inference."
      ]
    },
    {
      "cell_type": "code",
      "execution_count": null,
      "id": "93bc8364-109b-4a32-b12b-bcb85f23b38c",
      "metadata": {
        "id": "93bc8364-109b-4a32-b12b-bcb85f23b38c"
      },
      "outputs": [],
      "source": [
        "# Preprocess for text detection.\n",
        "def image_preprocess(input_image, size):\n",
        "    \"\"\"\n",
        "    Preprocess input image for text detection\n",
        "\n",
        "    Parameters:\n",
        "        input_image: input image\n",
        "        size: value for the image to be resized for text detection model\n",
        "    \"\"\"\n",
        "    img = cv2.resize(input_image, (size, size))\n",
        "    img = np.transpose(img, [2, 0, 1]) / 255\n",
        "    img = np.expand_dims(img, 0)\n",
        "    # NormalizeImage: {mean: [0.485, 0.456, 0.406], std: [0.229, 0.224, 0.225], is_scale: True}\n",
        "    img_mean = np.array([0.485, 0.456, 0.406]).reshape((3, 1, 1))\n",
        "    img_std = np.array([0.229, 0.224, 0.225]).reshape((3, 1, 1))\n",
        "    img -= img_mean\n",
        "    img /= img_std\n",
        "    return img.astype(np.float32)"
      ]
    },
    {
      "cell_type": "code",
      "execution_count": null,
      "id": "9329d709-14bc-45aa-a1d7-d0d6d608933b",
      "metadata": {
        "id": "9329d709-14bc-45aa-a1d7-d0d6d608933b"
      },
      "outputs": [],
      "source": [
        "# Preprocess for text recognition.\n",
        "def resize_norm_img(img, max_wh_ratio):\n",
        "    \"\"\"\n",
        "    Resize input image for text recognition\n",
        "\n",
        "    Parameters:\n",
        "        img: bounding box image from text detection\n",
        "        max_wh_ratio: value for the resizing for text recognition model\n",
        "    \"\"\"\n",
        "    rec_image_shape = [3, 48, 320]\n",
        "    imgC, imgH, imgW = rec_image_shape\n",
        "    assert imgC == img.shape[2]\n",
        "    character_type = \"ch\"\n",
        "    if character_type == \"ch\":\n",
        "        imgW = int((32 * max_wh_ratio))\n",
        "    h, w = img.shape[:2]\n",
        "    ratio = w / float(h)\n",
        "    if math.ceil(imgH * ratio) > imgW:\n",
        "        resized_w = imgW\n",
        "    else:\n",
        "        resized_w = int(math.ceil(imgH * ratio))\n",
        "    resized_image = cv2.resize(img, (resized_w, imgH))\n",
        "    resized_image = resized_image.astype('float32')\n",
        "    resized_image = resized_image.transpose((2, 0, 1)) / 255\n",
        "    resized_image -= 0.5\n",
        "    resized_image /= 0.5\n",
        "    padding_im = np.zeros((imgC, imgH, imgW), dtype=np.float32)\n",
        "    padding_im[:, :, 0:resized_w] = resized_image\n",
        "    return padding_im\n",
        "\n",
        "\n",
        "def prep_for_rec(dt_boxes, frame):\n",
        "    \"\"\"\n",
        "    Preprocessing of the detected bounding boxes for text recognition\n",
        "\n",
        "    Parameters:\n",
        "        dt_boxes: detected bounding boxes from text detection\n",
        "        frame: original input frame\n",
        "    \"\"\"\n",
        "    ori_im = frame.copy()\n",
        "    img_crop_list = []\n",
        "    for bno in range(len(dt_boxes)):\n",
        "        tmp_box = copy.deepcopy(dt_boxes[bno])\n",
        "        img_crop = processing.get_rotate_crop_image(ori_im, tmp_box)\n",
        "        img_crop_list.append(img_crop)\n",
        "\n",
        "    img_num = len(img_crop_list)\n",
        "    # Calculate the aspect ratio of all text bars.\n",
        "    width_list = []\n",
        "    for img in img_crop_list:\n",
        "        width_list.append(img.shape[1] / float(img.shape[0]))\n",
        "\n",
        "    # Sorting can speed up the recognition process.\n",
        "    indices = np.argsort(np.array(width_list))\n",
        "    return img_crop_list, img_num, indices\n",
        "\n",
        "\n",
        "def batch_text_box(img_crop_list, img_num, indices, beg_img_no, batch_num):\n",
        "    \"\"\"\n",
        "    Batch for text recognition\n",
        "\n",
        "    Parameters:\n",
        "        img_crop_list: processed detected bounding box images\n",
        "        img_num: number of bounding boxes from text detection\n",
        "        indices: sorting for bounding boxes to speed up text recognition\n",
        "        beg_img_no: the beginning number of bounding boxes for each batch of text recognition inference\n",
        "        batch_num: number of images for each batch\n",
        "    \"\"\"\n",
        "    norm_img_batch = []\n",
        "    max_wh_ratio = 0\n",
        "    end_img_no = min(img_num, beg_img_no + batch_num)\n",
        "    for ino in range(beg_img_no, end_img_no):\n",
        "        h, w = img_crop_list[indices[ino]].shape[0:2]\n",
        "        wh_ratio = w * 1.0 / h\n",
        "        max_wh_ratio = max(max_wh_ratio, wh_ratio)\n",
        "    for ino in range(beg_img_no, end_img_no):\n",
        "        norm_img = resize_norm_img(img_crop_list[indices[ino]], max_wh_ratio)\n",
        "        norm_img = norm_img[np.newaxis, :]\n",
        "        norm_img_batch.append(norm_img)\n",
        "\n",
        "    norm_img_batch = np.concatenate(norm_img_batch)\n",
        "    norm_img_batch = norm_img_batch.copy()\n",
        "    return norm_img_batch"
      ]
    },
    {
      "cell_type": "markdown",
      "id": "5ee36029-eabd-4ffc-ab45-ac293b62f32b",
      "metadata": {
        "id": "5ee36029-eabd-4ffc-ab45-ac293b62f32b"
      },
      "source": [
        "<a id=\"9\"></a>\n",
        "### Postprocessing Image for Text Detection [&#8657;](#0)\n"
      ]
    },
    {
      "cell_type": "code",
      "execution_count": null,
      "id": "409df7bc-2236-47ef-8645-48e9e40d05f1",
      "metadata": {
        "id": "409df7bc-2236-47ef-8645-48e9e40d05f1"
      },
      "outputs": [],
      "source": [
        "def post_processing_detection(frame, det_results):\n",
        "    \"\"\"\n",
        "    Postprocess the results from text detection into bounding boxes\n",
        "\n",
        "    Parameters:\n",
        "        frame: input image\n",
        "        det_results: inference results from text detection model\n",
        "    \"\"\"\n",
        "    ori_im = frame.copy()\n",
        "    data = {'image': frame}\n",
        "    data_resize = processing.DetResizeForTest(data)\n",
        "    data_list = []\n",
        "    keep_keys = ['image', 'shape']\n",
        "    for key in keep_keys:\n",
        "        data_list.append(data_resize[key])\n",
        "    img, shape_list = data_list\n",
        "\n",
        "    shape_list = np.expand_dims(shape_list, axis=0)\n",
        "    pred = det_results[0]\n",
        "    if isinstance(pred, paddle.Tensor):\n",
        "        pred = pred.numpy()\n",
        "    segmentation = pred > 0.3\n",
        "\n",
        "    boxes_batch = []\n",
        "    for batch_index in range(pred.shape[0]):\n",
        "        src_h, src_w, ratio_h, ratio_w = shape_list[batch_index]\n",
        "        mask = segmentation[batch_index]\n",
        "        boxes, scores = processing.boxes_from_bitmap(pred[batch_index], mask, src_w, src_h)\n",
        "        boxes_batch.append({'points': boxes})\n",
        "    post_result = boxes_batch\n",
        "    dt_boxes = post_result[0]['points']\n",
        "    dt_boxes = processing.filter_tag_det_res(dt_boxes, ori_im.shape)\n",
        "    return dt_boxes"
      ]
    },
    {
      "cell_type": "markdown",
      "id": "01d3695c-42c3-43d3-8472-9f16913182bf",
      "metadata": {
        "id": "01d3695c-42c3-43d3-8472-9f16913182bf"
      },
      "source": [
        "<a id=\"10\"></a>\n",
        "### Main Processing Function for PaddleOCR [&#8657;](#0)\n"
      ]
    },
    {
      "cell_type": "markdown",
      "id": "17ce8c76-3ea5-402c-b820-a403bf12cc05",
      "metadata": {
        "id": "17ce8c76-3ea5-402c-b820-a403bf12cc05"
      },
      "source": [
        "Run `paddleOCR` function in different operations, either a webcam or a video file. See the list of procedures below:\n",
        "\n",
        "1. Create a video player to play with target fps (`utils.VideoPlayer`).\n",
        "2. Prepare a set of frames for text detection and recognition.\n",
        "3. Run AI inference for both text detection and recognition.\n",
        "4. Visualize the results."
      ]
    },
    {
      "cell_type": "code",
      "execution_count": null,
      "id": "874b545f",
      "metadata": {
        "id": "874b545f",
        "outputId": "0746d08b-e73b-43df-82b5-f7302416f0c2",
        "colab": {
          "base_uri": "https://localhost:8080/",
          "height": 66,
          "referenced_widgets": [
            "f97b7e3dbd3e479e8914ed8015c441d1",
            "f68389da56a14575b7f820f8a8776e0c",
            "c764fcd0e73b4321b1e426cc0fd64425",
            "5a20f659bce4401788088ecddd74c696",
            "d1737a2542284c469993125680a72340",
            "7238edf2c7bf4c99b4e6031ff7ec0547",
            "254a3ebb788b40d5a443761f1b35237a",
            "2ecf3c7147c04f7aa6135feb9e7387fc",
            "e57dde10009d448885f98e7106006ba8",
            "f8f22e93320f41a58b944514c60cd51d",
            "d5e95fd2985045a89b61c2b8f34f0cdc"
          ]
        }
      },
      "outputs": [
        {
          "output_type": "stream",
          "name": "stdout",
          "text": [
            "'fonts/simfang.ttf' already exists.\n"
          ]
        },
        {
          "output_type": "display_data",
          "data": {
            "text/plain": [
              "fonts/ppocr_keys_v1.txt:   0%|          | 0.00/17.3k [00:00<?, ?B/s]"
            ],
            "application/vnd.jupyter.widget-view+json": {
              "version_major": 2,
              "version_minor": 0,
              "model_id": "f97b7e3dbd3e479e8914ed8015c441d1"
            }
          },
          "metadata": {}
        }
      ],
      "source": [
        "# Download font and a character dictionary for printing OCR results.\n",
        "font_path = utils.download_file(\n",
        "    url='https://raw.githubusercontent.com/Halfish/lstm-ctc-ocr/master/fonts/simfang.ttf',\n",
        "    directory='fonts'\n",
        ")\n",
        "character_dictionary_path = utils.download_file(\n",
        "    url='https://raw.githubusercontent.com/WenmuZhou/PytorchOCR/master/torchocr/datasets/alphabets/ppocr_keys_v1.txt',\n",
        "    directory='fonts'\n",
        ")"
      ]
    },
    {
      "cell_type": "code",
      "source": [
        "def load_image_with_orientation(image_path):\n",
        "    img = Image.open(image_path)\n",
        "\n",
        "    # Check if the image has Exif data with orientation information\n",
        "    if hasattr(img, '_getexif'):\n",
        "        exif = img._getexif()\n",
        "        if exif is not None:\n",
        "            orientation = exif.get(0x0112)\n",
        "            # Orientation values: 1, 3, 6, 8 (See Exif documentation for details)\n",
        "            if orientation == 3:\n",
        "                img = img.rotate(180, expand=True)\n",
        "            elif orientation == 6:\n",
        "                img = img.rotate(270, expand=True)\n",
        "            elif orientation == 8:\n",
        "                img = img.rotate(90, expand=True)\n",
        "\n",
        "    return img"
      ],
      "metadata": {
        "id": "1fdQ-PGCc7k2"
      },
      "id": "1fdQ-PGCc7k2",
      "execution_count": null,
      "outputs": []
    },
    {
      "cell_type": "code",
      "source": [
        "def get_results(frame):\n",
        "    scale = 1280 / max(frame.shape)\n",
        "    if scale < 1:\n",
        "        frame = cv2.resize(src=frame, dsize=None, fx=scale, fy=scale,\n",
        "                            interpolation=cv2.INTER_AREA)\n",
        "    # Preprocess te image for text detection.\n",
        "    test_image = image_preprocess(frame, 640)\n",
        "    # Perform the inference step.\n",
        "    det_results = det_compiled_model([test_image])[det_output_layer]\n",
        "    dt_boxes = post_processing_detection(frame, det_results)\n",
        "\n",
        "    dt_boxes = processing.sorted_boxes(dt_boxes)\n",
        "    batch_num = 8\n",
        "    img_crop_list, img_num, indices = prep_for_rec(dt_boxes, frame)\n",
        "\n",
        "    rec_res = [['', 0.0]] * img_num\n",
        "    txts = []\n",
        "    scores = []\n",
        "\n",
        "    for beg_img_no in range(0, img_num, batch_num):\n",
        "\n",
        "        # Recognition starts from here.\n",
        "        norm_img_batch = batch_text_box(\n",
        "            img_crop_list, img_num, indices, beg_img_no, batch_num)\n",
        "\n",
        "        # Run inference for text recognition.\n",
        "        rec_results = rec_compiled_model([norm_img_batch])[rec_output_layer]\n",
        "\n",
        "        # Postprocessing recognition results.\n",
        "        postprocess_op = processing.build_post_process(processing.postprocess_params)\n",
        "        rec_result = postprocess_op(rec_results)\n",
        "        for rno in range(len(rec_result)):\n",
        "            rec_res[indices[beg_img_no + rno]] = rec_result[rno]\n",
        "        if rec_res:\n",
        "            txts = [rec_res[i][0] for i in range(len(rec_res))]\n",
        "            scores = [rec_res[i][1] for i in range(len(rec_res))]\n",
        "\n",
        "    print(txts)\n",
        "    return(txts, scores)"
      ],
      "metadata": {
        "id": "SXXh5u58Q9hK"
      },
      "id": "SXXh5u58Q9hK",
      "execution_count": null,
      "outputs": []
    },
    {
      "cell_type": "code",
      "source": [
        "img = np.array(load_image_with_orientation('/content/IMG-20230708-WA0064.jpg'))\n",
        "import matplotlib.pyplot as plt\n",
        "plt.imshow(img)"
      ],
      "metadata": {
        "colab": {
          "base_uri": "https://localhost:8080/",
          "height": 306
        },
        "id": "Ihv3TMWHaiVu",
        "outputId": "066bbceb-6cdd-4c38-bdc0-0b50b0d3240a"
      },
      "id": "Ihv3TMWHaiVu",
      "execution_count": null,
      "outputs": [
        {
          "output_type": "execute_result",
          "data": {
            "text/plain": [
              "<matplotlib.image.AxesImage at 0x7e5a7ca851b0>"
            ]
          },
          "metadata": {},
          "execution_count": 29
        },
        {
          "output_type": "display_data",
          "data": {
            "text/plain": [
              "<Figure size 640x480 with 1 Axes>"
            ],
            "image/png": "[encoded data removed]"
          },
          "metadata": {}
        }
      ]
    },
    {
      "cell_type": "code",
      "source": [
        "t1 = time.time()\n",
        "get_results(img)\n",
        "t2 = time.time()\n",
        "print(t2-t1)"
      ],
      "metadata": {
        "colab": {
          "base_uri": "https://localhost:8080/"
        },
        "id": "5WEdKwsSbJHI",
        "outputId": "92c59a80-6642-45cc-cf5b-471ab5f915f4"
      },
      "id": "5WEdKwsSbJHI",
      "execution_count": null,
      "outputs": [
        {
          "output_type": "stream",
          "name": "stdout",
          "text": [
            "['Ingredients', ':Butter,iodized salt, natural colour', 'AmulButter', '(annatto).', 'Nutritionalinfomation', 'Surngspercontain', 'AllergenInfomation:Containsmilk.', 'KEEPUNDERREFRIGERATION', 'Carohydratafe', 'WROA.standfotR', 'wanepetsetving', 'Majaiikin', 'Website:www.amul.com', 'Fsat', 'Weappreciateyourfeeback', 'Conatmer', 'Lio:No.10012021000071', '8', 'Neeigh0pecs', 'customercareamul.cop', 'GCHMMFdAnand3BB001', 'l']\n",
            "1.021115779876709\n"
          ]
        }
      ]
    },
    {
      "cell_type": "code",
      "source": [],
      "metadata": {
        "id": "8Inb2kIrbJJJ"
      },
      "id": "8Inb2kIrbJJJ",
      "execution_count": null,
      "outputs": []
    },
    {
      "cell_type": "code",
      "source": [],
      "metadata": {
        "id": "8j5APSVxaiZx"
      },
      "id": "8j5APSVxaiZx",
      "execution_count": null,
      "outputs": []
    },
    {
      "cell_type": "code",
      "execution_count": null,
      "id": "de5b68ee-bd25-4dd8-9e87-3fe6971c6e64",
      "metadata": {
        "id": "de5b68ee-bd25-4dd8-9e87-3fe6971c6e64"
      },
      "outputs": [],
      "source": [
        "def run_paddle_ocr(source=0, flip=False, use_popup=False, skip_first_frames=0):\n",
        "    \"\"\"\n",
        "    Main function to run the paddleOCR inference:\n",
        "    1. Create a video player to play with target fps (utils.VideoPlayer).\n",
        "    2. Prepare a set of frames for text detection and recognition.\n",
        "    3. Run AI inference for both text detection and recognition.\n",
        "    4. Visualize the results.\n",
        "\n",
        "    Parameters:\n",
        "        source: The webcam number to feed the video stream with primary webcam set to \"0\", or the video path.\n",
        "        flip: To be used by VideoPlayer function for flipping capture image.\n",
        "        use_popup: False for showing encoded frames over this notebook, True for creating a popup window.\n",
        "        skip_first_frames: Number of frames to skip at the beginning of the video.\n",
        "    \"\"\"\n",
        "    # Create a video player to play with target fps.\n",
        "    player = None\n",
        "    try:\n",
        "        player = utils.VideoPlayer(source=source, flip=flip, fps=30, skip_first_frames=skip_first_frames)\n",
        "        # Start video capturing.\n",
        "        player.start()\n",
        "        if use_popup:\n",
        "            title = \"Press ESC to Exit\"\n",
        "            cv2.namedWindow(winname=title, flags=cv2.WINDOW_GUI_NORMAL | cv2.WINDOW_AUTOSIZE)\n",
        "\n",
        "        processing_times = collections.deque()\n",
        "        while True:\n",
        "            # Grab the frame.\n",
        "            frame = player.next()\n",
        "            if frame is None:\n",
        "                print(\"Source ended\")\n",
        "                break\n",
        "            start_time_1 = time.time()\n",
        "            # If the frame is larger than full HD, reduce size to improve the performance.\n",
        "            scale = 1280 / max(frame.shape)\n",
        "            if scale < 1:\n",
        "                frame = cv2.resize(src=frame, dsize=None, fx=scale, fy=scale,\n",
        "                                   interpolation=cv2.INTER_AREA)\n",
        "            # Preprocess the image for text detection.\n",
        "            test_image = image_preprocess(frame, 640)\n",
        "\n",
        "            # Measure processing time for text detection.\n",
        "            start_time = time.time()\n",
        "            # Perform the inference step.\n",
        "            det_results = det_compiled_model([test_image])[det_output_layer]\n",
        "            stop_time = time.time()\n",
        "\n",
        "            # Postprocessing for Paddle Detection.\n",
        "            dt_boxes = post_processing_detection(frame, det_results)\n",
        "\n",
        "            processing_times.append(stop_time - start_time)\n",
        "            # Use processing times from last 200 frames.\n",
        "            if len(processing_times) > 200:\n",
        "                processing_times.popleft()\n",
        "            processing_time_det = np.mean(processing_times) * 1000\n",
        "\n",
        "            # Preprocess detection results for recognition.\n",
        "            dt_boxes = processing.sorted_boxes(dt_boxes)\n",
        "            batch_num = 6\n",
        "            img_crop_list, img_num, indices = prep_for_rec(dt_boxes, frame)\n",
        "\n",
        "            # For storing recognition results, include two parts:\n",
        "            # txts are the recognized text results, scores are the recognition confidence level.\n",
        "            rec_res = [['', 0.0]] * img_num\n",
        "            txts = []\n",
        "            scores = []\n",
        "\n",
        "            for beg_img_no in range(0, img_num, batch_num):\n",
        "\n",
        "                # Recognition starts from here.\n",
        "                norm_img_batch = batch_text_box(\n",
        "                    img_crop_list, img_num, indices, beg_img_no, batch_num)\n",
        "\n",
        "                # Run inference for text recognition.\n",
        "                rec_results = rec_compiled_model([norm_img_batch])[rec_output_layer]\n",
        "\n",
        "                # Postprocessing recognition results.\n",
        "                postprocess_op = processing.build_post_process(processing.postprocess_params)\n",
        "                rec_result = postprocess_op(rec_results)\n",
        "                for rno in range(len(rec_result)):\n",
        "                    rec_res[indices[beg_img_no + rno]] = rec_result[rno]\n",
        "                if rec_res:\n",
        "                    txts = [rec_res[i][0] for i in range(len(rec_res))]\n",
        "                    scores = [rec_res[i][1] for i in range(len(rec_res))]\n",
        "\n",
        "            image = Image.fromarray(cv2.cvtColor(frame, cv2.COLOR_BGR2RGB))\n",
        "            boxes = dt_boxes\n",
        "            # Draw text recognition results beside the image.\n",
        "            draw_img = processing.draw_ocr_box_txt(\n",
        "                image,\n",
        "                boxes,\n",
        "                txts,\n",
        "                scores,\n",
        "                drop_score=0.5,\n",
        "                font_path=str(font_path)\n",
        "            )\n",
        "\n",
        "            # Visualize the PaddleOCR results.\n",
        "            f_height, f_width = draw_img.shape[:2]\n",
        "            fps = 1000 / processing_time_det\n",
        "            cv2.putText(img=draw_img, text=f\"Inference time: {processing_time_det:.1f}ms ({fps:.1f} FPS)\",\n",
        "                        org=(20, 40),fontFace=cv2.FONT_HERSHEY_COMPLEX, fontScale=f_width / 1000,\n",
        "                        color=(0, 0, 255), thickness=1, lineType=cv2.LINE_AA)\n",
        "            stop_time_1 = time.time()\n",
        "            print(\"total inference time\",stop_time_1-start_time_1)\n",
        "            # Use this workaround if there is flickering.\n",
        "            if use_popup:\n",
        "                draw_img = cv2.cvtColor(draw_img, cv2.COLOR_RGB2BGR)\n",
        "                cv2.imshow(winname=title, mat=draw_img)\n",
        "                key = cv2.waitKey(1)\n",
        "                # escape = 27\n",
        "                if key == 27:\n",
        "                    break\n",
        "            else:\n",
        "                # Encode numpy array to jpg.\n",
        "                draw_img = cv2.cvtColor(draw_img, cv2.COLOR_RGB2BGR)\n",
        "                _, encoded_img = cv2.imencode(ext=\".jpg\", img=draw_img,\n",
        "                                              params=[cv2.IMWRITE_JPEG_QUALITY, 100])\n",
        "                # Create an IPython image.\n",
        "                i = display.Image(data=encoded_img)\n",
        "                # Display the image in this notebook.\n",
        "                display.clear_output(wait=True)\n",
        "                display.display(i)\n",
        "\n",
        "    # ctrl-c\n",
        "    except KeyboardInterrupt:\n",
        "        print(\"Interrupted\")\n",
        "    # any different error\n",
        "    except RuntimeError as e:\n",
        "        print(e)\n",
        "    finally:\n",
        "        if player is not None:\n",
        "            # Stop capturing.\n",
        "            player.stop()\n",
        "        if use_popup:\n",
        "            cv2.destroyAllWindows()"
      ]
    },
    {
      "cell_type": "markdown",
      "id": "92f8855f-418a-4bda-8799-0953dda895c5",
      "metadata": {
        "id": "92f8855f-418a-4bda-8799-0953dda895c5"
      },
      "source": [
        "<a id=\"11\"></a>\n",
        "## Run Live PaddleOCR with OpenVINO [&#8657;](#0)\n"
      ]
    },
    {
      "cell_type": "markdown",
      "id": "7642697d-d000-4a10-8e7b-2a519cf9e687",
      "metadata": {
        "id": "7642697d-d000-4a10-8e7b-2a519cf9e687"
      },
      "source": [
        "Use a webcam as the video input. By default, the primary webcam is set with `source=0`. If you have multiple webcams, each one will be assigned a consecutive number starting at 0. Set `flip=True` when using a front-facing camera. Some web browsers, especially Mozilla Firefox, may cause flickering. If you experience flickering, set `use_popup=True`.\n",
        "\n",
        "> **NOTE**: Popup mode may not work if you run this notebook on a remote computer.\n",
        "\n",
        "Run live PaddleOCR:"
      ]
    },
    {
      "cell_type": "code",
      "execution_count": null,
      "id": "dc274952-19aa-480d-ba50-a1146a89771b",
      "metadata": {
        "id": "dc274952-19aa-480d-ba50-a1146a89771b",
        "outputId": "c76d3ca5-07fd-4634-9798-4c5b751b6fec",
        "colab": {
          "base_uri": "https://localhost:8080/"
        }
      },
      "outputs": [
        {
          "output_type": "stream",
          "name": "stdout",
          "text": [
            "Cannot open camera 0\n"
          ]
        }
      ],
      "source": [
        "run_paddle_ocr(source=0, flip=False, use_popup=False)"
      ]
    },
    {
      "cell_type": "code",
      "source": [
        "from google.colab import drive\n",
        "drive.mount('/content/drive')"
      ],
      "metadata": {
        "colab": {
          "base_uri": "https://localhost:8080/"
        },
        "id": "5Un78e2QUWuW",
        "outputId": "06ae86f3-7cd1-4810-8697-34c9f218857b"
      },
      "id": "5Un78e2QUWuW",
      "execution_count": null,
      "outputs": [
        {
          "output_type": "stream",
          "name": "stdout",
          "text": [
            "Mounted at /content/drive\n"
          ]
        }
      ]
    },
    {
      "cell_type": "markdown",
      "id": "5e9c2356-16e2-4ec9-a41e-ae7d03a25b5e",
      "metadata": {
        "id": "5e9c2356-16e2-4ec9-a41e-ae7d03a25b5e"
      },
      "source": [
        "If you do not have a webcam, you can still run this demo with a video file. Any [format supported by OpenCV](https://docs.opencv.org/4.5.1/dd/d43/tutorial_py_video_display.html) will work."
      ]
    },
    {
      "cell_type": "code",
      "execution_count": null,
      "id": "e6c9d077-70df-4a28-a372-7ee5168f6720",
      "metadata": {
        "id": "e6c9d077-70df-4a28-a372-7ee5168f6720"
      },
      "outputs": [],
      "source": [
        "# Test OCR results on a video file.\n",
        "\n",
        "#video_file = \"https://raw.githubusercontent.com/yoyowz/classification/master/images/test.mp4\"\n",
        "video_file = \"/content/drive/MyDrive/crates1.mp4\"\n",
        "run_paddle_ocr(source=video_file, flip=False, use_popup=False, skip_first_frames=0)"
      ]
    },
    {
      "cell_type": "code",
      "source": [],
      "metadata": {
        "id": "9rQ3vbsrPxz-"
      },
      "id": "9rQ3vbsrPxz-",
      "execution_count": null,
      "outputs": []
    }
  ],
  "metadata": {
    "kernelspec": {
      "display_name": "Python 3 (ipykernel)",
      "language": "python",
      "name": "python3"
    },
    "language_info": {
      "codemirror_mode": {
        "name": "ipython",
        "version": 3
      },
      "file_extension": ".py",
      "mimetype": "text/x-python",
      "name": "python",
      "nbconvert_exporter": "python",
      "pygments_lexer": "ipython3",
      "version": "3.8.10"
    },
    "vscode": {
      "interpreter": {
        "hash": "cec18e25feb9469b5ff1085a8097bdcd86db6a4ac301d6aeff87d0f3e7ce4ca5"
      }
    },
    "widgets": {
      "application/vnd.jupyter.widget-state+json": {
        "09eade8ec1fa45098e8bf909a30b39aa": {
          "model_module": "@jupyter-widgets/controls",
          "model_name": "DropdownModel",
          "model_module_version": "1.5.0",
          "state": {
            "_dom_classes": [],
            "_model_module": "@jupyter-widgets/controls",
            "_model_module_version": "1.5.0",
            "_model_name": "DropdownModel",
            "_options_labels": [
              "CPU",
              "AUTO"
            ],
            "_view_count": null,
            "_view_module": "@jupyter-widgets/controls",
            "_view_module_version": "1.5.0",
            "_view_name": "DropdownView",
            "description": "Device:",
            "description_tooltip": null,
            "disabled": false,
            "index": 1,
            "layout": "IPY_MODEL_00f290772460419aa7e3ce39a5275ad0",
            "style": "IPY_MODEL_d22769cea6d947469004f1fec27de08e"
          }
        },
        "00f290772460419aa7e3ce39a5275ad0": {
          "model_module": "@jupyter-widgets/base",
          "model_name": "LayoutModel",
          "model_module_version": "1.2.0",
          "state": {
            "_model_module": "@jupyter-widgets/base",
            "_model_module_version": "1.2.0",
            "_model_name": "LayoutModel",
            "_view_count": null,
            "_view_module": "@jupyter-widgets/base",
            "_view_module_version": "1.2.0",
            "_view_name": "LayoutView",
            "align_content": null,
            "align_items": null,
            "align_self": null,
            "border": null,
            "bottom": null,
            "display": null,
            "flex": null,
            "flex_flow": null,
            "grid_area": null,
            "grid_auto_columns": null,
            "grid_auto_flow": null,
            "grid_auto_rows": null,
            "grid_column": null,
            "grid_gap": null,
            "grid_row": null,
            "grid_template_areas": null,
            "grid_template_columns": null,
            "grid_template_rows": null,
            "height": null,
            "justify_content": null,
            "justify_items": null,
            "left": null,
            "margin": null,
            "max_height": null,
            "max_width": null,
            "min_height": null,
            "min_width": null,
            "object_fit": null,
            "object_position": null,
            "order": null,
            "overflow": null,
            "overflow_x": null,
            "overflow_y": null,
            "padding": null,
            "right": null,
            "top": null,
            "visibility": null,
            "width": null
          }
        },
        "d22769cea6d947469004f1fec27de08e": {
          "model_module": "@jupyter-widgets/controls",
          "model_name": "DescriptionStyleModel",
          "model_module_version": "1.5.0",
          "state": {
            "_model_module": "@jupyter-widgets/controls",
            "_model_module_version": "1.5.0",
            "_model_name": "DescriptionStyleModel",
            "_view_count": null,
            "_view_module": "@jupyter-widgets/base",
            "_view_module_version": "1.2.0",
            "_view_name": "StyleView",
            "description_width": ""
          }
        },
        "f97b7e3dbd3e479e8914ed8015c441d1": {
          "model_module": "@jupyter-widgets/controls",
          "model_name": "HBoxModel",
          "model_module_version": "1.5.0",
          "state": {
            "_dom_classes": [],
            "_model_module": "@jupyter-widgets/controls",
            "_model_module_version": "1.5.0",
            "_model_name": "HBoxModel",
            "_view_count": null,
            "_view_module": "@jupyter-widgets/controls",
            "_view_module_version": "1.5.0",
            "_view_name": "HBoxView",
            "box_style": "",
            "children": [
              "IPY_MODEL_f68389da56a14575b7f820f8a8776e0c",
              "IPY_MODEL_c764fcd0e73b4321b1e426cc0fd64425",
              "IPY_MODEL_5a20f659bce4401788088ecddd74c696"
            ],
            "layout": "IPY_MODEL_d1737a2542284c469993125680a72340"
          }
        },
        "f68389da56a14575b7f820f8a8776e0c": {
          "model_module": "@jupyter-widgets/controls",
          "model_name": "HTMLModel",
          "model_module_version": "1.5.0",
          "state": {
            "_dom_classes": [],
            "_model_module": "@jupyter-widgets/controls",
            "_model_module_version": "1.5.0",
            "_model_name": "HTMLModel",
            "_view_count": null,
            "_view_module": "@jupyter-widgets/controls",
            "_view_module_version": "1.5.0",
            "_view_name": "HTMLView",
            "description": "",
            "description_tooltip": null,
            "layout": "IPY_MODEL_7238edf2c7bf4c99b4e6031ff7ec0547",
            "placeholder": "​",
            "style": "IPY_MODEL_254a3ebb788b40d5a443761f1b35237a",
            "value": "fonts/ppocr_keys_v1.txt: "
          }
        },
        "c764fcd0e73b4321b1e426cc0fd64425": {
          "model_module": "@jupyter-widgets/controls",
          "model_name": "FloatProgressModel",
          "model_module_version": "1.5.0",
          "state": {
            "_dom_classes": [],
            "_model_module": "@jupyter-widgets/controls",
            "_model_module_version": "1.5.0",
            "_model_name": "FloatProgressModel",
            "_view_count": null,
            "_view_module": "@jupyter-widgets/controls",
            "_view_module_version": "1.5.0",
            "_view_name": "ProgressView",
            "bar_style": "success",
            "description": "",
            "description_tooltip": null,
            "layout": "IPY_MODEL_2ecf3c7147c04f7aa6135feb9e7387fc",
            "max": 17673,
            "min": 0,
            "orientation": "horizontal",
            "style": "IPY_MODEL_e57dde10009d448885f98e7106006ba8",
            "value": 17673
          }
        },
        "5a20f659bce4401788088ecddd74c696": {
          "model_module": "@jupyter-widgets/controls",
          "model_name": "HTMLModel",
          "model_module_version": "1.5.0",
          "state": {
            "_dom_classes": [],
            "_model_module": "@jupyter-widgets/controls",
            "_model_module_version": "1.5.0",
            "_model_name": "HTMLModel",
            "_view_count": null,
            "_view_module": "@jupyter-widgets/controls",
            "_view_module_version": "1.5.0",
            "_view_name": "HTMLView",
            "description": "",
            "description_tooltip": null,
            "layout": "IPY_MODEL_f8f22e93320f41a58b944514c60cd51d",
            "placeholder": "​",
            "style": "IPY_MODEL_d5e95fd2985045a89b61c2b8f34f0cdc",
            "value": " 32.1k/? [00:00&lt;00:00, 1.16MB/s]"
          }
        },
        "d1737a2542284c469993125680a72340": {
          "model_module": "@jupyter-widgets/base",
          "model_name": "LayoutModel",
          "model_module_version": "1.2.0",
          "state": {
            "_model_module": "@jupyter-widgets/base",
            "_model_module_version": "1.2.0",
            "_model_name": "LayoutModel",
            "_view_count": null,
            "_view_module": "@jupyter-widgets/base",
            "_view_module_version": "1.2.0",
            "_view_name": "LayoutView",
            "align_content": null,
            "align_items": null,
            "align_self": null,
            "border": null,
            "bottom": null,
            "display": null,
            "flex": null,
            "flex_flow": null,
            "grid_area": null,
            "grid_auto_columns": null,
            "grid_auto_flow": null,
            "grid_auto_rows": null,
            "grid_column": null,
            "grid_gap": null,
            "grid_row": null,
            "grid_template_areas": null,
            "grid_template_columns": null,
            "grid_template_rows": null,
            "height": null,
            "justify_content": null,
            "justify_items": null,
            "left": null,
            "margin": null,
            "max_height": null,
            "max_width": null,
            "min_height": null,
            "min_width": null,
            "object_fit": null,
            "object_position": null,
            "order": null,
            "overflow": null,
            "overflow_x": null,
            "overflow_y": null,
            "padding": null,
            "right": null,
            "top": null,
            "visibility": null,
            "width": null
          }
        },
        "7238edf2c7bf4c99b4e6031ff7ec0547": {
          "model_module": "@jupyter-widgets/base",
          "model_name": "LayoutModel",
          "model_module_version": "1.2.0",
          "state": {
            "_model_module": "@jupyter-widgets/base",
            "_model_module_version": "1.2.0",
            "_model_name": "LayoutModel",
            "_view_count": null,
            "_view_module": "@jupyter-widgets/base",
            "_view_module_version": "1.2.0",
            "_view_name": "LayoutView",
            "align_content": null,
            "align_items": null,
            "align_self": null,
            "border": null,
            "bottom": null,
            "display": null,
            "flex": null,
            "flex_flow": null,
            "grid_area": null,
            "grid_auto_columns": null,
            "grid_auto_flow": null,
            "grid_auto_rows": null,
            "grid_column": null,
            "grid_gap": null,
            "grid_row": null,
            "grid_template_areas": null,
            "grid_template_columns": null,
            "grid_template_rows": null,
            "height": null,
            "justify_content": null,
            "justify_items": null,
            "left": null,
            "margin": null,
            "max_height": null,
            "max_width": null,
            "min_height": null,
            "min_width": null,
            "object_fit": null,
            "object_position": null,
            "order": null,
            "overflow": null,
            "overflow_x": null,
            "overflow_y": null,
            "padding": null,
            "right": null,
            "top": null,
            "visibility": null,
            "width": null
          }
        },
        "254a3ebb788b40d5a443761f1b35237a": {
          "model_module": "@jupyter-widgets/controls",
          "model_name": "DescriptionStyleModel",
          "model_module_version": "1.5.0",
          "state": {
            "_model_module": "@jupyter-widgets/controls",
            "_model_module_version": "1.5.0",
            "_model_name": "DescriptionStyleModel",
            "_view_count": null,
            "_view_module": "@jupyter-widgets/base",
            "_view_module_version": "1.2.0",
            "_view_name": "StyleView",
            "description_width": ""
          }
        },
        "2ecf3c7147c04f7aa6135feb9e7387fc": {
          "model_module": "@jupyter-widgets/base",
          "model_name": "LayoutModel",
          "model_module_version": "1.2.0",
          "state": {
            "_model_module": "@jupyter-widgets/base",
            "_model_module_version": "1.2.0",
            "_model_name": "LayoutModel",
            "_view_count": null,
            "_view_module": "@jupyter-widgets/base",
            "_view_module_version": "1.2.0",
            "_view_name": "LayoutView",
            "align_content": null,
            "align_items": null,
            "align_self": null,
            "border": null,
            "bottom": null,
            "display": null,
            "flex": null,
            "flex_flow": null,
            "grid_area": null,
            "grid_auto_columns": null,
            "grid_auto_flow": null,
            "grid_auto_rows": null,
            "grid_column": null,
            "grid_gap": null,
            "grid_row": null,
            "grid_template_areas": null,
            "grid_template_columns": null,
            "grid_template_rows": null,
            "height": null,
            "justify_content": null,
            "justify_items": null,
            "left": null,
            "margin": null,
            "max_height": null,
            "max_width": null,
            "min_height": null,
            "min_width": null,
            "object_fit": null,
            "object_position": null,
            "order": null,
            "overflow": null,
            "overflow_x": null,
            "overflow_y": null,
            "padding": null,
            "right": null,
            "top": null,
            "visibility": null,
            "width": null
          }
        },
        "e57dde10009d448885f98e7106006ba8": {
          "model_module": "@jupyter-widgets/controls",
          "model_name": "ProgressStyleModel",
          "model_module_version": "1.5.0",
          "state": {
            "_model_module": "@jupyter-widgets/controls",
            "_model_module_version": "1.5.0",
            "_model_name": "ProgressStyleModel",
            "_view_count": null,
            "_view_module": "@jupyter-widgets/base",
            "_view_module_version": "1.2.0",
            "_view_name": "StyleView",
            "bar_color": null,
            "description_width": ""
          }
        },
        "f8f22e93320f41a58b944514c60cd51d": {
          "model_module": "@jupyter-widgets/base",
          "model_name": "LayoutModel",
          "model_module_version": "1.2.0",
          "state": {
            "_model_module": "@jupyter-widgets/base",
            "_model_module_version": "1.2.0",
            "_model_name": "LayoutModel",
            "_view_count": null,
            "_view_module": "@jupyter-widgets/base",
            "_view_module_version": "1.2.0",
            "_view_name": "LayoutView",
            "align_content": null,
            "align_items": null,
            "align_self": null,
            "border": null,
            "bottom": null,
            "display": null,
            "flex": null,
            "flex_flow": null,
            "grid_area": null,
            "grid_auto_columns": null,
            "grid_auto_flow": null,
            "grid_auto_rows": null,
            "grid_column": null,
            "grid_gap": null,
            "grid_row": null,
            "grid_template_areas": null,
            "grid_template_columns": null,
            "grid_template_rows": null,
            "height": null,
            "justify_content": null,
            "justify_items": null,
            "left": null,
            "margin": null,
            "max_height": null,
            "max_width": null,
            "min_height": null,
            "min_width": null,
            "object_fit": null,
            "object_position": null,
            "order": null,
            "overflow": null,
            "overflow_x": null,
            "overflow_y": null,
            "padding": null,
            "right": null,
            "top": null,
            "visibility": null,
            "width": null
          }
        },
        "d5e95fd2985045a89b61c2b8f34f0cdc": {
          "model_module": "@jupyter-widgets/controls",
          "model_name": "DescriptionStyleModel",
          "model_module_version": "1.5.0",
          "state": {
            "_model_module": "@jupyter-widgets/controls",
            "_model_module_version": "1.5.0",
            "_model_name": "DescriptionStyleModel",
            "_view_count": null,
            "_view_module": "@jupyter-widgets/base",
            "_view_module_version": "1.2.0",
            "_view_name": "StyleView",
            "description_width": ""
          }
        }
      }
    },
    "colab": {
      "provenance": []
    }
  },
  "nbformat": 4,
  "nbformat_minor": 5
}